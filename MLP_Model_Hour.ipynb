{
  "cells": [
    {
      "cell_type": "code",
      "execution_count": 1,
      "metadata": {},
      "outputs": [],
      "source": [
        "#!pip install seaborn\n",
        "#!pip install openpyxl\n"
      ]
    },
    {
      "cell_type": "code",
      "execution_count": 2,
      "metadata": {
        "id": "naOfrff2U2Xy"
      },
      "outputs": [],
      "source": [
        "import pandas as pd\n",
        "import numpy as np\n",
        "import random as rd\n",
        "import time\n",
        "import csv\n",
        "import seaborn as sbs\n",
        "from sklearn.model_selection import RepeatedStratifiedKFold\n",
        "from sklearn.model_selection import train_test_split ,GridSearchCV\n",
        "import tensorflow as tf\n",
        "from tensorflow import keras\n",
        "from matplotlib import pyplot\n",
        "from sklearn.metrics import mean_squared_error\n",
        "from sklearn.metrics import median_absolute_error"
      ]
    },
    {
      "cell_type": "code",
      "execution_count": 3,
      "metadata": {
        "colab": {
          "base_uri": "https://localhost:8080/"
        },
        "id": "u5iIpJyzkmkW",
        "outputId": "00380b11-657f-4c91-cbc3-1194bcb79e40"
      },
      "outputs": [],
      "source": [
        "#\n",
        "# #from google.colab import drive\n",
        "#drive.mount('/content/drive')\n",
        "file_data = 'DS_Agua_2017_2022_por_ponto.csv'\n",
        "path_name='data/'\n",
        "path_name_results='results/'\n",
        "file_result = 'Result_MLP_Model_Hour.csv'"
      ]
    },
    {
      "cell_type": "code",
      "execution_count": 4,
      "metadata": {
        "id": "JPemdWEukqf-"
      },
      "outputs": [],
      "source": [
        "dataset = pd.read_csv(f'{path_name}{file_data}', sep =';', encoding = 'latin1', decimal='.')\n"
      ]
    },
    {
      "cell_type": "code",
      "execution_count": 5,
      "metadata": {
        "colab": {
          "base_uri": "https://localhost:8080/"
        },
        "id": "AuOW4pP6kunV",
        "outputId": "de56ea6e-5f26-4114-860e-ab9db4622133"
      },
      "outputs": [
        {
          "name": "stdout",
          "output_type": "stream",
          "text": [
            "<class 'pandas.core.frame.DataFrame'>\n",
            "Int64Index: 368849 entries, 1 to 368849\n",
            "Data columns (total 8 columns):\n",
            " #   Column                  Non-Null Count   Dtype  \n",
            "---  ------                  --------------   -----  \n",
            " 0   DT_MEDICAO_HORA         368849 non-null  object \n",
            " 1   PRECIPITACAO            368849 non-null  float64\n",
            " 2   PRESSAO_ATMOSFERICA     368849 non-null  float64\n",
            " 3   TEMPERATURA_DO_AR_C     368849 non-null  float64\n",
            " 4   UMIDADE_RELATIVA_DO_AR  368849 non-null  float64\n",
            " 5   VELOCIDADE_VENTO        368849 non-null  float64\n",
            " 6   SK_PONTO                368849 non-null  int64  \n",
            " 7   VL_MEDICAO              368849 non-null  float64\n",
            "dtypes: float64(6), int64(1), object(1)\n",
            "memory usage: 25.3+ MB\n"
          ]
        }
      ],
      "source": [
        "dataset.info()"
      ]
    },
    {
      "cell_type": "code",
      "execution_count": 6,
      "metadata": {
        "colab": {
          "base_uri": "https://localhost:8080/"
        },
        "id": "6o1Ml8Hwk11N",
        "outputId": "ac509433-15e6-4ba8-9a7b-c7be83813f97"
      },
      "outputs": [
        {
          "data": {
            "text/plain": [
              "DT_MEDICAO_HORA           0\n",
              "PRECIPITACAO              0\n",
              "PRESSAO_ATMOSFERICA       0\n",
              "TEMPERATURA_DO_AR_C       0\n",
              "UMIDADE_RELATIVA_DO_AR    0\n",
              "VELOCIDADE_VENTO          0\n",
              "SK_PONTO                  0\n",
              "VL_MEDICAO                0\n",
              "dtype: int64"
            ]
          },
          "execution_count": 6,
          "metadata": {},
          "output_type": "execute_result"
        }
      ],
      "source": [
        "#verifica se existe variáveis nulas \n",
        "dataset.isna().sum()"
      ]
    },
    {
      "cell_type": "code",
      "execution_count": 7,
      "metadata": {},
      "outputs": [],
      "source": [
        "def salvar_resultado(sk_ponto, ds_best_param, MSE, RMSE, MAE, MAPE, Duration):\n",
        "  #Script to write training cycle results\n",
        "  fields = ['SK_PONTO','Best Params','MSE','RMSE','MAE','MAPE','Duration']\n",
        "  data = [sk_ponto, ds_best_param, MSE, RMSE, MAE, MAPE, Duration]\n",
        "  with open(f'{path_name_results}{file_result}', \"a\") as csv_file:\n",
        "    writer = csv.writer(csv_file,delimiter=';')\n",
        "    writer.writerow(data)\n",
        "  print(fields)\n",
        "  print(data)\n",
        "    \n",
        "#Script to create the results file\n",
        "def criar_arquivo_resultado():\n",
        "  fields = ['SK_PONTO','Best Params','MSE','RMSE','MAE','MAPE','Duration']\n",
        "  with open(f'{path_name_results}{file_result}', \"w\") as csv_file:\n",
        "    writer = csv.writer(csv_file,delimiter=';')\n",
        "    writer.writerow(fields)    "
      ]
    },
    {
      "cell_type": "code",
      "execution_count": 8,
      "metadata": {},
      "outputs": [],
      "source": [
        "def previsao_MLP(sk_ponto, dataset):\n",
        "  # dataframe tratament\n",
        "  df = pd.DataFrame()\n",
        "  df['VL_MEDICAO']=dataset['VL_MEDICAO']  \n",
        "\n",
        "  # time serire transform - shit 1 step time\n",
        "  seqtemp=1\n",
        "  df['vl-1']=dataset['VL_MEDICAO'].shift(seqtemp)\n",
        "  df['tp-1']=dataset['TEMPERATURA_DO_AR_C']\n",
        "  df['pr-1']=dataset['PRESSAO_ATMOSFERICA']\n",
        "  df['vv-1']=dataset['VELOCIDADE_VENTO']\n",
        "  df['ur-1']=dataset['UMIDADE_RELATIVA_DO_AR']\n",
        "  df['ch-1']=dataset['PRECIPITACAO']  \n",
        "\n",
        "  df.dropna(inplace=True)\n",
        "  \n",
        "  \n",
        "  \n",
        "  #Split dataset in treinam /  75% treinam  25% test\n",
        "  nlinhas = int(np.round(df.shape[0] *0.75)) # \n",
        "  \n",
        "  max_size_train_split = int(np.round(nlinhas / 5)) \n",
        "  max_size__test_split = int(np.round((df.shape[0] - nlinhas) / 5))\n",
        "  size_split = 5\n",
        "  X_train = df.iloc[0:nlinhas,1:7]\n",
        "  y_train = df.iloc[0:nlinhas,0].values\n",
        "\n",
        "  X_test = df.iloc[nlinhas:dataset.shape[0],1:7] \n",
        "  y_test = df.iloc[nlinhas:dataset.shape[0],0].values\n",
        "  \n",
        "  \n",
        "  # Stores the training execution start time\n",
        "  Hora_Inicio = time.time()\n",
        "  \n",
        "  from sklearn.model_selection import TimeSeriesSplit\n",
        "  # Cross-validated for time series\n",
        "  ts_cv = TimeSeriesSplit(\n",
        "      n_splits=5, # Number of divisions\n",
        "      max_train_size=6785,    # maximum size of each set. of training\n",
        "      gap=2, # number of samples to exclude between each training and testing set\n",
        "      test_size=2261, # maximum size of each set. of test.\n",
        "  )\n",
        "  param_grid = {\n",
        "      'hidden_layer_sizes': [(4,6,1),(2,6,1),(6,12,1),(6,18,1)], # MLP layers\n",
        "#    'hidden_layer_sizes': [(6,12,1),(6,12,24,1),(6,18,1)], # MLP layers\n",
        "      'max_iter': [ 100, 150, 200], # maximum iterations\n",
        "      'activation': [ 'relu','identity'], # activation function\n",
        "      'solver': ['adam'], # weight optimization algorithm\n",
        "      'alpha': [0.0001, 0.001, 0.05],  # alpha strength of regularization\n",
        "  }\n",
        "  \n",
        "  from sklearn.neural_network import MLPRegressor\n",
        "  modelo = MLPRegressor(random_state=0)\n",
        "  \n",
        "  grid = GridSearchCV(modelo, param_grid, n_jobs= -1,scoring='neg_mean_absolute_percentage_error', cv=ts_cv, verbose=1)\n",
        "  grid.fit(np.array(X_train), np.array(y_train))\n",
        "  \n",
        "  resultado = str(grid.best_params_)\n",
        "  \n",
        "\n",
        "  predict=grid.predict(np.array(X_test))  \n",
        "\n",
        "  # Stores the training execution end time\n",
        "  Hora_Fim = time.time()  \n",
        "\n",
        "  #Calculate the duration of the training execution\n",
        "  Duracao = Hora_Fim - Hora_Inicio  \n",
        "\n",
        "  #Mean Squared Error (Mean Squared Difference Between Estimated Values and Actual Values) - MSE\n",
        "  MSE = mean_squared_error(y_test, predict)  \n",
        "\n",
        "  # Square Root of Mean Error - RMSE\n",
        "  RMSE = np.sqrt(mean_squared_error(y_test, predict))  \n",
        "\n",
        "  # Mean Absolute Distance or Mean Absolute Error - MAE\n",
        "  MAE= median_absolute_error(y_pred=predict, y_true = y_test)  \n",
        "\n",
        "  #Calculate the MAPE (Mean Absolute Percentage Error)\n",
        "  MAPE = ((np.mean(np.abs(y_test -predict) / (y_test)))) * 100   \n",
        "\n",
        "  salvar_resultado(sk_ponto, resultado, MSE, RMSE, MAE, MAPE, Duracao)"
      ]
    },
    {
      "cell_type": "code",
      "execution_count": 9,
      "metadata": {},
      "outputs": [
        {
          "name": "stdout",
          "output_type": "stream",
          "text": [
            "forecast for sk_ponto =  5\n",
            "Fitting 5 folds for each of 72 candidates, totalling 360 fits\n",
            "['SK_PONTO', 'Best Params', 'MSE', 'RMSE', 'MAE', 'MAPE', 'Duration']\n",
            "[5, \"{'activation': 'identity', 'alpha': 0.0001, 'hidden_layer_sizes': (2, 6, 1), 'max_iter': 200, 'solver': 'adam'}\", 5929.058020502218, 77.00037675558619, 48.58768183965401, 6.90323067500058, 375.3172609806061]\n",
            "forecast for sk_ponto =  6\n",
            "Fitting 5 folds for each of 72 candidates, totalling 360 fits\n"
          ]
        },
        {
          "name": "stderr",
          "output_type": "stream",
          "text": [
            "c:\\Python\\lib\\site-packages\\sklearn\\neural_network\\_multilayer_perceptron.py:692: ConvergenceWarning: Stochastic Optimizer: Maximum iterations (100) reached and the optimization hasn't converged yet.\n",
            "  warnings.warn(\n"
          ]
        },
        {
          "name": "stdout",
          "output_type": "stream",
          "text": [
            "['SK_PONTO', 'Best Params', 'MSE', 'RMSE', 'MAE', 'MAPE', 'Duration']\n",
            "[6, \"{'activation': 'relu', 'alpha': 0.0001, 'hidden_layer_sizes': (4, 6, 1), 'max_iter': 100, 'solver': 'adam'}\", 68684.89236394117, 262.078027243684, 250.7109329700351, 92.38962524388596, 254.2529513835907]\n",
            "forecast for sk_ponto =  7\n",
            "Fitting 5 folds for each of 72 candidates, totalling 360 fits\n",
            "['SK_PONTO', 'Best Params', 'MSE', 'RMSE', 'MAE', 'MAPE', 'Duration']\n",
            "[7, \"{'activation': 'identity', 'alpha': 0.0001, 'hidden_layer_sizes': (4, 6, 1), 'max_iter': 150, 'solver': 'adam'}\", 1929.5134627360912, 43.9262275040333, 24.31149361511953, 5.4027631013838295, 457.8954265117645]\n",
            "forecast for sk_ponto =  11\n",
            "Fitting 5 folds for each of 72 candidates, totalling 360 fits\n"
          ]
        }
      ],
      "source": [
        "#selects the identification points of each reservoir\n",
        "df_unique_pontos = dataset['SK_PONTO'].unique()\n",
        "\n",
        "#create file to results\n",
        "criar_arquivo_resultado()\n",
        "\n",
        "for sk in np.array(df_unique_pontos):\n",
        "    print('forecast for sk_ponto = ',sk)\n",
        "    df_ponto = dataset[dataset['SK_PONTO']==sk]\n",
        "    df_ponto = df_ponto.drop('SK_PONTO',axis=1)\n",
        "    grid = previsao_MLP(sk, df_ponto)"
      ]
    },
    {
      "cell_type": "markdown",
      "metadata": {
        "id": "MEevt86uejTw"
      },
      "source": [
        "\n"
      ]
    }
  ],
  "metadata": {
    "colab": {
      "provenance": []
    },
    "kernelspec": {
      "display_name": "Python 3.9.5 64-bit",
      "language": "python",
      "name": "python3"
    },
    "language_info": {
      "codemirror_mode": {
        "name": "ipython",
        "version": 3
      },
      "file_extension": ".py",
      "mimetype": "text/x-python",
      "name": "python",
      "nbconvert_exporter": "python",
      "pygments_lexer": "ipython3",
      "version": "3.9.5"
    },
    "vscode": {
      "interpreter": {
        "hash": "52634da84371cba311ea128a5ea7cdc41ff074b781779e754b270ff9f8153cee"
      }
    }
  },
  "nbformat": 4,
  "nbformat_minor": 0
}
