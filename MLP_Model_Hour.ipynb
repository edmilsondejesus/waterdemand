{
  "cells": [
    {
      "cell_type": "code",
      "execution_count": 1,
      "metadata": {},
      "outputs": [],
      "source": [
        "#!pip install seaborn\n",
        "#!pip install openpyxl\n"
      ]
    },
    {
      "cell_type": "code",
      "execution_count": 2,
      "metadata": {
        "id": "naOfrff2U2Xy"
      },
      "outputs": [],
      "source": [
        "import pandas as pd\n",
        "import numpy as np\n",
        "import random as rd\n",
        "import time\n",
        "import csv\n",
        "import seaborn as sbs\n",
        "from sklearn.model_selection import RepeatedStratifiedKFold\n",
        "from sklearn.model_selection import train_test_split ,GridSearchCV\n",
        "from sklearn.model_selection import TimeSeriesSplit\n",
        "from sklearn.neural_network import MLPRegressor\n",
        "import tensorflow as tf\n",
        "from tensorflow import keras\n",
        "from matplotlib import pyplot\n",
        "from sklearn.metrics import mean_squared_error\n",
        "from sklearn.metrics import median_absolute_error"
      ]
    },
    {
      "cell_type": "code",
      "execution_count": 3,
      "metadata": {
        "colab": {
          "base_uri": "https://localhost:8080/"
        },
        "id": "u5iIpJyzkmkW",
        "outputId": "00380b11-657f-4c91-cbc3-1194bcb79e40"
      },
      "outputs": [],
      "source": [
        "#\n",
        "# #from google.colab import drive\n",
        "#drive.mount('/content/drive')\n",
        "file_data = 'DS_Agua_2017_2022_por_ponto.csv'\n",
        "path_name='data/'\n",
        "path_name_results='results/'\n",
        "file_result = 'Result_MLP_Model_Hour.csv'"
      ]
    },
    {
      "cell_type": "code",
      "execution_count": 4,
      "metadata": {
        "id": "JPemdWEukqf-"
      },
      "outputs": [],
      "source": [
        "dataset = pd.read_csv(f'{path_name}{file_data}', sep =';', encoding = 'latin1', decimal='.')\n"
      ]
    },
    {
      "cell_type": "code",
      "execution_count": 5,
      "metadata": {
        "colab": {
          "base_uri": "https://localhost:8080/"
        },
        "id": "AuOW4pP6kunV",
        "outputId": "de56ea6e-5f26-4114-860e-ab9db4622133"
      },
      "outputs": [
        {
          "name": "stdout",
          "output_type": "stream",
          "text": [
            "<class 'pandas.core.frame.DataFrame'>\n",
            "Int64Index: 368849 entries, 1 to 368849\n",
            "Data columns (total 8 columns):\n",
            " #   Column                  Non-Null Count   Dtype  \n",
            "---  ------                  --------------   -----  \n",
            " 0   DT_MEDICAO_HORA         368849 non-null  object \n",
            " 1   PRECIPITACAO            368849 non-null  float64\n",
            " 2   PRESSAO_ATMOSFERICA     368849 non-null  float64\n",
            " 3   TEMPERATURA_DO_AR_C     368849 non-null  float64\n",
            " 4   UMIDADE_RELATIVA_DO_AR  368849 non-null  float64\n",
            " 5   VELOCIDADE_VENTO        368849 non-null  float64\n",
            " 6   SK_PONTO                368849 non-null  int64  \n",
            " 7   VL_MEDICAO              368849 non-null  float64\n",
            "dtypes: float64(6), int64(1), object(1)\n",
            "memory usage: 25.3+ MB\n"
          ]
        }
      ],
      "source": [
        "dataset.info()"
      ]
    },
    {
      "cell_type": "code",
      "execution_count": 6,
      "metadata": {
        "colab": {
          "base_uri": "https://localhost:8080/"
        },
        "id": "6o1Ml8Hwk11N",
        "outputId": "ac509433-15e6-4ba8-9a7b-c7be83813f97"
      },
      "outputs": [
        {
          "data": {
            "text/plain": [
              "DT_MEDICAO_HORA           0\n",
              "PRECIPITACAO              0\n",
              "PRESSAO_ATMOSFERICA       0\n",
              "TEMPERATURA_DO_AR_C       0\n",
              "UMIDADE_RELATIVA_DO_AR    0\n",
              "VELOCIDADE_VENTO          0\n",
              "SK_PONTO                  0\n",
              "VL_MEDICAO                0\n",
              "dtype: int64"
            ]
          },
          "execution_count": 6,
          "metadata": {},
          "output_type": "execute_result"
        }
      ],
      "source": [
        "#verifica se existe variáveis nulas \n",
        "dataset.isna().sum()"
      ]
    },
    {
      "cell_type": "code",
      "execution_count": 7,
      "metadata": {},
      "outputs": [],
      "source": [
        "def salvar_resultado(sk_ponto, ds_best_param, n_time_steps, MSE, RMSE, MAE, MAPE, Duration):\n",
        "  #Script to write training cycle results\n",
        "  data = [sk_ponto, ds_best_param, n_time_steps, MSE, RMSE, MAE, MAPE, Duration]\n",
        "  fields = ['SK_PONTO','Best Params','N_Past_Vl','MSE','RMSE','MAE','MAPE','Duration']\n",
        "  with open(f'{path_name_results}{file_result}', \"a\",newline='') as csv_file:\n",
        "    writer = csv.writer(csv_file,delimiter=';')\n",
        "    writer.writerow(data)  \n",
        "  print(fields)\n",
        "  print(data)\n",
        "    \n",
        "#Script to create the results file\n",
        "def criar_arquivo_resultado():\n",
        "  fields = ['SK_PONTO','Best Params','N_Past_Vl','MSE','RMSE','MAE','MAPE','Duration']\n",
        "  with open(f'{path_name_results}{file_result}', \"w\",newline='') as csv_file:\n",
        "    writer = csv.writer(csv_file,delimiter=';')\n",
        "    writer.writerow(fields)    "
      ]
    },
    {
      "cell_type": "code",
      "execution_count": 8,
      "metadata": {},
      "outputs": [],
      "source": [
        "def previsao_MLP(sk_ponto, dataset, n_time_steps):\n",
        "  # dataframe tratament\n",
        "  df = pd.DataFrame()\n",
        "  df['VL_MEDICAO']=dataset['VL_MEDICAO']  \n",
        "\n",
        "  # time serire transform - shit 1 step time\n",
        "\n",
        "  for n_step in range(1,n_time_steps+1,1):\n",
        "    df['vl-'+str(n_step)]=dataset['VL_MEDICAO'].shift(n_step)  \n",
        "    \n",
        "  df['tp-1']=dataset['TEMPERATURA_DO_AR_C']\n",
        "  df['pr-1']=dataset['PRESSAO_ATMOSFERICA']\n",
        "  df['vv-1']=dataset['VELOCIDADE_VENTO']\n",
        "  df['ur-1']=dataset['UMIDADE_RELATIVA_DO_AR']\n",
        "  df['ch-1']=dataset['PRECIPITACAO']  \n",
        "\n",
        "  df.dropna(inplace=True)\n",
        "  \n",
        "  \n",
        "  \n",
        "  #Split dataset in treinam /  75% treinam  25% test\n",
        "  nlinhas = int(np.round(df.shape[0] *0.75)) # \n",
        "  \n",
        "  max_size_train_split = int(np.round(nlinhas / 5)) \n",
        "  max_size__test_split = int(np.round((df.shape[0] - nlinhas) / 5))\n",
        "  size_split = 5\n",
        "  X_train = df.iloc[0:nlinhas,1: 6 + n_time_steps]\n",
        "  y_train = df.iloc[0:nlinhas,0].values\n",
        "\n",
        "  X_test = df.iloc[nlinhas:dataset.shape[0],1: 6 + n_time_steps] \n",
        "  y_test = df.iloc[nlinhas:dataset.shape[0],0].values\n",
        "  \n",
        "  \n",
        "  # Stores the training execution start time\n",
        "  Hora_Inicio = time.time()\n",
        "  \n",
        "  # Cross-validated for time series\n",
        "  ts_cv = TimeSeriesSplit(\n",
        "      n_splits=size_split, # Number of divisions\n",
        "      max_train_size=max_size_train_split,    # maximum size of each set. of training\n",
        "      gap=2, # number of samples to exclude between each training and testing set\n",
        "      test_size=max_size__test_split, # maximum size of each set. of test.\n",
        "  )\n",
        "  param_grid = {\n",
        "      'hidden_layer_sizes': [(4,6,1),(2,6,1),(6,12,1),(6,18,1)], # MLP layers\n",
        "      'max_iter': [ 500], # maximum iterations\n",
        "      'activation': [ 'relu','identity'], # activation function\n",
        "      'solver': ['adam'], # weight optimization algorithm\n",
        "      'alpha': [0.0001, 0.001, 0.01],  # alpha strength of regularization\n",
        "  }\n",
        "  \n",
        "  modelo = MLPRegressor(random_state=0)\n",
        "  \n",
        "  grid = GridSearchCV(modelo, param_grid, n_jobs= -1,scoring='neg_mean_absolute_percentage_error', cv=ts_cv, verbose=1)\n",
        "  grid.fit(np.array(X_train), np.array(y_train))\n",
        "  \n",
        "  resultado = str(grid.best_params_)\n",
        "  \n",
        "\n",
        "  predict=grid.predict(np.array(X_test))  \n",
        "\n",
        "  # Stores the training execution end time\n",
        "  Hora_Fim = time.time()  \n",
        "\n",
        "  #Calculate the duration of the training execution\n",
        "  Duracao = Hora_Fim - Hora_Inicio  \n",
        "\n",
        "  #Mean Squared Error (Mean Squared Difference Between Estimated Values and Actual Values) - MSE\n",
        "  MSE = mean_squared_error(y_test, predict)  \n",
        "\n",
        "  # Square Root of Mean Error - RMSE\n",
        "  RMSE = np.sqrt(mean_squared_error(y_test, predict))  \n",
        "\n",
        "  # Mean Absolute Distance or Mean Absolute Error - MAE\n",
        "  MAE= median_absolute_error(y_pred=predict, y_true = y_test)  \n",
        "\n",
        "  #Calculate the MAPE (Mean Absolute Percentage Error)\n",
        "  MAPE = ((np.mean(np.abs(y_test -predict) / (y_test)))) * 100   \n",
        "\n",
        "  salvar_resultado(sk_ponto, resultado, n_time_steps, MSE, RMSE, MAE, MAPE, Duracao)"
      ]
    },
    {
      "cell_type": "code",
      "execution_count": 9,
      "metadata": {},
      "outputs": [
        {
          "name": "stdout",
          "output_type": "stream",
          "text": [
            "forecast for sk_ponto =  5\n",
            "Fitting 5 folds for each of 24 candidates, totalling 120 fits\n",
            "['SK_PONTO', 'Best Params', 'N_Past_Vl', 'MSE', 'RMSE', 'MAE', 'MAPE', 'Duration']\n",
            "[5, \"{'activation': 'identity', 'alpha': 0.01, 'hidden_layer_sizes': (2, 6, 1), 'max_iter': 500, 'solver': 'adam'}\", 1, 5929.057996684803, 77.0003766009284, 48.5876842623058, 6.903230630534361, 213.92589831352234]\n",
            "Fitting 5 folds for each of 24 candidates, totalling 120 fits\n",
            "['SK_PONTO', 'Best Params', 'N_Past_Vl', 'MSE', 'RMSE', 'MAE', 'MAPE', 'Duration']\n",
            "[5, \"{'activation': 'identity', 'alpha': 0.0001, 'hidden_layer_sizes': (4, 6, 1), 'max_iter': 500, 'solver': 'adam'}\", 2, 5366.8695370511805, 73.25892121135269, 40.855912761857894, 6.348100316955294, 249.15943360328674]\n",
            "Fitting 5 folds for each of 24 candidates, totalling 120 fits\n",
            "['SK_PONTO', 'Best Params', 'N_Past_Vl', 'MSE', 'RMSE', 'MAE', 'MAPE', 'Duration']\n",
            "[5, \"{'activation': 'relu', 'alpha': 0.0001, 'hidden_layer_sizes': (6, 12, 1), 'max_iter': 500, 'solver': 'adam'}\", 3, 5177.372441056846, 71.95396056546745, 37.18504512980587, 6.025768592959125, 198.73602509498596]\n",
            "Fitting 5 folds for each of 24 candidates, totalling 120 fits\n",
            "['SK_PONTO', 'Best Params', 'N_Past_Vl', 'MSE', 'RMSE', 'MAE', 'MAPE', 'Duration']\n",
            "[5, \"{'activation': 'relu', 'alpha': 0.01, 'hidden_layer_sizes': (6, 12, 1), 'max_iter': 500, 'solver': 'adam'}\", 4, 5543.004167797967, 74.45135437181763, 39.76492439665287, 6.362898810347229, 215.4440860748291]\n",
            "Fitting 5 folds for each of 24 candidates, totalling 120 fits\n",
            "['SK_PONTO', 'Best Params', 'N_Past_Vl', 'MSE', 'RMSE', 'MAE', 'MAPE', 'Duration']\n",
            "[5, \"{'activation': 'identity', 'alpha': 0.0001, 'hidden_layer_sizes': (6, 18, 1), 'max_iter': 500, 'solver': 'adam'}\", 5, 5642.565198440968, 75.11701004726538, 41.85239263417685, 6.556154482457104, 227.34849500656128]\n",
            "Fitting 5 folds for each of 24 candidates, totalling 120 fits\n",
            "['SK_PONTO', 'Best Params', 'N_Past_Vl', 'MSE', 'RMSE', 'MAE', 'MAPE', 'Duration']\n",
            "[5, \"{'activation': 'identity', 'alpha': 0.01, 'hidden_layer_sizes': (2, 6, 1), 'max_iter': 500, 'solver': 'adam'}\", 6, 5745.414022404811, 75.7985093679606, 39.706880248138816, 6.304907465725031, 284.5650646686554]\n",
            "forecast for sk_ponto =  6\n",
            "Fitting 5 folds for each of 24 candidates, totalling 120 fits\n"
          ]
        },
        {
          "name": "stderr",
          "output_type": "stream",
          "text": [
            "c:\\Python\\lib\\site-packages\\sklearn\\neural_network\\_multilayer_perceptron.py:692: ConvergenceWarning: Stochastic Optimizer: Maximum iterations (500) reached and the optimization hasn't converged yet.\n",
            "  warnings.warn(\n"
          ]
        },
        {
          "name": "stdout",
          "output_type": "stream",
          "text": [
            "['SK_PONTO', 'Best Params', 'N_Past_Vl', 'MSE', 'RMSE', 'MAE', 'MAPE', 'Duration']\n",
            "[6, \"{'activation': 'relu', 'alpha': 0.0001, 'hidden_layer_sizes': (4, 6, 1), 'max_iter': 500, 'solver': 'adam'}\", 1, 40683.28334439916, 201.70097507052157, 183.4623861197153, 66.12621137150366, 241.04506993293762]\n",
            "Fitting 5 folds for each of 24 candidates, totalling 120 fits\n"
          ]
        },
        {
          "name": "stderr",
          "output_type": "stream",
          "text": [
            "c:\\Python\\lib\\site-packages\\sklearn\\neural_network\\_multilayer_perceptron.py:692: ConvergenceWarning: Stochastic Optimizer: Maximum iterations (500) reached and the optimization hasn't converged yet.\n",
            "  warnings.warn(\n"
          ]
        },
        {
          "name": "stdout",
          "output_type": "stream",
          "text": [
            "['SK_PONTO', 'Best Params', 'N_Past_Vl', 'MSE', 'RMSE', 'MAE', 'MAPE', 'Duration']\n",
            "[6, \"{'activation': 'relu', 'alpha': 0.001, 'hidden_layer_sizes': (2, 6, 1), 'max_iter': 500, 'solver': 'adam'}\", 2, 40849.012553961285, 202.11138650249592, 183.93641919482965, 66.30444020289656, 210.6477825641632]\n",
            "Fitting 5 folds for each of 24 candidates, totalling 120 fits\n"
          ]
        },
        {
          "name": "stderr",
          "output_type": "stream",
          "text": [
            "c:\\Python\\lib\\site-packages\\sklearn\\neural_network\\_multilayer_perceptron.py:692: ConvergenceWarning: Stochastic Optimizer: Maximum iterations (500) reached and the optimization hasn't converged yet.\n",
            "  warnings.warn(\n"
          ]
        },
        {
          "name": "stdout",
          "output_type": "stream",
          "text": [
            "['SK_PONTO', 'Best Params', 'N_Past_Vl', 'MSE', 'RMSE', 'MAE', 'MAPE', 'Duration']\n",
            "[6, \"{'activation': 'relu', 'alpha': 0.0001, 'hidden_layer_sizes': (6, 18, 1), 'max_iter': 500, 'solver': 'adam'}\", 3, 41301.086237995754, 203.2266868253177, 185.22300055201518, 66.78851815248656, 256.0730128288269]\n",
            "Fitting 5 folds for each of 24 candidates, totalling 120 fits\n"
          ]
        },
        {
          "name": "stderr",
          "output_type": "stream",
          "text": [
            "c:\\Python\\lib\\site-packages\\sklearn\\neural_network\\_multilayer_perceptron.py:692: ConvergenceWarning: Stochastic Optimizer: Maximum iterations (500) reached and the optimization hasn't converged yet.\n",
            "  warnings.warn(\n"
          ]
        },
        {
          "name": "stdout",
          "output_type": "stream",
          "text": [
            "['SK_PONTO', 'Best Params', 'N_Past_Vl', 'MSE', 'RMSE', 'MAE', 'MAPE', 'Duration']\n",
            "[6, \"{'activation': 'relu', 'alpha': 0.001, 'hidden_layer_sizes': (4, 6, 1), 'max_iter': 500, 'solver': 'adam'}\", 4, 41354.93144947888, 203.35911941557694, 185.34232237866655, 66.84680232706941, 264.64928793907166]\n",
            "Fitting 5 folds for each of 24 candidates, totalling 120 fits\n"
          ]
        },
        {
          "name": "stderr",
          "output_type": "stream",
          "text": [
            "c:\\Python\\lib\\site-packages\\sklearn\\neural_network\\_multilayer_perceptron.py:692: ConvergenceWarning: Stochastic Optimizer: Maximum iterations (500) reached and the optimization hasn't converged yet.\n",
            "  warnings.warn(\n"
          ]
        },
        {
          "name": "stdout",
          "output_type": "stream",
          "text": [
            "['SK_PONTO', 'Best Params', 'N_Past_Vl', 'MSE', 'RMSE', 'MAE', 'MAPE', 'Duration']\n",
            "[6, \"{'activation': 'relu', 'alpha': 0.0001, 'hidden_layer_sizes': (4, 6, 1), 'max_iter': 500, 'solver': 'adam'}\", 5, 4279.869840526519, 65.42071415481887, 30.121747922066163, 34.686173452638556, 293.76088976860046]\n",
            "Fitting 5 folds for each of 24 candidates, totalling 120 fits\n",
            "['SK_PONTO', 'Best Params', 'N_Past_Vl', 'MSE', 'RMSE', 'MAE', 'MAPE', 'Duration']\n",
            "[6, \"{'activation': 'relu', 'alpha': 0.001, 'hidden_layer_sizes': (6, 12, 1), 'max_iter': 500, 'solver': 'adam'}\", 6, 4493.017199194073, 67.02997239440035, 39.995450694452614, 36.82361543321307, 303.2732129096985]\n",
            "forecast for sk_ponto =  7\n",
            "Fitting 5 folds for each of 24 candidates, totalling 120 fits\n",
            "['SK_PONTO', 'Best Params', 'N_Past_Vl', 'MSE', 'RMSE', 'MAE', 'MAPE', 'Duration']\n",
            "[7, \"{'activation': 'relu', 'alpha': 0.001, 'hidden_layer_sizes': (2, 6, 1), 'max_iter': 500, 'solver': 'adam'}\", 1, 1757.241195166923, 41.919460816748625, 20.964072526361974, 5.036241277329338, 217.00281071662903]\n",
            "Fitting 5 folds for each of 24 candidates, totalling 120 fits\n",
            "['SK_PONTO', 'Best Params', 'N_Past_Vl', 'MSE', 'RMSE', 'MAE', 'MAPE', 'Duration']\n",
            "[7, \"{'activation': 'identity', 'alpha': 0.0001, 'hidden_layer_sizes': (2, 6, 1), 'max_iter': 500, 'solver': 'adam'}\", 2, 1875.8611469347902, 43.311212716048374, 20.388674354979457, 5.101130139199499, 256.3952157497406]\n",
            "Fitting 5 folds for each of 24 candidates, totalling 120 fits\n",
            "['SK_PONTO', 'Best Params', 'N_Past_Vl', 'MSE', 'RMSE', 'MAE', 'MAPE', 'Duration']\n",
            "[7, \"{'activation': 'relu', 'alpha': 0.001, 'hidden_layer_sizes': (6, 12, 1), 'max_iter': 500, 'solver': 'adam'}\", 3, 1946.6313738368347, 44.12064566432403, 20.711434010502785, 5.204573496854876, 233.79882073402405]\n",
            "Fitting 5 folds for each of 24 candidates, totalling 120 fits\n",
            "['SK_PONTO', 'Best Params', 'N_Past_Vl', 'MSE', 'RMSE', 'MAE', 'MAPE', 'Duration']\n",
            "[7, \"{'activation': 'relu', 'alpha': 0.01, 'hidden_layer_sizes': (2, 6, 1), 'max_iter': 500, 'solver': 'adam'}\", 4, 1964.3193889748266, 44.32064292149683, 20.358898153363896, 5.261069273330012, 265.8089134693146]\n",
            "Fitting 5 folds for each of 24 candidates, totalling 120 fits\n",
            "['SK_PONTO', 'Best Params', 'N_Past_Vl', 'MSE', 'RMSE', 'MAE', 'MAPE', 'Duration']\n",
            "[7, \"{'activation': 'identity', 'alpha': 0.01, 'hidden_layer_sizes': (6, 12, 1), 'max_iter': 500, 'solver': 'adam'}\", 5, 1951.1375013605139, 44.17168212056808, 19.913329861419015, 5.213819672898304, 288.6145589351654]\n",
            "Fitting 5 folds for each of 24 candidates, totalling 120 fits\n",
            "['SK_PONTO', 'Best Params', 'N_Past_Vl', 'MSE', 'RMSE', 'MAE', 'MAPE', 'Duration']\n",
            "[7, \"{'activation': 'identity', 'alpha': 0.0001, 'hidden_layer_sizes': (6, 12, 1), 'max_iter': 500, 'solver': 'adam'}\", 6, 1963.762009963807, 44.31435444597842, 19.708907103374997, 5.2615002601173595, 276.40037536621094]\n",
            "forecast for sk_ponto =  11\n",
            "Fitting 5 folds for each of 24 candidates, totalling 120 fits\n",
            "['SK_PONTO', 'Best Params', 'N_Past_Vl', 'MSE', 'RMSE', 'MAE', 'MAPE', 'Duration']\n",
            "[11, \"{'activation': 'identity', 'alpha': 0.01, 'hidden_layer_sizes': (2, 6, 1), 'max_iter': 500, 'solver': 'adam'}\", 1, 426.60474415585355, 20.65441222005249, 8.890168418853818, 1.5543663657682272, 219.0791506767273]\n",
            "Fitting 5 folds for each of 24 candidates, totalling 120 fits\n",
            "['SK_PONTO', 'Best Params', 'N_Past_Vl', 'MSE', 'RMSE', 'MAE', 'MAPE', 'Duration']\n",
            "[11, \"{'activation': 'relu', 'alpha': 0.01, 'hidden_layer_sizes': (6, 12, 1), 'max_iter': 500, 'solver': 'adam'}\", 2, 434.39330233654033, 20.84210407652117, 8.44411578548602, 1.5564159878883426, 256.86566042900085]\n",
            "Fitting 5 folds for each of 24 candidates, totalling 120 fits\n",
            "['SK_PONTO', 'Best Params', 'N_Past_Vl', 'MSE', 'RMSE', 'MAE', 'MAPE', 'Duration']\n",
            "[11, \"{'activation': 'relu', 'alpha': 0.01, 'hidden_layer_sizes': (6, 12, 1), 'max_iter': 500, 'solver': 'adam'}\", 3, 426.708354916893, 20.65692026699268, 7.699992778576529, 1.5103034012035472, 246.82488179206848]\n",
            "Fitting 5 folds for each of 24 candidates, totalling 120 fits\n",
            "['SK_PONTO', 'Best Params', 'N_Past_Vl', 'MSE', 'RMSE', 'MAE', 'MAPE', 'Duration']\n",
            "[11, \"{'activation': 'relu', 'alpha': 0.01, 'hidden_layer_sizes': (2, 6, 1), 'max_iter': 500, 'solver': 'adam'}\", 4, 505.05051831572297, 22.473329043907203, 10.991677704279084, 1.8206598110661678, 257.93600821495056]\n",
            "Fitting 5 folds for each of 24 candidates, totalling 120 fits\n",
            "['SK_PONTO', 'Best Params', 'N_Past_Vl', 'MSE', 'RMSE', 'MAE', 'MAPE', 'Duration']\n",
            "[11, \"{'activation': 'relu', 'alpha': 0.0001, 'hidden_layer_sizes': (6, 12, 1), 'max_iter': 500, 'solver': 'adam'}\", 5, 437.957794225627, 20.927441177211012, 8.263057913314583, 1.5604323774747682, 288.37479543685913]\n",
            "Fitting 5 folds for each of 24 candidates, totalling 120 fits\n",
            "['SK_PONTO', 'Best Params', 'N_Past_Vl', 'MSE', 'RMSE', 'MAE', 'MAPE', 'Duration']\n",
            "[11, \"{'activation': 'identity', 'alpha': 0.01, 'hidden_layer_sizes': (2, 6, 1), 'max_iter': 500, 'solver': 'adam'}\", 6, 430.92358544632594, 20.758699030679306, 8.005989971929296, 1.5396816960650963, 299.9812386035919]\n",
            "forecast for sk_ponto =  12\n",
            "Fitting 5 folds for each of 24 candidates, totalling 120 fits\n",
            "['SK_PONTO', 'Best Params', 'N_Past_Vl', 'MSE', 'RMSE', 'MAE', 'MAPE', 'Duration']\n",
            "[12, \"{'activation': 'relu', 'alpha': 0.01, 'hidden_layer_sizes': (6, 18, 1), 'max_iter': 500, 'solver': 'adam'}\", 1, 1266.6563151288633, 35.59011541325573, 19.72372728545301, 8.149192563620849, 186.35831451416016]\n",
            "Fitting 5 folds for each of 24 candidates, totalling 120 fits\n",
            "['SK_PONTO', 'Best Params', 'N_Past_Vl', 'MSE', 'RMSE', 'MAE', 'MAPE', 'Duration']\n",
            "[12, \"{'activation': 'relu', 'alpha': 0.0001, 'hidden_layer_sizes': (2, 6, 1), 'max_iter': 500, 'solver': 'adam'}\", 2, 1253.0727395582073, 35.39876748642821, 19.37606415478467, 8.073459680204971, 264.7120449542999]\n",
            "Fitting 5 folds for each of 24 candidates, totalling 120 fits\n",
            "['SK_PONTO', 'Best Params', 'N_Past_Vl', 'MSE', 'RMSE', 'MAE', 'MAPE', 'Duration']\n",
            "[12, \"{'activation': 'identity', 'alpha': 0.0001, 'hidden_layer_sizes': (6, 18, 1), 'max_iter': 500, 'solver': 'adam'}\", 3, 1257.55351817803, 35.462001045880506, 19.369580072918268, 8.074324726790834, 255.7905421257019]\n",
            "Fitting 5 folds for each of 24 candidates, totalling 120 fits\n",
            "['SK_PONTO', 'Best Params', 'N_Past_Vl', 'MSE', 'RMSE', 'MAE', 'MAPE', 'Duration']\n",
            "[12, \"{'activation': 'relu', 'alpha': 0.0001, 'hidden_layer_sizes': (6, 12, 1), 'max_iter': 500, 'solver': 'adam'}\", 4, 1254.978104115827, 35.425670129382546, 19.022277900538597, 8.024640270310284, 298.40974164009094]\n",
            "Fitting 5 folds for each of 24 candidates, totalling 120 fits\n",
            "['SK_PONTO', 'Best Params', 'N_Past_Vl', 'MSE', 'RMSE', 'MAE', 'MAPE', 'Duration']\n",
            "[12, \"{'activation': 'identity', 'alpha': 0.01, 'hidden_layer_sizes': (4, 6, 1), 'max_iter': 500, 'solver': 'adam'}\", 5, 1244.6645469666742, 35.279803669616335, 19.117949778863135, 8.0104943360749, 310.7552704811096]\n",
            "Fitting 5 folds for each of 24 candidates, totalling 120 fits\n",
            "['SK_PONTO', 'Best Params', 'N_Past_Vl', 'MSE', 'RMSE', 'MAE', 'MAPE', 'Duration']\n",
            "[12, \"{'activation': 'identity', 'alpha': 0.01, 'hidden_layer_sizes': (2, 6, 1), 'max_iter': 500, 'solver': 'adam'}\", 6, 1238.853359603247, 35.197348758155734, 19.0780735911718, 8.02422407250643, 340.54907298088074]\n",
            "forecast for sk_ponto =  4\n",
            "Fitting 5 folds for each of 24 candidates, totalling 120 fits\n",
            "['SK_PONTO', 'Best Params', 'N_Past_Vl', 'MSE', 'RMSE', 'MAE', 'MAPE', 'Duration']\n",
            "[4, \"{'activation': 'identity', 'alpha': 0.001, 'hidden_layer_sizes': (6, 12, 1), 'max_iter': 500, 'solver': 'adam'}\", 1, 6493.103273004941, 80.57979444628127, 23.809808330353746, 9.038071820087618, 211.3459403514862]\n",
            "Fitting 5 folds for each of 24 candidates, totalling 120 fits\n",
            "['SK_PONTO', 'Best Params', 'N_Past_Vl', 'MSE', 'RMSE', 'MAE', 'MAPE', 'Duration']\n",
            "[4, \"{'activation': 'identity', 'alpha': 0.01, 'hidden_layer_sizes': (6, 12, 1), 'max_iter': 500, 'solver': 'adam'}\", 2, 6306.454829246845, 79.41319052428787, 28.650457793580586, 9.387774723186972, 228.47693419456482]\n",
            "Fitting 5 folds for each of 24 candidates, totalling 120 fits\n",
            "['SK_PONTO', 'Best Params', 'N_Past_Vl', 'MSE', 'RMSE', 'MAE', 'MAPE', 'Duration']\n",
            "[4, \"{'activation': 'identity', 'alpha': 0.0001, 'hidden_layer_sizes': (6, 18, 1), 'max_iter': 500, 'solver': 'adam'}\", 3, 5882.427414842837, 76.69698439210525, 24.494349397173437, 9.018665177675668, 209.01488184928894]\n",
            "Fitting 5 folds for each of 24 candidates, totalling 120 fits\n",
            "['SK_PONTO', 'Best Params', 'N_Past_Vl', 'MSE', 'RMSE', 'MAE', 'MAPE', 'Duration']\n",
            "[4, \"{'activation': 'relu', 'alpha': 0.0001, 'hidden_layer_sizes': (6, 12, 1), 'max_iter': 500, 'solver': 'adam'}\", 4, 5697.486679744675, 75.48169764747395, 26.69590137613443, 9.195220943123955, 224.26513528823853]\n",
            "Fitting 5 folds for each of 24 candidates, totalling 120 fits\n",
            "['SK_PONTO', 'Best Params', 'N_Past_Vl', 'MSE', 'RMSE', 'MAE', 'MAPE', 'Duration']\n",
            "[4, \"{'activation': 'identity', 'alpha': 0.01, 'hidden_layer_sizes': (4, 6, 1), 'max_iter': 500, 'solver': 'adam'}\", 5, 5906.352350993174, 76.85279663742351, 26.72107454130935, 9.17191196666214, 267.15426898002625]\n",
            "Fitting 5 folds for each of 24 candidates, totalling 120 fits\n",
            "['SK_PONTO', 'Best Params', 'N_Past_Vl', 'MSE', 'RMSE', 'MAE', 'MAPE', 'Duration']\n",
            "[4, \"{'activation': 'identity', 'alpha': 0.0001, 'hidden_layer_sizes': (6, 18, 1), 'max_iter': 500, 'solver': 'adam'}\", 6, 5878.186242871278, 76.66933052317125, 26.600979552864942, 9.168527826999169, 309.9865839481354]\n",
            "forecast for sk_ponto =  13\n",
            "Fitting 5 folds for each of 24 candidates, totalling 120 fits\n",
            "['SK_PONTO', 'Best Params', 'N_Past_Vl', 'MSE', 'RMSE', 'MAE', 'MAPE', 'Duration']\n",
            "[13, \"{'activation': 'relu', 'alpha': 0.0001, 'hidden_layer_sizes': (6, 18, 1), 'max_iter': 500, 'solver': 'adam'}\", 1, 46810.27081505655, 216.3568136552592, 88.00439394124578, 4.261169153061714, 184.31830048561096]\n",
            "Fitting 5 folds for each of 24 candidates, totalling 120 fits\n",
            "['SK_PONTO', 'Best Params', 'N_Past_Vl', 'MSE', 'RMSE', 'MAE', 'MAPE', 'Duration']\n",
            "[13, \"{'activation': 'identity', 'alpha': 0.01, 'hidden_layer_sizes': (6, 12, 1), 'max_iter': 500, 'solver': 'adam'}\", 2, 45083.103403511705, 212.3278206065133, 83.4856569008316, 4.158896840819308, 243.9932725429535]\n",
            "Fitting 5 folds for each of 24 candidates, totalling 120 fits\n",
            "['SK_PONTO', 'Best Params', 'N_Past_Vl', 'MSE', 'RMSE', 'MAE', 'MAPE', 'Duration']\n",
            "[13, \"{'activation': 'relu', 'alpha': 0.001, 'hidden_layer_sizes': (6, 12, 1), 'max_iter': 500, 'solver': 'adam'}\", 3, 43588.28349959028, 208.77807236295263, 71.95067542894776, 3.941047783740122, 235.45049142837524]\n",
            "Fitting 5 folds for each of 24 candidates, totalling 120 fits\n",
            "['SK_PONTO', 'Best Params', 'N_Past_Vl', 'MSE', 'RMSE', 'MAE', 'MAPE', 'Duration']\n",
            "[13, \"{'activation': 'identity', 'alpha': 0.01, 'hidden_layer_sizes': (6, 18, 1), 'max_iter': 500, 'solver': 'adam'}\", 4, 42539.01633770972, 206.24988809138713, 69.93419270972072, 3.816740805011703, 277.50361156463623]\n",
            "Fitting 5 folds for each of 24 candidates, totalling 120 fits\n",
            "['SK_PONTO', 'Best Params', 'N_Past_Vl', 'MSE', 'RMSE', 'MAE', 'MAPE', 'Duration']\n",
            "[13, \"{'activation': 'relu', 'alpha': 0.0001, 'hidden_layer_sizes': (6, 12, 1), 'max_iter': 500, 'solver': 'adam'}\", 5, 43318.20325749995, 208.13025550721824, 77.65095981874174, 4.004202293697869, 267.6281406879425]\n",
            "Fitting 5 folds for each of 24 candidates, totalling 120 fits\n",
            "['SK_PONTO', 'Best Params', 'N_Past_Vl', 'MSE', 'RMSE', 'MAE', 'MAPE', 'Duration']\n",
            "[13, \"{'activation': 'identity', 'alpha': 0.01, 'hidden_layer_sizes': (2, 6, 1), 'max_iter': 500, 'solver': 'adam'}\", 6, 43475.3337690054, 208.50739499836786, 78.4195800450093, 4.029881439227566, 290.98134112358093]\n",
            "forecast for sk_ponto =  8\n",
            "Fitting 5 folds for each of 24 candidates, totalling 120 fits\n",
            "['SK_PONTO', 'Best Params', 'N_Past_Vl', 'MSE', 'RMSE', 'MAE', 'MAPE', 'Duration']\n",
            "[8, \"{'activation': 'relu', 'alpha': 0.0001, 'hidden_layer_sizes': (2, 6, 1), 'max_iter': 500, 'solver': 'adam'}\", 1, 26.65065159701315, 5.162426909604934, 1.7497623499194361, 1.4139176668853766, 191.50613021850586]\n",
            "Fitting 5 folds for each of 24 candidates, totalling 120 fits\n",
            "['SK_PONTO', 'Best Params', 'N_Past_Vl', 'MSE', 'RMSE', 'MAE', 'MAPE', 'Duration']\n",
            "[8, \"{'activation': 'relu', 'alpha': 0.0001, 'hidden_layer_sizes': (6, 12, 1), 'max_iter': 500, 'solver': 'adam'}\", 2, 27.37397089367995, 5.23201403798575, 1.8066118346730775, 1.4542127396819924, 202.18936967849731]\n",
            "Fitting 5 folds for each of 24 candidates, totalling 120 fits\n",
            "['SK_PONTO', 'Best Params', 'N_Past_Vl', 'MSE', 'RMSE', 'MAE', 'MAPE', 'Duration']\n",
            "[8, \"{'activation': 'identity', 'alpha': 0.01, 'hidden_layer_sizes': (6, 18, 1), 'max_iter': 500, 'solver': 'adam'}\", 3, 26.116967650987675, 5.110476264594884, 1.6395237198323969, 1.3520948915351176, 208.0379683971405]\n",
            "Fitting 5 folds for each of 24 candidates, totalling 120 fits\n",
            "['SK_PONTO', 'Best Params', 'N_Past_Vl', 'MSE', 'RMSE', 'MAE', 'MAPE', 'Duration']\n",
            "[8, \"{'activation': 'relu', 'alpha': 0.0001, 'hidden_layer_sizes': (2, 6, 1), 'max_iter': 500, 'solver': 'adam'}\", 4, 26.53191146779517, 5.150913653692437, 1.6947526287983408, 1.4074480666045848, 213.29241609573364]\n",
            "Fitting 5 folds for each of 24 candidates, totalling 120 fits\n",
            "['SK_PONTO', 'Best Params', 'N_Past_Vl', 'MSE', 'RMSE', 'MAE', 'MAPE', 'Duration']\n",
            "[8, \"{'activation': 'identity', 'alpha': 0.01, 'hidden_layer_sizes': (4, 6, 1), 'max_iter': 500, 'solver': 'adam'}\", 5, 40.98811910986741, 6.402196428560077, 3.6452942232587873, 2.3471390203394846, 231.68383693695068]\n",
            "Fitting 5 folds for each of 24 candidates, totalling 120 fits\n",
            "['SK_PONTO', 'Best Params', 'N_Past_Vl', 'MSE', 'RMSE', 'MAE', 'MAPE', 'Duration']\n",
            "[8, \"{'activation': 'identity', 'alpha': 0.01, 'hidden_layer_sizes': (6, 18, 1), 'max_iter': 500, 'solver': 'adam'}\", 6, 26.44165098906534, 5.142144590447194, 1.7162730976542377, 1.4034607306879157, 248.14293217658997]\n",
            "forecast for sk_ponto =  1\n",
            "Fitting 5 folds for each of 24 candidates, totalling 120 fits\n",
            "['SK_PONTO', 'Best Params', 'N_Past_Vl', 'MSE', 'RMSE', 'MAE', 'MAPE', 'Duration']\n",
            "[1, \"{'activation': 'relu', 'alpha': 0.01, 'hidden_layer_sizes': (6, 18, 1), 'max_iter': 500, 'solver': 'adam'}\", 1, 1825.4788954026003, 42.72562340566373, 11.586863689763277, 3.578629650381346, 123.48206973075867]\n",
            "Fitting 5 folds for each of 24 candidates, totalling 120 fits\n",
            "['SK_PONTO', 'Best Params', 'N_Past_Vl', 'MSE', 'RMSE', 'MAE', 'MAPE', 'Duration']\n",
            "[1, \"{'activation': 'relu', 'alpha': 0.0001, 'hidden_layer_sizes': (6, 12, 1), 'max_iter': 500, 'solver': 'adam'}\", 2, 1805.0148055755058, 42.48546581568226, 10.765560958821766, 3.510484340816939, 155.447172164917]\n",
            "Fitting 5 folds for each of 24 candidates, totalling 120 fits\n",
            "['SK_PONTO', 'Best Params', 'N_Past_Vl', 'MSE', 'RMSE', 'MAE', 'MAPE', 'Duration']\n",
            "[1, \"{'activation': 'identity', 'alpha': 0.01, 'hidden_layer_sizes': (4, 6, 1), 'max_iter': 500, 'solver': 'adam'}\", 3, 1787.324540272023, 42.27676123205304, 8.830675700685447, 3.3545661270647176, 146.29014539718628]\n",
            "Fitting 5 folds for each of 24 candidates, totalling 120 fits\n",
            "['SK_PONTO', 'Best Params', 'N_Past_Vl', 'MSE', 'RMSE', 'MAE', 'MAPE', 'Duration']\n",
            "[1, \"{'activation': 'relu', 'alpha': 0.0001, 'hidden_layer_sizes': (6, 12, 1), 'max_iter': 500, 'solver': 'adam'}\", 4, 1789.3847562330718, 42.30112003520795, 9.316867782615418, 3.412260589391828, 161.10817217826843]\n",
            "Fitting 5 folds for each of 24 candidates, totalling 120 fits\n",
            "['SK_PONTO', 'Best Params', 'N_Past_Vl', 'MSE', 'RMSE', 'MAE', 'MAPE', 'Duration']\n",
            "[1, \"{'activation': 'relu', 'alpha': 0.001, 'hidden_layer_sizes': (6, 12, 1), 'max_iter': 500, 'solver': 'adam'}\", 5, 1808.6322360853417, 42.528017072106024, 9.678362065526244, 3.4174293274230654, 173.4046287536621]\n",
            "Fitting 5 folds for each of 24 candidates, totalling 120 fits\n",
            "['SK_PONTO', 'Best Params', 'N_Past_Vl', 'MSE', 'RMSE', 'MAE', 'MAPE', 'Duration']\n",
            "[1, \"{'activation': 'identity', 'alpha': 0.01, 'hidden_layer_sizes': (2, 6, 1), 'max_iter': 500, 'solver': 'adam'}\", 6, 1785.6195700643289, 42.25659203088116, 7.957315316296217, 3.2531290891616558, 178.64043164253235]\n",
            "forecast for sk_ponto =  9\n",
            "Fitting 5 folds for each of 24 candidates, totalling 120 fits\n",
            "['SK_PONTO', 'Best Params', 'N_Past_Vl', 'MSE', 'RMSE', 'MAE', 'MAPE', 'Duration']\n",
            "[9, \"{'activation': 'identity', 'alpha': 0.01, 'hidden_layer_sizes': (4, 6, 1), 'max_iter': 500, 'solver': 'adam'}\", 1, 75.22272229130144, 8.67310338294785, 3.0834011178655487, 1.043853186403806, 128.67968344688416]\n",
            "Fitting 5 folds for each of 24 candidates, totalling 120 fits\n",
            "['SK_PONTO', 'Best Params', 'N_Past_Vl', 'MSE', 'RMSE', 'MAE', 'MAPE', 'Duration']\n",
            "[9, \"{'activation': 'relu', 'alpha': 0.001, 'hidden_layer_sizes': (6, 12, 1), 'max_iter': 500, 'solver': 'adam'}\", 2, 65.62212381786561, 8.100748349249322, 2.996698640120883, 0.9918340097867122, 137.87294507026672]\n",
            "Fitting 5 folds for each of 24 candidates, totalling 120 fits\n",
            "['SK_PONTO', 'Best Params', 'N_Past_Vl', 'MSE', 'RMSE', 'MAE', 'MAPE', 'Duration']\n",
            "[9, \"{'activation': 'identity', 'alpha': 0.01, 'hidden_layer_sizes': (4, 6, 1), 'max_iter': 500, 'solver': 'adam'}\", 3, 64.39492180718212, 8.024644653016239, 2.84122651662193, 0.9495020802518234, 130.0949833393097]\n",
            "Fitting 5 folds for each of 24 candidates, totalling 120 fits\n",
            "['SK_PONTO', 'Best Params', 'N_Past_Vl', 'MSE', 'RMSE', 'MAE', 'MAPE', 'Duration']\n",
            "[9, \"{'activation': 'relu', 'alpha': 0.0001, 'hidden_layer_sizes': (6, 12, 1), 'max_iter': 500, 'solver': 'adam'}\", 4, 67.44203940392065, 8.212310235489198, 3.06185362376263, 1.0097118742951245, 155.3757884502411]\n",
            "Fitting 5 folds for each of 24 candidates, totalling 120 fits\n",
            "['SK_PONTO', 'Best Params', 'N_Past_Vl', 'MSE', 'RMSE', 'MAE', 'MAPE', 'Duration']\n",
            "[9, \"{'activation': 'relu', 'alpha': 0.0001, 'hidden_layer_sizes': (6, 12, 1), 'max_iter': 500, 'solver': 'adam'}\", 5, 62.501278118344494, 7.905774985309441, 2.8650906128369513, 0.9536564452659922, 152.50887823104858]\n",
            "Fitting 5 folds for each of 24 candidates, totalling 120 fits\n",
            "['SK_PONTO', 'Best Params', 'N_Past_Vl', 'MSE', 'RMSE', 'MAE', 'MAPE', 'Duration']\n",
            "[9, \"{'activation': 'identity', 'alpha': 0.01, 'hidden_layer_sizes': (6, 12, 1), 'max_iter': 500, 'solver': 'adam'}\", 6, 64.38201692590599, 8.023840534675772, 2.8551348112177948, 0.9511792505255129, 155.63778233528137]\n"
          ]
        }
      ],
      "source": [
        "#selects the identification points of each reservoir\n",
        "df_unique_pontos = dataset['SK_PONTO'].unique()\n",
        "\n",
        "#create file to results\n",
        "criar_arquivo_resultado()\n",
        "\n",
        "for sk in np.array(df_unique_pontos):\n",
        "    print('forecast for sk_ponto = ',sk)\n",
        "    df_ponto = dataset[dataset['SK_PONTO']==sk]\n",
        "    df_ponto = df_ponto.drop('SK_PONTO',axis=1)\n",
        "    for n_time_steps in range(1,7): #predict with 1 to 6 past values of medition\n",
        "        grid = previsao_MLP(sk, df_ponto, n_time_steps)"
      ]
    },
    {
      "cell_type": "markdown",
      "metadata": {
        "id": "MEevt86uejTw"
      },
      "source": [
        "\n"
      ]
    }
  ],
  "metadata": {
    "colab": {
      "provenance": []
    },
    "kernelspec": {
      "display_name": "Python 3.9.5 64-bit",
      "language": "python",
      "name": "python3"
    },
    "language_info": {
      "codemirror_mode": {
        "name": "ipython",
        "version": 3
      },
      "file_extension": ".py",
      "mimetype": "text/x-python",
      "name": "python",
      "nbconvert_exporter": "python",
      "pygments_lexer": "ipython3",
      "version": "3.9.5"
    },
    "vscode": {
      "interpreter": {
        "hash": "52634da84371cba311ea128a5ea7cdc41ff074b781779e754b270ff9f8153cee"
      }
    }
  },
  "nbformat": 4,
  "nbformat_minor": 0
}
