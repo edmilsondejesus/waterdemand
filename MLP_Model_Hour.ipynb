{
  "cells": [
    {
      "cell_type": "code",
      "execution_count": 1,
      "metadata": {},
      "outputs": [],
      "source": [
        "#!pip install seaborn\n",
        "#!pip install openpyxl\n"
      ]
    },
    {
      "cell_type": "code",
      "execution_count": 2,
      "metadata": {
        "id": "naOfrff2U2Xy"
      },
      "outputs": [],
      "source": [
        "import pandas as pd\n",
        "import numpy as np\n",
        "import random as rd\n",
        "import time\n",
        "import csv\n",
        "import seaborn as sbs\n",
        "from sklearn.model_selection import RepeatedStratifiedKFold\n",
        "from sklearn.model_selection import train_test_split ,GridSearchCV\n",
        "from sklearn.model_selection import TimeSeriesSplit\n",
        "from sklearn.neural_network import MLPRegressor\n",
        "from sklearn.neural_network import MLPRegressor\n",
        "import tensorflow as tf\n",
        "from tensorflow import keras\n",
        "from matplotlib import pyplot\n",
        "from sklearn.metrics import mean_squared_error\n",
        "from sklearn.metrics import median_absolute_error"
      ]
    },
    {
      "cell_type": "code",
      "execution_count": 3,
      "metadata": {
        "colab": {
          "base_uri": "https://localhost:8080/"
        },
        "id": "u5iIpJyzkmkW",
        "outputId": "00380b11-657f-4c91-cbc3-1194bcb79e40"
      },
      "outputs": [],
      "source": [
        "#\n",
        "# #from google.colab import drive\n",
        "#drive.mount('/content/drive')\n",
        "file_data = 'DS_Agua_2017_2022_por_ponto.csv'\n",
        "path_name='data/'\n",
        "path_name_results='results/'\n",
        "file_result = 'Result_MLP_Model_Hour.csv'"
      ]
    },
    {
      "cell_type": "code",
      "execution_count": 4,
      "metadata": {
        "id": "JPemdWEukqf-"
      },
      "outputs": [],
      "source": [
        "dataset = pd.read_csv(f'{path_name}{file_data}', sep =';', encoding = 'latin1', decimal='.')\n"
      ]
    },
    {
      "cell_type": "code",
      "execution_count": 5,
      "metadata": {
        "colab": {
          "base_uri": "https://localhost:8080/"
        },
        "id": "AuOW4pP6kunV",
        "outputId": "de56ea6e-5f26-4114-860e-ab9db4622133"
      },
      "outputs": [
        {
          "name": "stdout",
          "output_type": "stream",
          "text": [
            "<class 'pandas.core.frame.DataFrame'>\n",
            "Int64Index: 368849 entries, 1 to 368849\n",
            "Data columns (total 8 columns):\n",
            " #   Column                  Non-Null Count   Dtype  \n",
            "---  ------                  --------------   -----  \n",
            " 0   DT_MEDICAO_HORA         368849 non-null  object \n",
            " 1   PRECIPITACAO            368849 non-null  float64\n",
            " 2   PRESSAO_ATMOSFERICA     368849 non-null  float64\n",
            " 3   TEMPERATURA_DO_AR_C     368849 non-null  float64\n",
            " 4   UMIDADE_RELATIVA_DO_AR  368849 non-null  float64\n",
            " 5   VELOCIDADE_VENTO        368849 non-null  float64\n",
            " 6   SK_PONTO                368849 non-null  int64  \n",
            " 7   VL_MEDICAO              368849 non-null  float64\n",
            "dtypes: float64(6), int64(1), object(1)\n",
            "memory usage: 25.3+ MB\n"
          ]
        }
      ],
      "source": [
        "dataset.info()"
      ]
    },
    {
      "cell_type": "code",
      "execution_count": 6,
      "metadata": {
        "colab": {
          "base_uri": "https://localhost:8080/"
        },
        "id": "6o1Ml8Hwk11N",
        "outputId": "ac509433-15e6-4ba8-9a7b-c7be83813f97"
      },
      "outputs": [
        {
          "data": {
            "text/plain": [
              "DT_MEDICAO_HORA           0\n",
              "PRECIPITACAO              0\n",
              "PRESSAO_ATMOSFERICA       0\n",
              "TEMPERATURA_DO_AR_C       0\n",
              "UMIDADE_RELATIVA_DO_AR    0\n",
              "VELOCIDADE_VENTO          0\n",
              "SK_PONTO                  0\n",
              "VL_MEDICAO                0\n",
              "dtype: int64"
            ]
          },
          "execution_count": 6,
          "metadata": {},
          "output_type": "execute_result"
        }
      ],
      "source": [
        "#verifica se existe variáveis nulas \n",
        "dataset.isna().sum()"
      ]
    },
    {
      "cell_type": "code",
      "execution_count": 7,
      "metadata": {},
      "outputs": [],
      "source": [
        "def salvar_resultado(sk_ponto, ds_best_param, n_time_steps, MSE, RMSE, MAE, MAPE, Duration):\n",
        "  #Script to write training cycle results\n",
        "  data = [sk_ponto, ds_best_param, n_time_steps, MSE, RMSE, MAE, MAPE, Duration]\n",
        "  fields = ['SK_PONTO','Best Params','N_Past_Vl','MSE','RMSE','MAE','MAPE','Duration']\n",
        "  with open(f'{path_name_results}{file_result}', \"a\",newline='') as csv_file:\n",
        "    writer = csv.writer(csv_file,delimiter=';')\n",
        "    writer.writerow(data)  \n",
        "  print(fields)\n",
        "  print(data)\n",
        "    \n",
        "#Script to create the results file\n",
        "def criar_arquivo_resultado():\n",
        "  fields = ['SK_PONTO','Best Params','N_Past_Vl','MSE','RMSE','MAE','MAPE','Duration']\n",
        "  with open(f'{path_name_results}{file_result}', \"w\",newline='') as csv_file:\n",
        "    writer = csv.writer(csv_file,delimiter=';')\n",
        "    writer.writerow(fields)    "
      ]
    },
    {
      "cell_type": "code",
      "execution_count": 8,
      "metadata": {},
      "outputs": [],
      "source": [
        "def previsao_MLP(sk_ponto, dataset, n_time_steps):\n",
        "  # dataframe tratament\n",
        "  df = pd.DataFrame()\n",
        "  df['VL_MEDICAO']=dataset['VL_MEDICAO']  \n",
        "\n",
        "  # time serire transform - shit 1 step time\n",
        "\n",
        "  for n_step in range(1,n_time_steps+1,1):\n",
        "    df['vl-'+str(n_step)]=dataset['VL_MEDICAO'].shift(n_step)  \n",
        "    \n",
        "  df['tp-1']=dataset['TEMPERATURA_DO_AR_C']\n",
        "  df['pr-1']=dataset['PRESSAO_ATMOSFERICA']\n",
        "  df['vv-1']=dataset['VELOCIDADE_VENTO']\n",
        "  df['ur-1']=dataset['UMIDADE_RELATIVA_DO_AR']\n",
        "  df['ch-1']=dataset['PRECIPITACAO']  \n",
        "\n",
        "  df.dropna(inplace=True)\n",
        "  \n",
        "  \n",
        "  \n",
        "  #Split dataset in treinam /  75% treinam  25% test\n",
        "  nlinhas = int(np.round(df.shape[0] *0.75)) # \n",
        "  \n",
        "  max_size_train_split = int(np.round(nlinhas / 5)) \n",
        "  max_size__test_split = int(np.round((df.shape[0] - nlinhas) / 5))\n",
        "  size_split = 5\n",
        "  X_train = df.iloc[0:nlinhas,1: 6 + n_time_steps]\n",
        "  y_train = df.iloc[0:nlinhas,0].values\n",
        "\n",
        "  X_test = df.iloc[nlinhas:dataset.shape[0],1: 6 + n_time_steps] \n",
        "  y_test = df.iloc[nlinhas:dataset.shape[0],0].values\n",
        "  \n",
        "  \n",
        "  # Stores the training execution start time\n",
        "  Hora_Inicio = time.time()\n",
        "  \n",
        "  # Cross-validated for time series\n",
        "  ts_cv = TimeSeriesSplit(\n",
        "      n_splits=size_split, # Number of divisions\n",
        "      max_train_size=max_size_train_split,    # maximum size of each set. of training\n",
        "      gap=2, # number of samples to exclude between each training and testing set\n",
        "      test_size=max_size__test_split, # maximum size of each set. of test.\n",
        "  )\n",
        "  param_grid = {\n",
        "      'hidden_layer_sizes': [(4,6,1),(2,6,1),(6,12,1),(6,18,1)], # MLP layers\n",
        "      'max_iter': [ 500], # maximum iterations\n",
        "      'activation': [ 'relu','identity'], # activation function\n",
        "      'solver': ['adam'], # weight optimization algorithm\n",
        "      'alpha': [0.0001, 0.001, 0.01],  # alpha strength of regularization\n",
        "  }\n",
        "  \n",
        "  modelo = MLPRegressor(random_state=0)\n",
        "  \n",
        "  grid = GridSearchCV(modelo, param_grid, n_jobs= -1,scoring='neg_mean_absolute_percentage_error', cv=ts_cv, verbose=1)\n",
        "  grid.fit(np.array(X_train), np.array(y_train))\n",
        "  \n",
        "  resultado = str(grid.best_params_)\n",
        "  \n",
        "\n",
        "  predict=grid.predict(np.array(X_test))  \n",
        "\n",
        "  # Stores the training execution end time\n",
        "  Hora_Fim = time.time()  \n",
        "\n",
        "  #Calculate the duration of the training execution\n",
        "  Duracao = Hora_Fim - Hora_Inicio  \n",
        "\n",
        "  #Mean Squared Error (Mean Squared Difference Between Estimated Values and Actual Values) - MSE\n",
        "  MSE = mean_squared_error(y_test, predict)  \n",
        "\n",
        "  # Square Root of Mean Error - RMSE\n",
        "  RMSE = np.sqrt(mean_squared_error(y_test, predict))  \n",
        "\n",
        "  # Mean Absolute Distance or Mean Absolute Error - MAE\n",
        "  MAE= median_absolute_error(y_pred=predict, y_true = y_test)  \n",
        "\n",
        "  #Calculate the MAPE (Mean Absolute Percentage Error)\n",
        "  MAPE = ((np.mean(np.abs(y_test -predict) / (y_test)))) * 100   \n",
        "\n",
        "  salvar_resultado(sk_ponto, resultado, n_time_steps, MSE, RMSE, MAE, MAPE, Duracao)"
      ]
    },
    {
      "cell_type": "code",
      "execution_count": 9,
      "metadata": {},
      "outputs": [
        {
          "name": "stdout",
          "output_type": "stream",
          "text": [
            "forecast for sk_ponto =  5\n",
            "Fitting 5 folds for each of 24 candidates, totalling 120 fits\n",
            "['SK_PONTO', 'Best Params', 'N_Past_Vl', 'MSE', 'RMSE', 'MAE', 'MAPE', 'Duration']\n",
            "[5, \"{'activation': 'identity', 'alpha': 0.01, 'hidden_layer_sizes': (2, 6, 1), 'max_iter': 500, 'solver': 'adam'}\", 1, 5929.057996684803, 77.0003766009284, 48.5876842623058, 6.903230630534361, 188.48024320602417]\n",
            "Fitting 5 folds for each of 24 candidates, totalling 120 fits\n",
            "['SK_PONTO', 'Best Params', 'N_Past_Vl', 'MSE', 'RMSE', 'MAE', 'MAPE', 'Duration']\n",
            "[5, \"{'activation': 'identity', 'alpha': 0.0001, 'hidden_layer_sizes': (4, 6, 1), 'max_iter': 500, 'solver': 'adam'}\", 2, 5366.8695370511805, 73.25892121135269, 40.855912761857894, 6.348100316955294, 207.85214257240295]\n",
            "Fitting 5 folds for each of 24 candidates, totalling 120 fits\n",
            "['SK_PONTO', 'Best Params', 'N_Past_Vl', 'MSE', 'RMSE', 'MAE', 'MAPE', 'Duration']\n",
            "[5, \"{'activation': 'relu', 'alpha': 0.0001, 'hidden_layer_sizes': (6, 12, 1), 'max_iter': 500, 'solver': 'adam'}\", 3, 5177.372441056846, 71.95396056546745, 37.18504512980587, 6.025768592959125, 202.25342869758606]\n",
            "Fitting 5 folds for each of 24 candidates, totalling 120 fits\n",
            "['SK_PONTO', 'Best Params', 'N_Past_Vl', 'MSE', 'RMSE', 'MAE', 'MAPE', 'Duration']\n",
            "[5, \"{'activation': 'relu', 'alpha': 0.01, 'hidden_layer_sizes': (6, 12, 1), 'max_iter': 500, 'solver': 'adam'}\", 4, 5543.004167797967, 74.45135437181763, 39.76492439665287, 6.362898810347229, 234.36731672286987]\n",
            "Fitting 5 folds for each of 24 candidates, totalling 120 fits\n",
            "['SK_PONTO', 'Best Params', 'N_Past_Vl', 'MSE', 'RMSE', 'MAE', 'MAPE', 'Duration']\n",
            "[5, \"{'activation': 'identity', 'alpha': 0.0001, 'hidden_layer_sizes': (6, 18, 1), 'max_iter': 500, 'solver': 'adam'}\", 5, 5642.565198440968, 75.11701004726538, 41.85239263417685, 6.556154482457104, 257.51110005378723]\n",
            "Fitting 5 folds for each of 24 candidates, totalling 120 fits\n",
            "['SK_PONTO', 'Best Params', 'N_Past_Vl', 'MSE', 'RMSE', 'MAE', 'MAPE', 'Duration']\n",
            "[5, \"{'activation': 'identity', 'alpha': 0.01, 'hidden_layer_sizes': (2, 6, 1), 'max_iter': 500, 'solver': 'adam'}\", 6, 5745.414022404811, 75.7985093679606, 39.706880248138816, 6.304907465725031, 296.27980041503906]\n",
            "forecast for sk_ponto =  6\n",
            "Fitting 5 folds for each of 24 candidates, totalling 120 fits\n"
          ]
        },
        {
          "name": "stderr",
          "output_type": "stream",
          "text": [
            "c:\\Python\\lib\\site-packages\\sklearn\\neural_network\\_multilayer_perceptron.py:692: ConvergenceWarning: Stochastic Optimizer: Maximum iterations (500) reached and the optimization hasn't converged yet.\n",
            "  warnings.warn(\n"
          ]
        },
        {
          "name": "stdout",
          "output_type": "stream",
          "text": [
            "['SK_PONTO', 'Best Params', 'N_Past_Vl', 'MSE', 'RMSE', 'MAE', 'MAPE', 'Duration']\n",
            "[6, \"{'activation': 'relu', 'alpha': 0.0001, 'hidden_layer_sizes': (4, 6, 1), 'max_iter': 500, 'solver': 'adam'}\", 1, 40683.28334439916, 201.70097507052157, 183.4623861197153, 66.12621137150366, 240.56713891029358]\n",
            "Fitting 5 folds for each of 24 candidates, totalling 120 fits\n"
          ]
        },
        {
          "name": "stderr",
          "output_type": "stream",
          "text": [
            "c:\\Python\\lib\\site-packages\\sklearn\\neural_network\\_multilayer_perceptron.py:692: ConvergenceWarning: Stochastic Optimizer: Maximum iterations (500) reached and the optimization hasn't converged yet.\n",
            "  warnings.warn(\n"
          ]
        },
        {
          "name": "stdout",
          "output_type": "stream",
          "text": [
            "['SK_PONTO', 'Best Params', 'N_Past_Vl', 'MSE', 'RMSE', 'MAE', 'MAPE', 'Duration']\n",
            "[6, \"{'activation': 'relu', 'alpha': 0.001, 'hidden_layer_sizes': (2, 6, 1), 'max_iter': 500, 'solver': 'adam'}\", 2, 40849.012553961285, 202.11138650249592, 183.93641919482965, 66.30444020289656, 259.59840154647827]\n",
            "Fitting 5 folds for each of 24 candidates, totalling 120 fits\n"
          ]
        },
        {
          "name": "stderr",
          "output_type": "stream",
          "text": [
            "c:\\Python\\lib\\site-packages\\sklearn\\neural_network\\_multilayer_perceptron.py:692: ConvergenceWarning: Stochastic Optimizer: Maximum iterations (500) reached and the optimization hasn't converged yet.\n",
            "  warnings.warn(\n"
          ]
        },
        {
          "name": "stdout",
          "output_type": "stream",
          "text": [
            "['SK_PONTO', 'Best Params', 'N_Past_Vl', 'MSE', 'RMSE', 'MAE', 'MAPE', 'Duration']\n",
            "[6, \"{'activation': 'relu', 'alpha': 0.0001, 'hidden_layer_sizes': (6, 18, 1), 'max_iter': 500, 'solver': 'adam'}\", 3, 41301.086237995754, 203.2266868253177, 185.22300055201518, 66.78851815248656, 300.72892355918884]\n",
            "Fitting 5 folds for each of 24 candidates, totalling 120 fits\n"
          ]
        },
        {
          "name": "stderr",
          "output_type": "stream",
          "text": [
            "c:\\Python\\lib\\site-packages\\sklearn\\neural_network\\_multilayer_perceptron.py:692: ConvergenceWarning: Stochastic Optimizer: Maximum iterations (500) reached and the optimization hasn't converged yet.\n",
            "  warnings.warn(\n"
          ]
        },
        {
          "name": "stdout",
          "output_type": "stream",
          "text": [
            "['SK_PONTO', 'Best Params', 'N_Past_Vl', 'MSE', 'RMSE', 'MAE', 'MAPE', 'Duration']\n",
            "[6, \"{'activation': 'relu', 'alpha': 0.001, 'hidden_layer_sizes': (4, 6, 1), 'max_iter': 500, 'solver': 'adam'}\", 4, 41354.93144947888, 203.35911941557694, 185.34232237866655, 66.84680232706941, 268.5144031047821]\n",
            "Fitting 5 folds for each of 24 candidates, totalling 120 fits\n"
          ]
        },
        {
          "name": "stderr",
          "output_type": "stream",
          "text": [
            "c:\\Python\\lib\\site-packages\\sklearn\\neural_network\\_multilayer_perceptron.py:692: ConvergenceWarning: Stochastic Optimizer: Maximum iterations (500) reached and the optimization hasn't converged yet.\n",
            "  warnings.warn(\n"
          ]
        },
        {
          "name": "stdout",
          "output_type": "stream",
          "text": [
            "['SK_PONTO', 'Best Params', 'N_Past_Vl', 'MSE', 'RMSE', 'MAE', 'MAPE', 'Duration']\n",
            "[6, \"{'activation': 'relu', 'alpha': 0.0001, 'hidden_layer_sizes': (4, 6, 1), 'max_iter': 500, 'solver': 'adam'}\", 5, 4279.869840526519, 65.42071415481887, 30.121747922066163, 34.686173452638556, 292.9182801246643]\n",
            "Fitting 5 folds for each of 24 candidates, totalling 120 fits\n",
            "['SK_PONTO', 'Best Params', 'N_Past_Vl', 'MSE', 'RMSE', 'MAE', 'MAPE', 'Duration']\n",
            "[6, \"{'activation': 'relu', 'alpha': 0.001, 'hidden_layer_sizes': (6, 12, 1), 'max_iter': 500, 'solver': 'adam'}\", 6, 4493.017199194073, 67.02997239440035, 39.995450694452614, 36.82361543321307, 313.1878180503845]\n",
            "forecast for sk_ponto =  7\n",
            "Fitting 5 folds for each of 24 candidates, totalling 120 fits\n",
            "['SK_PONTO', 'Best Params', 'N_Past_Vl', 'MSE', 'RMSE', 'MAE', 'MAPE', 'Duration']\n",
            "[7, \"{'activation': 'relu', 'alpha': 0.001, 'hidden_layer_sizes': (2, 6, 1), 'max_iter': 500, 'solver': 'adam'}\", 1, 1757.241195166923, 41.919460816748625, 20.964072526361974, 5.036241277329338, 212.43473982810974]\n",
            "Fitting 5 folds for each of 24 candidates, totalling 120 fits\n",
            "['SK_PONTO', 'Best Params', 'N_Past_Vl', 'MSE', 'RMSE', 'MAE', 'MAPE', 'Duration']\n",
            "[7, \"{'activation': 'identity', 'alpha': 0.0001, 'hidden_layer_sizes': (2, 6, 1), 'max_iter': 500, 'solver': 'adam'}\", 2, 1875.8611469347902, 43.311212716048374, 20.388674354979457, 5.101130139199499, 223.9551191329956]\n",
            "Fitting 5 folds for each of 24 candidates, totalling 120 fits\n",
            "['SK_PONTO', 'Best Params', 'N_Past_Vl', 'MSE', 'RMSE', 'MAE', 'MAPE', 'Duration']\n",
            "[7, \"{'activation': 'relu', 'alpha': 0.001, 'hidden_layer_sizes': (6, 12, 1), 'max_iter': 500, 'solver': 'adam'}\", 3, 1946.6313738368347, 44.12064566432403, 20.711434010502785, 5.204573496854876, 255.00120759010315]\n",
            "Fitting 5 folds for each of 24 candidates, totalling 120 fits\n",
            "['SK_PONTO', 'Best Params', 'N_Past_Vl', 'MSE', 'RMSE', 'MAE', 'MAPE', 'Duration']\n",
            "[7, \"{'activation': 'relu', 'alpha': 0.01, 'hidden_layer_sizes': (2, 6, 1), 'max_iter': 500, 'solver': 'adam'}\", 4, 1964.3193889748266, 44.32064292149683, 20.358898153363896, 5.261069273330012, 265.7031590938568]\n",
            "Fitting 5 folds for each of 24 candidates, totalling 120 fits\n",
            "['SK_PONTO', 'Best Params', 'N_Past_Vl', 'MSE', 'RMSE', 'MAE', 'MAPE', 'Duration']\n",
            "[7, \"{'activation': 'identity', 'alpha': 0.01, 'hidden_layer_sizes': (6, 12, 1), 'max_iter': 500, 'solver': 'adam'}\", 5, 1951.1375013605139, 44.17168212056808, 19.913329861419015, 5.213819672898304, 268.54385232925415]\n",
            "Fitting 5 folds for each of 24 candidates, totalling 120 fits\n",
            "['SK_PONTO', 'Best Params', 'N_Past_Vl', 'MSE', 'RMSE', 'MAE', 'MAPE', 'Duration']\n",
            "[7, \"{'activation': 'identity', 'alpha': 0.0001, 'hidden_layer_sizes': (6, 12, 1), 'max_iter': 500, 'solver': 'adam'}\", 6, 1963.762009963807, 44.31435444597842, 19.708907103374997, 5.2615002601173595, 335.324670791626]\n",
            "forecast for sk_ponto =  11\n",
            "Fitting 5 folds for each of 24 candidates, totalling 120 fits\n",
            "['SK_PONTO', 'Best Params', 'N_Past_Vl', 'MSE', 'RMSE', 'MAE', 'MAPE', 'Duration']\n",
            "[11, \"{'activation': 'identity', 'alpha': 0.01, 'hidden_layer_sizes': (2, 6, 1), 'max_iter': 500, 'solver': 'adam'}\", 1, 426.60474415585355, 20.65441222005249, 8.890168418853818, 1.5543663657682272, 258.93485593795776]\n",
            "Fitting 5 folds for each of 24 candidates, totalling 120 fits\n",
            "['SK_PONTO', 'Best Params', 'N_Past_Vl', 'MSE', 'RMSE', 'MAE', 'MAPE', 'Duration']\n",
            "[11, \"{'activation': 'relu', 'alpha': 0.01, 'hidden_layer_sizes': (6, 12, 1), 'max_iter': 500, 'solver': 'adam'}\", 2, 434.39330233654033, 20.84210407652117, 8.44411578548602, 1.5564159878883426, 320.85880041122437]\n",
            "Fitting 5 folds for each of 24 candidates, totalling 120 fits\n",
            "['SK_PONTO', 'Best Params', 'N_Past_Vl', 'MSE', 'RMSE', 'MAE', 'MAPE', 'Duration']\n",
            "[11, \"{'activation': 'relu', 'alpha': 0.01, 'hidden_layer_sizes': (6, 12, 1), 'max_iter': 500, 'solver': 'adam'}\", 3, 426.708354916893, 20.65692026699268, 7.699992778576529, 1.5103034012035472, 309.6924982070923]\n",
            "Fitting 5 folds for each of 24 candidates, totalling 120 fits\n",
            "['SK_PONTO', 'Best Params', 'N_Past_Vl', 'MSE', 'RMSE', 'MAE', 'MAPE', 'Duration']\n",
            "[11, \"{'activation': 'relu', 'alpha': 0.01, 'hidden_layer_sizes': (2, 6, 1), 'max_iter': 500, 'solver': 'adam'}\", 4, 505.05051831572297, 22.473329043907203, 10.991677704279084, 1.8206598110661678, 302.7788681983948]\n",
            "Fitting 5 folds for each of 24 candidates, totalling 120 fits\n",
            "['SK_PONTO', 'Best Params', 'N_Past_Vl', 'MSE', 'RMSE', 'MAE', 'MAPE', 'Duration']\n",
            "[11, \"{'activation': 'relu', 'alpha': 0.0001, 'hidden_layer_sizes': (6, 12, 1), 'max_iter': 500, 'solver': 'adam'}\", 5, 437.957794225627, 20.927441177211012, 8.263057913314583, 1.5604323774747682, 286.22785210609436]\n",
            "Fitting 5 folds for each of 24 candidates, totalling 120 fits\n",
            "['SK_PONTO', 'Best Params', 'N_Past_Vl', 'MSE', 'RMSE', 'MAE', 'MAPE', 'Duration']\n",
            "[11, \"{'activation': 'identity', 'alpha': 0.01, 'hidden_layer_sizes': (2, 6, 1), 'max_iter': 500, 'solver': 'adam'}\", 6, 430.92358544632594, 20.758699030679306, 8.005989971929296, 1.5396816960650963, 299.3836109638214]\n",
            "forecast for sk_ponto =  12\n",
            "Fitting 5 folds for each of 24 candidates, totalling 120 fits\n",
            "['SK_PONTO', 'Best Params', 'N_Past_Vl', 'MSE', 'RMSE', 'MAE', 'MAPE', 'Duration']\n",
            "[12, \"{'activation': 'relu', 'alpha': 0.01, 'hidden_layer_sizes': (6, 18, 1), 'max_iter': 500, 'solver': 'adam'}\", 1, 1266.6563151288633, 35.59011541325573, 19.72372728545301, 8.149192563620849, 167.27246260643005]\n",
            "Fitting 5 folds for each of 24 candidates, totalling 120 fits\n",
            "['SK_PONTO', 'Best Params', 'N_Past_Vl', 'MSE', 'RMSE', 'MAE', 'MAPE', 'Duration']\n",
            "[12, \"{'activation': 'relu', 'alpha': 0.0001, 'hidden_layer_sizes': (2, 6, 1), 'max_iter': 500, 'solver': 'adam'}\", 2, 1253.0727395582073, 35.39876748642821, 19.37606415478467, 8.073459680204971, 914.766387462616]\n",
            "Fitting 5 folds for each of 24 candidates, totalling 120 fits\n"
          ]
        },
        {
          "name": "stderr",
          "output_type": "stream",
          "text": [
            "c:\\Python\\lib\\site-packages\\joblib\\externals\\loky\\process_executor.py:702: UserWarning: A worker stopped while some jobs were given to the executor. This can be caused by a too short worker timeout or by a memory leak.\n",
            "  warnings.warn(\n"
          ]
        },
        {
          "name": "stdout",
          "output_type": "stream",
          "text": [
            "['SK_PONTO', 'Best Params', 'N_Past_Vl', 'MSE', 'RMSE', 'MAE', 'MAPE', 'Duration']\n",
            "[12, \"{'activation': 'identity', 'alpha': 0.0001, 'hidden_layer_sizes': (6, 18, 1), 'max_iter': 500, 'solver': 'adam'}\", 3, 1257.55351817803, 35.462001045880506, 19.369580072918268, 8.074324726790834, 160.21908378601074]\n",
            "Fitting 5 folds for each of 24 candidates, totalling 120 fits\n"
          ]
        }
      ],
      "source": [
        "#selects the identification points of each reservoir\n",
        "df_unique_pontos = dataset['SK_PONTO'].unique()\n",
        "\n",
        "#create file to results\n",
        "criar_arquivo_resultado()\n",
        "\n",
        "for sk in np.array(df_unique_pontos):\n",
        "    print('forecast for sk_ponto = ',sk)\n",
        "    df_ponto = dataset[dataset['SK_PONTO']==sk]\n",
        "    df_ponto = df_ponto.drop('SK_PONTO',axis=1)\n",
        "    for n_time_steps in range(1,7): #predict with 1 to 6 past values of medition\n",
        "        grid = previsao_MLP(sk, df_ponto, n_time_steps)"
      ]
    },
    {
      "cell_type": "markdown",
      "metadata": {
        "id": "MEevt86uejTw"
      },
      "source": [
        "\n"
      ]
    }
  ],
  "metadata": {
    "colab": {
      "provenance": []
    },
    "kernelspec": {
      "display_name": "Python 3.9.5 64-bit",
      "language": "python",
      "name": "python3"
    },
    "language_info": {
      "codemirror_mode": {
        "name": "ipython",
        "version": 3
      },
      "file_extension": ".py",
      "mimetype": "text/x-python",
      "name": "python",
      "nbconvert_exporter": "python",
      "pygments_lexer": "ipython3",
      "version": "3.9.5 (tags/v3.9.5:0a7dcbd, May  3 2021, 17:27:52) [MSC v.1928 64 bit (AMD64)]"
    },
    "vscode": {
      "interpreter": {
        "hash": "52634da84371cba311ea128a5ea7cdc41ff074b781779e754b270ff9f8153cee"
      }
    }
  },
  "nbformat": 4,
  "nbformat_minor": 0
}
