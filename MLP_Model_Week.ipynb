{
  "cells": [
    {
      "cell_type": "code",
      "execution_count": 45,
      "metadata": {},
      "outputs": [],
      "source": [
        "#!pip install seaborn\n",
        "#!pip install openpyxl\n"
      ]
    },
    {
      "cell_type": "code",
      "execution_count": 46,
      "metadata": {
        "id": "naOfrff2U2Xy"
      },
      "outputs": [],
      "source": [
        "import pandas as pd\n",
        "import numpy as np\n",
        "import random as rd\n",
        "import time\n",
        "import csv\n",
        "import seaborn as sbs\n",
        "from sklearn.model_selection import RepeatedStratifiedKFold\n",
        "from sklearn.model_selection import train_test_split ,GridSearchCV\n",
        "from sklearn.model_selection import TimeSeriesSplit\n",
        "from sklearn.neural_network import MLPRegressor\n",
        "import tensorflow as tf\n",
        "from tensorflow import keras\n",
        "from matplotlib import pyplot\n",
        "from sklearn.metrics import mean_squared_error\n",
        "from sklearn.metrics import median_absolute_error"
      ]
    },
    {
      "cell_type": "code",
      "execution_count": 47,
      "metadata": {
        "colab": {
          "base_uri": "https://localhost:8080/"
        },
        "id": "u5iIpJyzkmkW",
        "outputId": "00380b11-657f-4c91-cbc3-1194bcb79e40"
      },
      "outputs": [],
      "source": [
        "file_data = 'DS_Agua_2017_2022_por_ponto.csv'\n",
        "path_name='data/'\n",
        "path_name_results='results/'\n",
        "file_result = 'Result_MLP_Model_Week.csv'"
      ]
    },
    {
      "cell_type": "code",
      "execution_count": 48,
      "metadata": {
        "id": "JPemdWEukqf-"
      },
      "outputs": [],
      "source": [
        "dataset = pd.read_csv(f'{path_name}{file_data}', sep =';', encoding = 'latin1', decimal='.')\n"
      ]
    },
    {
      "cell_type": "code",
      "execution_count": 49,
      "metadata": {
        "colab": {
          "base_uri": "https://localhost:8080/"
        },
        "id": "AuOW4pP6kunV",
        "outputId": "de56ea6e-5f26-4114-860e-ab9db4622133"
      },
      "outputs": [
        {
          "data": {
            "text/html": [
              "<div>\n",
              "<style scoped>\n",
              "    .dataframe tbody tr th:only-of-type {\n",
              "        vertical-align: middle;\n",
              "    }\n",
              "\n",
              "    .dataframe tbody tr th {\n",
              "        vertical-align: top;\n",
              "    }\n",
              "\n",
              "    .dataframe thead th {\n",
              "        text-align: right;\n",
              "    }\n",
              "</style>\n",
              "<table border=\"1\" class=\"dataframe\">\n",
              "  <thead>\n",
              "    <tr style=\"text-align: right;\">\n",
              "      <th></th>\n",
              "      <th>DT_MEDICAO_HORA</th>\n",
              "      <th>PRECIPITACAO</th>\n",
              "      <th>PRESSAO_ATMOSFERICA</th>\n",
              "      <th>TEMPERATURA_DO_AR_C</th>\n",
              "      <th>UMIDADE_RELATIVA_DO_AR</th>\n",
              "      <th>VELOCIDADE_VENTO</th>\n",
              "      <th>SK_PONTO</th>\n",
              "      <th>VL_MEDICAO</th>\n",
              "    </tr>\n",
              "  </thead>\n",
              "  <tbody>\n",
              "    <tr>\n",
              "      <th>1</th>\n",
              "      <td>2017-01-01 00:00:00</td>\n",
              "      <td>0.0</td>\n",
              "      <td>1009.5</td>\n",
              "      <td>25.9</td>\n",
              "      <td>75.0</td>\n",
              "      <td>1.3</td>\n",
              "      <td>5</td>\n",
              "      <td>938.690000</td>\n",
              "    </tr>\n",
              "    <tr>\n",
              "      <th>2</th>\n",
              "      <td>2017-01-01 00:00:00</td>\n",
              "      <td>0.0</td>\n",
              "      <td>1009.5</td>\n",
              "      <td>25.9</td>\n",
              "      <td>75.0</td>\n",
              "      <td>1.3</td>\n",
              "      <td>6</td>\n",
              "      <td>297.107800</td>\n",
              "    </tr>\n",
              "    <tr>\n",
              "      <th>3</th>\n",
              "      <td>2017-01-01 00:00:00</td>\n",
              "      <td>0.0</td>\n",
              "      <td>1009.5</td>\n",
              "      <td>25.9</td>\n",
              "      <td>75.0</td>\n",
              "      <td>1.3</td>\n",
              "      <td>7</td>\n",
              "      <td>544.594400</td>\n",
              "    </tr>\n",
              "    <tr>\n",
              "      <th>4</th>\n",
              "      <td>2017-01-01 00:00:00</td>\n",
              "      <td>0.0</td>\n",
              "      <td>1009.5</td>\n",
              "      <td>25.9</td>\n",
              "      <td>75.0</td>\n",
              "      <td>1.3</td>\n",
              "      <td>11</td>\n",
              "      <td>816.790594</td>\n",
              "    </tr>\n",
              "    <tr>\n",
              "      <th>5</th>\n",
              "      <td>2017-01-01 00:00:00</td>\n",
              "      <td>0.0</td>\n",
              "      <td>1009.5</td>\n",
              "      <td>25.9</td>\n",
              "      <td>75.0</td>\n",
              "      <td>1.3</td>\n",
              "      <td>12</td>\n",
              "      <td>336.596097</td>\n",
              "    </tr>\n",
              "  </tbody>\n",
              "</table>\n",
              "</div>"
            ],
            "text/plain": [
              "       DT_MEDICAO_HORA  PRECIPITACAO  PRESSAO_ATMOSFERICA  \\\n",
              "1  2017-01-01 00:00:00           0.0               1009.5   \n",
              "2  2017-01-01 00:00:00           0.0               1009.5   \n",
              "3  2017-01-01 00:00:00           0.0               1009.5   \n",
              "4  2017-01-01 00:00:00           0.0               1009.5   \n",
              "5  2017-01-01 00:00:00           0.0               1009.5   \n",
              "\n",
              "   TEMPERATURA_DO_AR_C  UMIDADE_RELATIVA_DO_AR  VELOCIDADE_VENTO  SK_PONTO  \\\n",
              "1                 25.9                    75.0               1.3         5   \n",
              "2                 25.9                    75.0               1.3         6   \n",
              "3                 25.9                    75.0               1.3         7   \n",
              "4                 25.9                    75.0               1.3        11   \n",
              "5                 25.9                    75.0               1.3        12   \n",
              "\n",
              "   VL_MEDICAO  \n",
              "1  938.690000  \n",
              "2  297.107800  \n",
              "3  544.594400  \n",
              "4  816.790594  \n",
              "5  336.596097  "
            ]
          },
          "execution_count": 49,
          "metadata": {},
          "output_type": "execute_result"
        }
      ],
      "source": [
        "dataset.head()      "
      ]
    },
    {
      "cell_type": "code",
      "execution_count": 50,
      "metadata": {
        "colab": {
          "base_uri": "https://localhost:8080/"
        },
        "id": "6o1Ml8Hwk11N",
        "outputId": "ac509433-15e6-4ba8-9a7b-c7be83813f97"
      },
      "outputs": [
        {
          "data": {
            "text/plain": [
              "DT_MEDICAO_HORA           0\n",
              "PRECIPITACAO              0\n",
              "PRESSAO_ATMOSFERICA       0\n",
              "TEMPERATURA_DO_AR_C       0\n",
              "UMIDADE_RELATIVA_DO_AR    0\n",
              "VELOCIDADE_VENTO          0\n",
              "SK_PONTO                  0\n",
              "VL_MEDICAO                0\n",
              "dtype: int64"
            ]
          },
          "execution_count": 50,
          "metadata": {},
          "output_type": "execute_result"
        }
      ],
      "source": [
        "#verifica se existe variáveis nulas \n",
        "dataset.isna().sum()"
      ]
    },
    {
      "cell_type": "code",
      "execution_count": 51,
      "metadata": {},
      "outputs": [],
      "source": [
        "def salvar_resultado(sk_ponto, ds_best_param, n_time_steps, MSE, RMSE, MAE, MAPE, Duration):\n",
        "  #Script to write training cycle results\n",
        "  data = [sk_ponto, ds_best_param, n_time_steps, MSE, RMSE, MAE, MAPE, Duration]\n",
        "  fields = ['SK_PONTO','Best Params','N_Past_Vl','MSE','RMSE','MAE','MAPE','Duration']\n",
        "  with open(f'{path_name_results}{file_result}', \"a\",newline='') as csv_file:\n",
        "    writer = csv.writer(csv_file,delimiter=';')\n",
        "    writer.writerow(data)  \n",
        "  print(fields)\n",
        "  print(data)\n",
        "    \n",
        "#Script to create the results file\n",
        "def criar_arquivo_resultado():\n",
        "  fields = ['SK_PONTO','Best Params','N_Past_Vl','MSE','RMSE','MAE','MAPE','Duration']\n",
        "  with open(f'{path_name_results}{file_result}', \"w\",newline='') as csv_file:\n",
        "    writer = csv.writer(csv_file,delimiter=';')\n",
        "    writer.writerow(fields)    "
      ]
    },
    {
      "cell_type": "code",
      "execution_count": 52,
      "metadata": {},
      "outputs": [],
      "source": [
        "#crop date time to date \n",
        "dataset['DATA']=dataset['DT_MEDICAO_HORA'].str.split(' ').str[0]\n",
        "dataset.drop(['DT_MEDICAO_HORA'],axis=1, inplace=True)"
      ]
    },
    {
      "cell_type": "code",
      "execution_count": 53,
      "metadata": {},
      "outputs": [],
      "source": [
        "# Grouping data for Week\n",
        "\n",
        "dataset['DATA'] = pd.to_datetime(dataset['DATA']) - pd.to_timedelta(7, unit='d')\n",
        "\n",
        "dataset = dataset.groupby(['SK_PONTO',pd.Grouper(key='DATA', freq='W')], as_index=False).agg({'PRECIPITACAO':'sum','PRESSAO_ATMOSFERICA':'mean','TEMPERATURA_DO_AR_C':'mean','UMIDADE_RELATIVA_DO_AR':'mean','VELOCIDADE_VENTO':'mean','VL_MEDICAO':'sum'})\n",
        "# cols = 'PRECIPITACAO':'sum','PRESSAO_ATMOSFERICA':'mean','TEMPERATURA_DO_AR_C':'mean','UMIDADE_RELATIVA_DO_AR':'mean','VELOCIDADE_VENTO':'mean','VL_MEDICAO':'sum'\n",
        "#dataset = dataset.groupby(['SK_PONTO','DATA'], as_index=False).agg({'PRECIPITACAO':'sum','PRESSAO_ATMOSFERICA':'mean','TEMPERATURA_DO_AR_C':'mean','UMIDADE_RELATIVA_DO_AR':'mean','VELOCIDADE_VENTO':'mean','VL_MEDICAO':'sum'})\n",
        "#df_result.rename(columns=cols)"
      ]
    },
    {
      "cell_type": "code",
      "execution_count": 54,
      "metadata": {},
      "outputs": [],
      "source": [
        "def previsao_MLP(sk_ponto, dataset, n_time_steps):\n",
        "  # dataframe tratament\n",
        "  df = pd.DataFrame()\n",
        "  df['VL_MEDICAO']=dataset['VL_MEDICAO']  \n",
        "\n",
        "  # time serire transform - shit 1 step time\n",
        "\n",
        "  for n_step in range(1,n_time_steps+1,1):\n",
        "    df['vl-'+str(n_step)]=dataset['VL_MEDICAO'].shift(n_step)  \n",
        "   \n",
        "  #df['vl-1']=dataset['VL_MEDICAO'].shift(seqtemp)\n",
        "  df['tp-1']=dataset['TEMPERATURA_DO_AR_C']\n",
        "  df['pr-1']=dataset['PRESSAO_ATMOSFERICA']\n",
        "  df['vv-1']=dataset['VELOCIDADE_VENTO']\n",
        "  df['ur-1']=dataset['UMIDADE_RELATIVA_DO_AR']\n",
        "  df['ch-1']=dataset['PRECIPITACAO'] \n",
        "\n",
        "  df.dropna(inplace=True)\n",
        "  \n",
        "  \n",
        "  \n",
        "  #Split dataset in treinam /  75% treinam  25% test\n",
        "  nlinhas = int(np.round(df.shape[0] *0.75)) # \n",
        "  \n",
        "  max_size_train_split = int(np.round(nlinhas / 5)) \n",
        "  max_size__test_split = int(np.round((df.shape[0] - nlinhas) / 5))\n",
        "  size_split = 5\n",
        "  X_train = df.iloc[0:nlinhas,1:6 + n_time_steps]\n",
        "  y_train = df.iloc[0:nlinhas,0].values\n",
        "\n",
        "  X_test = df.iloc[nlinhas:dataset.shape[0],1: 6 + n_time_steps] \n",
        "  y_test = df.iloc[nlinhas:dataset.shape[0],0].values\n",
        "  \n",
        "  \n",
        "  # Stores the training execution start time\n",
        "  Hora_Inicio = time.time()\n",
        "  \n",
        "  # Cross-validated for time series\n",
        "  ts_cv = TimeSeriesSplit(\n",
        "      n_splits=size_split, # Number of divisions\n",
        "      max_train_size=max_size_train_split,    # maximum size of each set. of training\n",
        "      gap=2, # number of samples to exclude between each training and testing set\n",
        "      test_size=max_size__test_split, # maximum size of each set. of test.\n",
        "  )\n",
        "  param_grid = {\n",
        "      'hidden_layer_sizes': [(4,6,1),(2,6,1),(6,12,1),(6,18,1)], # MLP layers\n",
        "      'max_iter': [500], # maximum iterations\n",
        "      'activation': [ 'relu','identity'], # activation function\n",
        "      'solver': ['adam'], # weight optimization algorithm\n",
        "      'alpha': [0.0001, 0.001, 0.01],  # alpha strength of regularization\n",
        "  }\n",
        "  \n",
        "  modelo = MLPRegressor(random_state=0)\n",
        "  \n",
        "  grid = GridSearchCV(modelo, param_grid, n_jobs= -1,scoring='neg_mean_absolute_percentage_error', cv=ts_cv, verbose=1)\n",
        "  grid.fit(np.array(X_train), np.array(y_train))\n",
        "  \n",
        "  resultado = str(grid.best_params_)\n",
        "  \n",
        "\n",
        "  predict=grid.predict(np.array(X_test))  \n",
        "\n",
        "  # Stores the training execution end time\n",
        "  Hora_Fim = time.time()  \n",
        "\n",
        "  #Calculate the duration of the training execution\n",
        "  Duracao = Hora_Fim - Hora_Inicio  \n",
        "\n",
        "  #Mean Squared Error (Mean Squared Difference Between Estimated Values and Actual Values) - MSE\n",
        "  MSE = mean_squared_error(y_test, predict)  \n",
        "\n",
        "  # Square Root of Mean Error - RMSE\n",
        "  RMSE = np.sqrt(mean_squared_error(y_test, predict))  \n",
        "\n",
        "  # Mean Absolute Distance or Mean Absolute Error - MAE\n",
        "  MAE= median_absolute_error(y_pred=predict, y_true = y_test)  \n",
        "\n",
        "  #Calculate the MAPE (Mean Absolute Percentage Error)\n",
        "  MAPE = ((np.mean(np.abs(y_test -predict) / (y_test)))) * 100   \n",
        "\n",
        "  salvar_resultado(sk_ponto, resultado, n_time_steps, MSE, RMSE, MAE, MAPE, Duracao)"
      ]
    },
    {
      "cell_type": "code",
      "execution_count": 55,
      "metadata": {},
      "outputs": [
        {
          "name": "stdout",
          "output_type": "stream",
          "text": [
            "forecast for sk_ponto =  1\n",
            "Fitting 5 folds for each of 24 candidates, totalling 120 fits\n"
          ]
        },
        {
          "name": "stderr",
          "output_type": "stream",
          "text": [
            "c:\\Python\\lib\\site-packages\\sklearn\\neural_network\\_multilayer_perceptron.py:692: ConvergenceWarning: Stochastic Optimizer: Maximum iterations (500) reached and the optimization hasn't converged yet.\n",
            "  warnings.warn(\n"
          ]
        },
        {
          "name": "stdout",
          "output_type": "stream",
          "text": [
            "['SK_PONTO', 'Best Params', 'N_Past_Vl', 'MSE', 'RMSE', 'MAE', 'MAPE', 'Duration']\n",
            "[1, \"{'activation': 'relu', 'alpha': 0.01, 'hidden_layer_sizes': (2, 6, 1), 'max_iter': 500, 'solver': 'adam'}\", 1, 351640857.8512773, 18752.089426282004, 2687.5090924580363, 67.97726572224967, 9.912002086639404]\n",
            "Fitting 5 folds for each of 24 candidates, totalling 120 fits\n",
            "['SK_PONTO', 'Best Params', 'N_Past_Vl', 'MSE', 'RMSE', 'MAE', 'MAPE', 'Duration']\n",
            "[1, \"{'activation': 'identity', 'alpha': 0.01, 'hidden_layer_sizes': (2, 6, 1), 'max_iter': 500, 'solver': 'adam'}\", 2, 308131620.6196766, 17553.678264673665, 3081.4459969405725, 80.45737677427333, 6.722001075744629]\n",
            "Fitting 5 folds for each of 24 candidates, totalling 120 fits\n"
          ]
        },
        {
          "name": "stderr",
          "output_type": "stream",
          "text": [
            "c:\\Python\\lib\\site-packages\\sklearn\\neural_network\\_multilayer_perceptron.py:692: ConvergenceWarning: Stochastic Optimizer: Maximum iterations (500) reached and the optimization hasn't converged yet.\n",
            "  warnings.warn(\n"
          ]
        },
        {
          "name": "stdout",
          "output_type": "stream",
          "text": [
            "['SK_PONTO', 'Best Params', 'N_Past_Vl', 'MSE', 'RMSE', 'MAE', 'MAPE', 'Duration']\n",
            "[1, \"{'activation': 'identity', 'alpha': 0.0001, 'hidden_layer_sizes': (6, 12, 1), 'max_iter': 500, 'solver': 'adam'}\", 3, 324970305.8909414, 18026.932792101416, 3387.9244870829316, 86.7752430256644, 5.790926456451416]\n",
            "Fitting 5 folds for each of 24 candidates, totalling 120 fits\n"
          ]
        },
        {
          "name": "stderr",
          "output_type": "stream",
          "text": [
            "c:\\Python\\lib\\site-packages\\sklearn\\neural_network\\_multilayer_perceptron.py:692: ConvergenceWarning: Stochastic Optimizer: Maximum iterations (500) reached and the optimization hasn't converged yet.\n",
            "  warnings.warn(\n"
          ]
        },
        {
          "name": "stdout",
          "output_type": "stream",
          "text": [
            "['SK_PONTO', 'Best Params', 'N_Past_Vl', 'MSE', 'RMSE', 'MAE', 'MAPE', 'Duration']\n",
            "[1, \"{'activation': 'identity', 'alpha': 0.01, 'hidden_layer_sizes': (2, 6, 1), 'max_iter': 500, 'solver': 'adam'}\", 4, 384082819.2718455, 19598.031004972043, 5443.23453700477, 116.57901248672597, 6.811080455780029]\n",
            "Fitting 5 folds for each of 24 candidates, totalling 120 fits\n"
          ]
        },
        {
          "name": "stderr",
          "output_type": "stream",
          "text": [
            "c:\\Python\\lib\\site-packages\\sklearn\\neural_network\\_multilayer_perceptron.py:692: ConvergenceWarning: Stochastic Optimizer: Maximum iterations (500) reached and the optimization hasn't converged yet.\n",
            "  warnings.warn(\n"
          ]
        },
        {
          "name": "stdout",
          "output_type": "stream",
          "text": [
            "['SK_PONTO', 'Best Params', 'N_Past_Vl', 'MSE', 'RMSE', 'MAE', 'MAPE', 'Duration']\n",
            "[1, \"{'activation': 'identity', 'alpha': 0.0001, 'hidden_layer_sizes': (2, 6, 1), 'max_iter': 500, 'solver': 'adam'}\", 5, 377796858.0856876, 19436.997146825113, 4439.009861338491, 112.35930740213276, 7.1830079555511475]\n",
            "Fitting 5 folds for each of 24 candidates, totalling 120 fits\n",
            "['SK_PONTO', 'Best Params', 'N_Past_Vl', 'MSE', 'RMSE', 'MAE', 'MAPE', 'Duration']\n",
            "[1, \"{'activation': 'identity', 'alpha': 0.01, 'hidden_layer_sizes': (2, 6, 1), 'max_iter': 500, 'solver': 'adam'}\", 6, 555865538.0197583, 23576.800843620797, 4239.695848148578, 169.32014808404438, 9.27992582321167]\n",
            "forecast for sk_ponto =  4\n",
            "Fitting 5 folds for each of 24 candidates, totalling 120 fits\n",
            "['SK_PONTO', 'Best Params', 'N_Past_Vl', 'MSE', 'RMSE', 'MAE', 'MAPE', 'Duration']\n",
            "[4, \"{'activation': 'identity', 'alpha': 0.01, 'hidden_layer_sizes': (6, 18, 1), 'max_iter': 500, 'solver': 'adam'}\", 1, 329050911.67686313, 18139.760518729654, 2449.5238855777716, 20.810567464009488, 9.994003295898438]\n",
            "Fitting 5 folds for each of 24 candidates, totalling 120 fits\n",
            "['SK_PONTO', 'Best Params', 'N_Past_Vl', 'MSE', 'RMSE', 'MAE', 'MAPE', 'Duration']\n",
            "[4, \"{'activation': 'identity', 'alpha': 0.0001, 'hidden_layer_sizes': (2, 6, 1), 'max_iter': 500, 'solver': 'adam'}\", 2, 260863276.4960891, 16151.262380881846, 1950.290466083752, 19.993111342686916, 8.5530104637146]\n",
            "Fitting 5 folds for each of 24 candidates, totalling 120 fits\n",
            "['SK_PONTO', 'Best Params', 'N_Past_Vl', 'MSE', 'RMSE', 'MAE', 'MAPE', 'Duration']\n",
            "[4, \"{'activation': 'identity', 'alpha': 0.0001, 'hidden_layer_sizes': (2, 6, 1), 'max_iter': 500, 'solver': 'adam'}\", 3, 338941221.1390559, 18410.356355569435, 2439.6049940958765, 22.436045565570595, 5.790958881378174]\n",
            "Fitting 5 folds for each of 24 candidates, totalling 120 fits\n",
            "['SK_PONTO', 'Best Params', 'N_Past_Vl', 'MSE', 'RMSE', 'MAE', 'MAPE', 'Duration']\n",
            "[4, \"{'activation': 'identity', 'alpha': 0.01, 'hidden_layer_sizes': (6, 12, 1), 'max_iter': 500, 'solver': 'adam'}\", 4, 299934686.4616285, 17318.622533608974, 3597.8903551295734, 22.676950202488936, 9.573001146316528]\n",
            "Fitting 5 folds for each of 24 candidates, totalling 120 fits\n",
            "['SK_PONTO', 'Best Params', 'N_Past_Vl', 'MSE', 'RMSE', 'MAE', 'MAPE', 'Duration']\n",
            "[4, \"{'activation': 'identity', 'alpha': 0.01, 'hidden_layer_sizes': (6, 18, 1), 'max_iter': 500, 'solver': 'adam'}\", 5, 372718174.7793442, 19305.91035873067, 5490.143403368165, 25.2947849063552, 9.09127163887024]\n",
            "Fitting 5 folds for each of 24 candidates, totalling 120 fits\n",
            "['SK_PONTO', 'Best Params', 'N_Past_Vl', 'MSE', 'RMSE', 'MAE', 'MAPE', 'Duration']\n",
            "[4, \"{'activation': 'identity', 'alpha': 0.01, 'hidden_layer_sizes': (6, 18, 1), 'max_iter': 500, 'solver': 'adam'}\", 6, 368801650.78561515, 19204.2091944869, 5420.24459711957, 25.255589987330602, 6.568001747131348]\n",
            "forecast for sk_ponto =  5\n",
            "Fitting 5 folds for each of 24 candidates, totalling 120 fits\n",
            "['SK_PONTO', 'Best Params', 'N_Past_Vl', 'MSE', 'RMSE', 'MAE', 'MAPE', 'Duration']\n",
            "[5, \"{'activation': 'relu', 'alpha': 0.0001, 'hidden_layer_sizes': (2, 6, 1), 'max_iter': 500, 'solver': 'adam'}\", 1, 366550350.30143404, 19145.504702186205, 2484.090504804204, 14.304743570566092, 8.117002487182617]\n",
            "Fitting 5 folds for each of 24 candidates, totalling 120 fits\n",
            "['SK_PONTO', 'Best Params', 'N_Past_Vl', 'MSE', 'RMSE', 'MAE', 'MAPE', 'Duration']\n",
            "[5, \"{'activation': 'relu', 'alpha': 0.01, 'hidden_layer_sizes': (6, 12, 1), 'max_iter': 500, 'solver': 'adam'}\", 2, 367518155.6261663, 19170.763042356095, 2580.7167292602826, 14.93378148308168, 6.297005653381348]\n",
            "Fitting 5 folds for each of 24 candidates, totalling 120 fits\n",
            "['SK_PONTO', 'Best Params', 'N_Past_Vl', 'MSE', 'RMSE', 'MAE', 'MAPE', 'Duration']\n",
            "[5, \"{'activation': 'identity', 'alpha': 0.01, 'hidden_layer_sizes': (4, 6, 1), 'max_iter': 500, 'solver': 'adam'}\", 3, 343838393.36594677, 18542.879856320775, 3438.278596232558, 14.853128165600479, 5.05699896812439]\n",
            "Fitting 5 folds for each of 24 candidates, totalling 120 fits\n",
            "['SK_PONTO', 'Best Params', 'N_Past_Vl', 'MSE', 'RMSE', 'MAE', 'MAPE', 'Duration']\n",
            "[5, \"{'activation': 'identity', 'alpha': 0.0001, 'hidden_layer_sizes': (2, 6, 1), 'max_iter': 500, 'solver': 'adam'}\", 4, 346998220.62380975, 18627.88824917655, 3245.463121710811, 14.78379896187438, 7.365003824234009]\n",
            "Fitting 5 folds for each of 24 candidates, totalling 120 fits\n"
          ]
        },
        {
          "name": "stderr",
          "output_type": "stream",
          "text": [
            "c:\\Python\\lib\\site-packages\\sklearn\\neural_network\\_multilayer_perceptron.py:692: ConvergenceWarning: Stochastic Optimizer: Maximum iterations (500) reached and the optimization hasn't converged yet.\n",
            "  warnings.warn(\n"
          ]
        },
        {
          "name": "stdout",
          "output_type": "stream",
          "text": [
            "['SK_PONTO', 'Best Params', 'N_Past_Vl', 'MSE', 'RMSE', 'MAE', 'MAPE', 'Duration']\n",
            "[5, \"{'activation': 'identity', 'alpha': 0.0001, 'hidden_layer_sizes': (2, 6, 1), 'max_iter': 500, 'solver': 'adam'}\", 5, 304501511.4524178, 17449.971674831388, 3646.440735494107, 13.90386586071668, 6.863081216812134]\n",
            "Fitting 5 folds for each of 24 candidates, totalling 120 fits\n",
            "['SK_PONTO', 'Best Params', 'N_Past_Vl', 'MSE', 'RMSE', 'MAE', 'MAPE', 'Duration']\n",
            "[5, \"{'activation': 'identity', 'alpha': 0.01, 'hidden_layer_sizes': (2, 6, 1), 'max_iter': 500, 'solver': 'adam'}\", 6, 315032105.6447888, 17749.143800329886, 4276.631761250639, 14.636730276893623, 6.804002285003662]\n",
            "forecast for sk_ponto =  6\n",
            "Fitting 5 folds for each of 24 candidates, totalling 120 fits\n",
            "['SK_PONTO', 'Best Params', 'N_Past_Vl', 'MSE', 'RMSE', 'MAE', 'MAPE', 'Duration']\n",
            "[6, \"{'activation': 'relu', 'alpha': 0.01, 'hidden_layer_sizes': (2, 6, 1), 'max_iter': 500, 'solver': 'adam'}\", 1, 22449262.36321315, 4738.065255271728, 813.0996209068035, 12.00150510862876, 8.193008422851562]\n",
            "Fitting 5 folds for each of 24 candidates, totalling 120 fits\n",
            "['SK_PONTO', 'Best Params', 'N_Past_Vl', 'MSE', 'RMSE', 'MAE', 'MAPE', 'Duration']\n",
            "[6, \"{'activation': 'identity', 'alpha': 0.01, 'hidden_layer_sizes': (2, 6, 1), 'max_iter': 500, 'solver': 'adam'}\", 2, 23260349.136185784, 4822.898416531887, 734.7275130594644, 12.06866428343386, 6.333002805709839]\n",
            "Fitting 5 folds for each of 24 candidates, totalling 120 fits\n",
            "['SK_PONTO', 'Best Params', 'N_Past_Vl', 'MSE', 'RMSE', 'MAE', 'MAPE', 'Duration']\n",
            "[6, \"{'activation': 'identity', 'alpha': 0.01, 'hidden_layer_sizes': (4, 6, 1), 'max_iter': 500, 'solver': 'adam'}\", 3, 23223474.20292426, 4819.073998490193, 569.7512161534178, 12.185598518008197, 5.550001859664917]\n",
            "Fitting 5 folds for each of 24 candidates, totalling 120 fits\n",
            "['SK_PONTO', 'Best Params', 'N_Past_Vl', 'MSE', 'RMSE', 'MAE', 'MAPE', 'Duration']\n",
            "[6, \"{'activation': 'identity', 'alpha': 0.01, 'hidden_layer_sizes': (2, 6, 1), 'max_iter': 500, 'solver': 'adam'}\", 4, 22959601.187666763, 4791.617804840737, 608.3408410694828, 12.010531945206395, 6.9000020027160645]\n",
            "Fitting 5 folds for each of 24 candidates, totalling 120 fits\n"
          ]
        },
        {
          "name": "stderr",
          "output_type": "stream",
          "text": [
            "c:\\Python\\lib\\site-packages\\sklearn\\neural_network\\_multilayer_perceptron.py:692: ConvergenceWarning: Stochastic Optimizer: Maximum iterations (500) reached and the optimization hasn't converged yet.\n",
            "  warnings.warn(\n"
          ]
        },
        {
          "name": "stdout",
          "output_type": "stream",
          "text": [
            "['SK_PONTO', 'Best Params', 'N_Past_Vl', 'MSE', 'RMSE', 'MAE', 'MAPE', 'Duration']\n",
            "[6, \"{'activation': 'identity', 'alpha': 0.0001, 'hidden_layer_sizes': (2, 6, 1), 'max_iter': 500, 'solver': 'adam'}\", 5, 22935281.196370848, 4789.0793683515885, 719.6543907076593, 12.113549983365314, 7.303002834320068]\n",
            "Fitting 5 folds for each of 24 candidates, totalling 120 fits\n",
            "['SK_PONTO', 'Best Params', 'N_Past_Vl', 'MSE', 'RMSE', 'MAE', 'MAPE', 'Duration']\n",
            "[6, \"{'activation': 'identity', 'alpha': 0.01, 'hidden_layer_sizes': (2, 6, 1), 'max_iter': 500, 'solver': 'adam'}\", 6, 24314593.490189526, 4930.983014591465, 846.8439041935999, 12.727429005137703, 8.506003856658936]\n",
            "forecast for sk_ponto =  7\n",
            "Fitting 5 folds for each of 24 candidates, totalling 120 fits\n",
            "['SK_PONTO', 'Best Params', 'N_Past_Vl', 'MSE', 'RMSE', 'MAE', 'MAPE', 'Duration']\n",
            "[7, \"{'activation': 'identity', 'alpha': 0.0001, 'hidden_layer_sizes': (4, 6, 1), 'max_iter': 500, 'solver': 'adam'}\", 1, 113324835.6177275, 10645.413830271114, 4490.10656431441, 13.747294757844298, 8.94200325012207]\n",
            "Fitting 5 folds for each of 24 candidates, totalling 120 fits\n",
            "['SK_PONTO', 'Best Params', 'N_Past_Vl', 'MSE', 'RMSE', 'MAE', 'MAPE', 'Duration']\n",
            "[7, \"{'activation': 'relu', 'alpha': 0.01, 'hidden_layer_sizes': (6, 12, 1), 'max_iter': 500, 'solver': 'adam'}\", 2, 103776418.77402608, 10187.071157797323, 3978.359609283463, 12.881735078025901, 8.201736450195312]\n",
            "Fitting 5 folds for each of 24 candidates, totalling 120 fits\n"
          ]
        },
        {
          "name": "stderr",
          "output_type": "stream",
          "text": [
            "c:\\Python\\lib\\site-packages\\sklearn\\neural_network\\_multilayer_perceptron.py:692: ConvergenceWarning: Stochastic Optimizer: Maximum iterations (500) reached and the optimization hasn't converged yet.\n",
            "  warnings.warn(\n"
          ]
        },
        {
          "name": "stdout",
          "output_type": "stream",
          "text": [
            "['SK_PONTO', 'Best Params', 'N_Past_Vl', 'MSE', 'RMSE', 'MAE', 'MAPE', 'Duration']\n",
            "[7, \"{'activation': 'identity', 'alpha': 0.01, 'hidden_layer_sizes': (6, 12, 1), 'max_iter': 500, 'solver': 'adam'}\", 3, 98710570.89528935, 9935.319365540765, 3846.4470555814187, 12.590428542836566, 7.597494125366211]\n",
            "Fitting 5 folds for each of 24 candidates, totalling 120 fits\n"
          ]
        },
        {
          "name": "stderr",
          "output_type": "stream",
          "text": [
            "c:\\Python\\lib\\site-packages\\sklearn\\neural_network\\_multilayer_perceptron.py:692: ConvergenceWarning: Stochastic Optimizer: Maximum iterations (500) reached and the optimization hasn't converged yet.\n",
            "  warnings.warn(\n"
          ]
        },
        {
          "name": "stdout",
          "output_type": "stream",
          "text": [
            "['SK_PONTO', 'Best Params', 'N_Past_Vl', 'MSE', 'RMSE', 'MAE', 'MAPE', 'Duration']\n",
            "[7, \"{'activation': 'identity', 'alpha': 0.0001, 'hidden_layer_sizes': (2, 6, 1), 'max_iter': 500, 'solver': 'adam'}\", 4, 107457904.7925751, 10366.190466732469, 4191.775514611865, 13.17538238249845, 9.301336526870728]\n",
            "Fitting 5 folds for each of 24 candidates, totalling 120 fits\n",
            "['SK_PONTO', 'Best Params', 'N_Past_Vl', 'MSE', 'RMSE', 'MAE', 'MAPE', 'Duration']\n",
            "[7, \"{'activation': 'relu', 'alpha': 0.0001, 'hidden_layer_sizes': (6, 12, 1), 'max_iter': 500, 'solver': 'adam'}\", 5, 149845165.2882023, 12241.125981224206, 3383.6946626319623, 15.418189852849803, 7.6200385093688965]\n",
            "Fitting 5 folds for each of 24 candidates, totalling 120 fits\n",
            "['SK_PONTO', 'Best Params', 'N_Past_Vl', 'MSE', 'RMSE', 'MAE', 'MAPE', 'Duration']\n",
            "[7, \"{'activation': 'identity', 'alpha': 0.01, 'hidden_layer_sizes': (2, 6, 1), 'max_iter': 500, 'solver': 'adam'}\", 6, 157163078.22420895, 12536.469926746084, 3260.6884511299286, 15.687336351566906, 6.387002468109131]\n",
            "forecast for sk_ponto =  8\n",
            "Fitting 5 folds for each of 24 candidates, totalling 120 fits\n"
          ]
        },
        {
          "name": "stderr",
          "output_type": "stream",
          "text": [
            "c:\\Python\\lib\\site-packages\\sklearn\\neural_network\\_multilayer_perceptron.py:692: ConvergenceWarning: Stochastic Optimizer: Maximum iterations (500) reached and the optimization hasn't converged yet.\n",
            "  warnings.warn(\n"
          ]
        },
        {
          "name": "stdout",
          "output_type": "stream",
          "text": [
            "['SK_PONTO', 'Best Params', 'N_Past_Vl', 'MSE', 'RMSE', 'MAE', 'MAPE', 'Duration']\n",
            "[8, \"{'activation': 'identity', 'alpha': 0.0001, 'hidden_layer_sizes': (2, 6, 1), 'max_iter': 500, 'solver': 'adam'}\", 1, 15909515.269760547, 3988.673372157784, 559.8238828813301, 13.772125488759917, 8.20400333404541]\n",
            "Fitting 5 folds for each of 24 candidates, totalling 120 fits\n",
            "['SK_PONTO', 'Best Params', 'N_Past_Vl', 'MSE', 'RMSE', 'MAE', 'MAPE', 'Duration']\n",
            "[8, \"{'activation': 'identity', 'alpha': 0.0001, 'hidden_layer_sizes': (2, 6, 1), 'max_iter': 500, 'solver': 'adam'}\", 2, 15393090.106858937, 3923.4028733815926, 521.996135096535, 13.652696922544827, 6.963001728057861]\n",
            "Fitting 5 folds for each of 24 candidates, totalling 120 fits\n"
          ]
        },
        {
          "name": "stderr",
          "output_type": "stream",
          "text": [
            "c:\\Python\\lib\\site-packages\\sklearn\\neural_network\\_multilayer_perceptron.py:692: ConvergenceWarning: Stochastic Optimizer: Maximum iterations (500) reached and the optimization hasn't converged yet.\n",
            "  warnings.warn(\n"
          ]
        },
        {
          "name": "stdout",
          "output_type": "stream",
          "text": [
            "['SK_PONTO', 'Best Params', 'N_Past_Vl', 'MSE', 'RMSE', 'MAE', 'MAPE', 'Duration']\n",
            "[8, \"{'activation': 'identity', 'alpha': 0.0001, 'hidden_layer_sizes': (6, 12, 1), 'max_iter': 500, 'solver': 'adam'}\", 3, 15633155.907258907, 3953.8785903538956, 545.4703068947892, 13.81425989282438, 6.916999340057373]\n",
            "Fitting 5 folds for each of 24 candidates, totalling 120 fits\n"
          ]
        },
        {
          "name": "stderr",
          "output_type": "stream",
          "text": [
            "c:\\Python\\lib\\site-packages\\sklearn\\neural_network\\_multilayer_perceptron.py:692: ConvergenceWarning: Stochastic Optimizer: Maximum iterations (500) reached and the optimization hasn't converged yet.\n",
            "  warnings.warn(\n"
          ]
        },
        {
          "name": "stdout",
          "output_type": "stream",
          "text": [
            "['SK_PONTO', 'Best Params', 'N_Past_Vl', 'MSE', 'RMSE', 'MAE', 'MAPE', 'Duration']\n",
            "[8, \"{'activation': 'identity', 'alpha': 0.0001, 'hidden_layer_sizes': (4, 6, 1), 'max_iter': 500, 'solver': 'adam'}\", 4, 15594623.593876632, 3949.002860707578, 452.69475732374303, 13.717352741396358, 7.864002704620361]\n",
            "Fitting 5 folds for each of 24 candidates, totalling 120 fits\n"
          ]
        },
        {
          "name": "stderr",
          "output_type": "stream",
          "text": [
            "c:\\Python\\lib\\site-packages\\sklearn\\neural_network\\_multilayer_perceptron.py:692: ConvergenceWarning: Stochastic Optimizer: Maximum iterations (500) reached and the optimization hasn't converged yet.\n",
            "  warnings.warn(\n"
          ]
        },
        {
          "name": "stdout",
          "output_type": "stream",
          "text": [
            "['SK_PONTO', 'Best Params', 'N_Past_Vl', 'MSE', 'RMSE', 'MAE', 'MAPE', 'Duration']\n",
            "[8, \"{'activation': 'identity', 'alpha': 0.0001, 'hidden_layer_sizes': (2, 6, 1), 'max_iter': 500, 'solver': 'adam'}\", 5, 15877316.093796276, 3984.635001326505, 528.8619660201693, 13.865810660225359, 9.358001708984375]\n",
            "Fitting 5 folds for each of 24 candidates, totalling 120 fits\n",
            "['SK_PONTO', 'Best Params', 'N_Past_Vl', 'MSE', 'RMSE', 'MAE', 'MAPE', 'Duration']\n",
            "[8, \"{'activation': 'identity', 'alpha': 0.01, 'hidden_layer_sizes': (2, 6, 1), 'max_iter': 500, 'solver': 'adam'}\", 6, 16952671.013063975, 4117.3621425694355, 934.3570425539965, 15.189757804341872, 8.035515785217285]\n",
            "forecast for sk_ponto =  9\n",
            "Fitting 5 folds for each of 24 candidates, totalling 120 fits\n"
          ]
        },
        {
          "name": "stderr",
          "output_type": "stream",
          "text": [
            "c:\\Python\\lib\\site-packages\\sklearn\\neural_network\\_multilayer_perceptron.py:692: ConvergenceWarning: Stochastic Optimizer: Maximum iterations (500) reached and the optimization hasn't converged yet.\n",
            "  warnings.warn(\n"
          ]
        },
        {
          "name": "stdout",
          "output_type": "stream",
          "text": [
            "['SK_PONTO', 'Best Params', 'N_Past_Vl', 'MSE', 'RMSE', 'MAE', 'MAPE', 'Duration']\n",
            "[9, \"{'activation': 'relu', 'alpha': 0.01, 'hidden_layer_sizes': (2, 6, 1), 'max_iter': 500, 'solver': 'adam'}\", 1, 151510073.44256184, 12308.942823921225, 2477.2026450789417, 23.179794737520798, 10.587002992630005]\n",
            "Fitting 5 folds for each of 24 candidates, totalling 120 fits\n",
            "['SK_PONTO', 'Best Params', 'N_Past_Vl', 'MSE', 'RMSE', 'MAE', 'MAPE', 'Duration']\n",
            "[9, \"{'activation': 'identity', 'alpha': 0.01, 'hidden_layer_sizes': (2, 6, 1), 'max_iter': 500, 'solver': 'adam'}\", 2, 161911362.41587976, 12724.43957177996, 3265.7209915616622, 24.05060745480481, 7.609917163848877]\n",
            "Fitting 5 folds for each of 24 candidates, totalling 120 fits\n"
          ]
        },
        {
          "name": "stderr",
          "output_type": "stream",
          "text": [
            "c:\\Python\\lib\\site-packages\\sklearn\\neural_network\\_multilayer_perceptron.py:692: ConvergenceWarning: Stochastic Optimizer: Maximum iterations (500) reached and the optimization hasn't converged yet.\n",
            "  warnings.warn(\n"
          ]
        },
        {
          "name": "stdout",
          "output_type": "stream",
          "text": [
            "['SK_PONTO', 'Best Params', 'N_Past_Vl', 'MSE', 'RMSE', 'MAE', 'MAPE', 'Duration']\n",
            "[9, \"{'activation': 'identity', 'alpha': 0.0001, 'hidden_layer_sizes': (6, 12, 1), 'max_iter': 500, 'solver': 'adam'}\", 3, 169523101.41718242, 13020.10374064594, 2727.8638533906924, 24.52901769611084, 6.1369922161102295]\n",
            "Fitting 5 folds for each of 24 candidates, totalling 120 fits\n"
          ]
        },
        {
          "name": "stderr",
          "output_type": "stream",
          "text": [
            "c:\\Python\\lib\\site-packages\\sklearn\\neural_network\\_multilayer_perceptron.py:692: ConvergenceWarning: Stochastic Optimizer: Maximum iterations (500) reached and the optimization hasn't converged yet.\n",
            "  warnings.warn(\n"
          ]
        },
        {
          "name": "stdout",
          "output_type": "stream",
          "text": [
            "['SK_PONTO', 'Best Params', 'N_Past_Vl', 'MSE', 'RMSE', 'MAE', 'MAPE', 'Duration']\n",
            "[9, \"{'activation': 'identity', 'alpha': 0.01, 'hidden_layer_sizes': (4, 6, 1), 'max_iter': 500, 'solver': 'adam'}\", 4, 175681663.05050215, 13254.49595610871, 2712.5502656557146, 25.085859539562517, 8.8960440158844]\n",
            "Fitting 5 folds for each of 24 candidates, totalling 120 fits\n"
          ]
        },
        {
          "name": "stderr",
          "output_type": "stream",
          "text": [
            "c:\\Python\\lib\\site-packages\\sklearn\\neural_network\\_multilayer_perceptron.py:692: ConvergenceWarning: Stochastic Optimizer: Maximum iterations (500) reached and the optimization hasn't converged yet.\n",
            "  warnings.warn(\n"
          ]
        },
        {
          "name": "stdout",
          "output_type": "stream",
          "text": [
            "['SK_PONTO', 'Best Params', 'N_Past_Vl', 'MSE', 'RMSE', 'MAE', 'MAPE', 'Duration']\n",
            "[9, \"{'activation': 'identity', 'alpha': 0.0001, 'hidden_layer_sizes': (2, 6, 1), 'max_iter': 500, 'solver': 'adam'}\", 5, 177299464.93531862, 13315.384520745865, 2270.70908698703, 25.439614128961978, 6.842082738876343]\n",
            "Fitting 5 folds for each of 24 candidates, totalling 120 fits\n",
            "['SK_PONTO', 'Best Params', 'N_Past_Vl', 'MSE', 'RMSE', 'MAE', 'MAPE', 'Duration']\n",
            "[9, \"{'activation': 'identity', 'alpha': 0.01, 'hidden_layer_sizes': (2, 6, 1), 'max_iter': 500, 'solver': 'adam'}\", 6, 201313992.27552688, 14188.51621120147, 4893.3820006731985, 27.92845294376302, 5.646931171417236]\n",
            "forecast for sk_ponto =  11\n",
            "Fitting 5 folds for each of 24 candidates, totalling 120 fits\n",
            "['SK_PONTO', 'Best Params', 'N_Past_Vl', 'MSE', 'RMSE', 'MAE', 'MAPE', 'Duration']\n",
            "[11, \"{'activation': 'relu', 'alpha': 0.01, 'hidden_layer_sizes': (2, 6, 1), 'max_iter': 500, 'solver': 'adam'}\", 1, 263175941.83396316, 16222.698352430867, 2851.5239216852206, 11.761968843622473, 7.1580023765563965]\n",
            "Fitting 5 folds for each of 24 candidates, totalling 120 fits\n",
            "['SK_PONTO', 'Best Params', 'N_Past_Vl', 'MSE', 'RMSE', 'MAE', 'MAPE', 'Duration']\n",
            "[11, \"{'activation': 'relu', 'alpha': 0.001, 'hidden_layer_sizes': (6, 12, 1), 'max_iter': 500, 'solver': 'adam'}\", 2, 270492133.33648986, 16446.645048048245, 3305.3294307829638, 12.189257070526612, 6.1710076332092285]\n",
            "Fitting 5 folds for each of 24 candidates, totalling 120 fits\n",
            "['SK_PONTO', 'Best Params', 'N_Past_Vl', 'MSE', 'RMSE', 'MAE', 'MAPE', 'Duration']\n",
            "[11, \"{'activation': 'identity', 'alpha': 0.01, 'hidden_layer_sizes': (4, 6, 1), 'max_iter': 500, 'solver': 'adam'}\", 3, 275387226.0136253, 16594.79514828747, 2894.684815654822, 12.277740721561074, 4.747990846633911]\n",
            "Fitting 5 folds for each of 24 candidates, totalling 120 fits\n"
          ]
        },
        {
          "name": "stderr",
          "output_type": "stream",
          "text": [
            "c:\\Python\\lib\\site-packages\\sklearn\\neural_network\\_multilayer_perceptron.py:692: ConvergenceWarning: Stochastic Optimizer: Maximum iterations (500) reached and the optimization hasn't converged yet.\n",
            "  warnings.warn(\n"
          ]
        },
        {
          "name": "stdout",
          "output_type": "stream",
          "text": [
            "['SK_PONTO', 'Best Params', 'N_Past_Vl', 'MSE', 'RMSE', 'MAE', 'MAPE', 'Duration']\n",
            "[11, \"{'activation': 'identity', 'alpha': 0.0001, 'hidden_layer_sizes': (2, 6, 1), 'max_iter': 500, 'solver': 'adam'}\", 4, 259693157.2577689, 16114.9978981621, 3035.5134393404005, 11.857174360458725, 6.596003532409668]\n",
            "Fitting 5 folds for each of 24 candidates, totalling 120 fits\n"
          ]
        },
        {
          "name": "stderr",
          "output_type": "stream",
          "text": [
            "c:\\Python\\lib\\site-packages\\sklearn\\neural_network\\_multilayer_perceptron.py:692: ConvergenceWarning: Stochastic Optimizer: Maximum iterations (500) reached and the optimization hasn't converged yet.\n",
            "  warnings.warn(\n"
          ]
        },
        {
          "name": "stdout",
          "output_type": "stream",
          "text": [
            "['SK_PONTO', 'Best Params', 'N_Past_Vl', 'MSE', 'RMSE', 'MAE', 'MAPE', 'Duration']\n",
            "[11, \"{'activation': 'identity', 'alpha': 0.0001, 'hidden_layer_sizes': (2, 6, 1), 'max_iter': 500, 'solver': 'adam'}\", 5, 263502352.75483847, 16232.755550270524, 3248.358684940249, 12.066922375343289, 5.953932762145996]\n",
            "Fitting 5 folds for each of 24 candidates, totalling 120 fits\n",
            "['SK_PONTO', 'Best Params', 'N_Past_Vl', 'MSE', 'RMSE', 'MAE', 'MAPE', 'Duration']\n",
            "[11, \"{'activation': 'identity', 'alpha': 0.0001, 'hidden_layer_sizes': (2, 6, 1), 'max_iter': 500, 'solver': 'adam'}\", 6, 270419228.6138203, 16444.4284976347, 3629.484695963969, 12.194734275853524, 5.541928052902222]\n",
            "forecast for sk_ponto =  12\n",
            "Fitting 5 folds for each of 24 candidates, totalling 120 fits\n",
            "['SK_PONTO', 'Best Params', 'N_Past_Vl', 'MSE', 'RMSE', 'MAE', 'MAPE', 'Duration']\n",
            "[12, \"{'activation': 'identity', 'alpha': 0.0001, 'hidden_layer_sizes': (4, 6, 1), 'max_iter': 500, 'solver': 'adam'}\", 1, 32856249.728871863, 5732.037136033913, 1126.2667425166364, 11.76681495019462, 7.576065540313721]\n",
            "Fitting 5 folds for each of 24 candidates, totalling 120 fits\n",
            "['SK_PONTO', 'Best Params', 'N_Past_Vl', 'MSE', 'RMSE', 'MAE', 'MAPE', 'Duration']\n",
            "[12, \"{'activation': 'relu', 'alpha': 0.01, 'hidden_layer_sizes': (6, 12, 1), 'max_iter': 500, 'solver': 'adam'}\", 2, 35174448.93676501, 5930.805083356307, 1460.35498379638, 12.394937261350258, 5.457930564880371]\n",
            "Fitting 5 folds for each of 24 candidates, totalling 120 fits\n",
            "['SK_PONTO', 'Best Params', 'N_Past_Vl', 'MSE', 'RMSE', 'MAE', 'MAPE', 'Duration']\n",
            "[12, \"{'activation': 'identity', 'alpha': 0.01, 'hidden_layer_sizes': (4, 6, 1), 'max_iter': 500, 'solver': 'adam'}\", 3, 37007229.6233657, 6083.356772651568, 1620.2823242634622, 12.815486312253341, 4.6900036334991455]\n",
            "Fitting 5 folds for each of 24 candidates, totalling 120 fits\n",
            "['SK_PONTO', 'Best Params', 'N_Past_Vl', 'MSE', 'RMSE', 'MAE', 'MAPE', 'Duration']\n",
            "[12, \"{'activation': 'identity', 'alpha': 0.0001, 'hidden_layer_sizes': (2, 6, 1), 'max_iter': 500, 'solver': 'adam'}\", 4, 33980711.82412726, 5829.297712771861, 1142.8170115826651, 12.106099206011441, 7.050940990447998]\n",
            "Fitting 5 folds for each of 24 candidates, totalling 120 fits\n"
          ]
        },
        {
          "name": "stderr",
          "output_type": "stream",
          "text": [
            "c:\\Python\\lib\\site-packages\\sklearn\\neural_network\\_multilayer_perceptron.py:692: ConvergenceWarning: Stochastic Optimizer: Maximum iterations (500) reached and the optimization hasn't converged yet.\n",
            "  warnings.warn(\n"
          ]
        },
        {
          "name": "stdout",
          "output_type": "stream",
          "text": [
            "['SK_PONTO', 'Best Params', 'N_Past_Vl', 'MSE', 'RMSE', 'MAE', 'MAPE', 'Duration']\n",
            "[12, \"{'activation': 'identity', 'alpha': 0.0001, 'hidden_layer_sizes': (2, 6, 1), 'max_iter': 500, 'solver': 'adam'}\", 5, 34233983.524904184, 5850.981415532286, 1212.8184449594992, 12.220217406663544, 6.269255638122559]\n",
            "Fitting 5 folds for each of 24 candidates, totalling 120 fits\n",
            "['SK_PONTO', 'Best Params', 'N_Past_Vl', 'MSE', 'RMSE', 'MAE', 'MAPE', 'Duration']\n",
            "[12, \"{'activation': 'identity', 'alpha': 0.01, 'hidden_layer_sizes': (2, 6, 1), 'max_iter': 500, 'solver': 'adam'}\", 6, 38023923.95103798, 6166.354186311226, 1319.8734885508638, 12.892336432156181, 5.6239330768585205]\n",
            "forecast for sk_ponto =  13\n",
            "Fitting 5 folds for each of 24 candidates, totalling 120 fits\n",
            "['SK_PONTO', 'Best Params', 'N_Past_Vl', 'MSE', 'RMSE', 'MAE', 'MAPE', 'Duration']\n",
            "[13, \"{'activation': 'identity', 'alpha': 0.01, 'hidden_layer_sizes': (6, 18, 1), 'max_iter': 500, 'solver': 'adam'}\", 1, 15687258396.23758, 125248.78600704113, 20446.863452158577, 45.71067891999098, 7.00700306892395]\n",
            "Fitting 5 folds for each of 24 candidates, totalling 120 fits\n"
          ]
        },
        {
          "name": "stderr",
          "output_type": "stream",
          "text": [
            "c:\\Python\\lib\\site-packages\\sklearn\\neural_network\\_multilayer_perceptron.py:692: ConvergenceWarning: Stochastic Optimizer: Maximum iterations (500) reached and the optimization hasn't converged yet.\n",
            "  warnings.warn(\n"
          ]
        },
        {
          "name": "stdout",
          "output_type": "stream",
          "text": [
            "['SK_PONTO', 'Best Params', 'N_Past_Vl', 'MSE', 'RMSE', 'MAE', 'MAPE', 'Duration']\n",
            "[13, \"{'activation': 'identity', 'alpha': 0.01, 'hidden_layer_sizes': (4, 6, 1), 'max_iter': 500, 'solver': 'adam'}\", 2, 28845644199.449005, 169840.05475578783, 67388.15349922719, 69.87495014360603, 7.089000940322876]\n",
            "Fitting 5 folds for each of 24 candidates, totalling 120 fits\n",
            "['SK_PONTO', 'Best Params', 'N_Past_Vl', 'MSE', 'RMSE', 'MAE', 'MAPE', 'Duration']\n",
            "[13, \"{'activation': 'identity', 'alpha': 0.01, 'hidden_layer_sizes': (4, 6, 1), 'max_iter': 500, 'solver': 'adam'}\", 3, 26978089428.087513, 164250.08197284868, 63951.62142273053, 70.06549187255987, 6.6995909214019775]\n",
            "Fitting 5 folds for each of 24 candidates, totalling 120 fits\n"
          ]
        },
        {
          "name": "stderr",
          "output_type": "stream",
          "text": [
            "c:\\Python\\lib\\site-packages\\sklearn\\neural_network\\_multilayer_perceptron.py:692: ConvergenceWarning: Stochastic Optimizer: Maximum iterations (500) reached and the optimization hasn't converged yet.\n",
            "  warnings.warn(\n"
          ]
        },
        {
          "name": "stdout",
          "output_type": "stream",
          "text": [
            "['SK_PONTO', 'Best Params', 'N_Past_Vl', 'MSE', 'RMSE', 'MAE', 'MAPE', 'Duration']\n",
            "[13, \"{'activation': 'identity', 'alpha': 0.0001, 'hidden_layer_sizes': (2, 6, 1), 'max_iter': 500, 'solver': 'adam'}\", 4, 25047984954.65634, 158265.55201513798, 55841.22077277588, 69.28290530387548, 7.109915494918823]\n",
            "Fitting 5 folds for each of 24 candidates, totalling 120 fits\n"
          ]
        },
        {
          "name": "stderr",
          "output_type": "stream",
          "text": [
            "c:\\Python\\lib\\site-packages\\sklearn\\neural_network\\_multilayer_perceptron.py:692: ConvergenceWarning: Stochastic Optimizer: Maximum iterations (500) reached and the optimization hasn't converged yet.\n",
            "  warnings.warn(\n"
          ]
        },
        {
          "name": "stdout",
          "output_type": "stream",
          "text": [
            "['SK_PONTO', 'Best Params', 'N_Past_Vl', 'MSE', 'RMSE', 'MAE', 'MAPE', 'Duration']\n",
            "[13, \"{'activation': 'identity', 'alpha': 0.0001, 'hidden_layer_sizes': (2, 6, 1), 'max_iter': 500, 'solver': 'adam'}\", 5, 21198737399.164017, 145597.86193198035, 46570.30663081317, 61.60837407420284, 6.96699333190918]\n",
            "Fitting 5 folds for each of 24 candidates, totalling 120 fits\n",
            "['SK_PONTO', 'Best Params', 'N_Past_Vl', 'MSE', 'RMSE', 'MAE', 'MAPE', 'Duration']\n",
            "[13, \"{'activation': 'identity', 'alpha': 0.001, 'hidden_layer_sizes': (2, 6, 1), 'max_iter': 500, 'solver': 'adam'}\", 6, 38500760859.01732, 196216.10754221305, 94735.21530525343, 98.41666681987506, 6.666959524154663]\n"
          ]
        }
      ],
      "source": [
        "#selects the identification points of each reservoir\n",
        "df_unique_pontos = dataset['SK_PONTO'].unique()\n",
        "\n",
        "#create file to results\n",
        "criar_arquivo_resultado()\n",
        "\n",
        "for sk in np.array(df_unique_pontos):\n",
        "    print('forecast for sk_ponto = ',sk)\n",
        "    df_ponto = dataset[dataset['SK_PONTO']==sk]\n",
        "    df_ponto = df_ponto.drop('SK_PONTO',axis=1)\n",
        "    for n_time_steps in range(1,7): #predict with 1 to 6 past values of medition\n",
        "        grid = previsao_MLP(sk, df_ponto, n_time_steps)"
      ]
    },
    {
      "cell_type": "markdown",
      "metadata": {
        "id": "MEevt86uejTw"
      },
      "source": [
        "\n"
      ]
    }
  ],
  "metadata": {
    "colab": {
      "provenance": []
    },
    "kernelspec": {
      "display_name": "Python 3.9.5 64-bit",
      "language": "python",
      "name": "python3"
    },
    "language_info": {
      "codemirror_mode": {
        "name": "ipython",
        "version": 3
      },
      "file_extension": ".py",
      "mimetype": "text/x-python",
      "name": "python",
      "nbconvert_exporter": "python",
      "pygments_lexer": "ipython3",
      "version": "3.9.5"
    },
    "vscode": {
      "interpreter": {
        "hash": "52634da84371cba311ea128a5ea7cdc41ff074b781779e754b270ff9f8153cee"
      }
    }
  },
  "nbformat": 4,
  "nbformat_minor": 0
}
