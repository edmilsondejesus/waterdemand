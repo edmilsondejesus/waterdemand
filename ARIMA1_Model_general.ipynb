{
  "cells": [
    {
      "cell_type": "code",
      "execution_count": 47,
      "metadata": {
        "colab": {
          "base_uri": "https://localhost:8080/"
        },
        "id": "zn-dHka6KWJP",
        "outputId": "38837bf8-08fa-45ab-92df-0b4cf4c422f0"
      },
      "outputs": [
        {
          "name": "stdout",
          "output_type": "stream",
          "text": [
            "Requirement already satisfied: openpyxl in c:\\python\\lib\\site-packages (3.0.9)"
          ]
        },
        {
          "name": "stderr",
          "output_type": "stream",
          "text": [
            "WARNING: You are using pip version 21.3.1; however, version 22.3.1 is available.\n",
            "You should consider upgrading via the 'c:\\python\\python.exe -m pip install --upgrade pip' command.\n"
          ]
        },
        {
          "name": "stdout",
          "output_type": "stream",
          "text": [
            "\n",
            "Requirement already satisfied: et-xmlfile in c:\\python\\lib\\site-packages (from openpyxl) (1.1.0)\n",
            "Requirement already satisfied: pmdarima in c:\\python\\lib\\site-packages (2.0.2)\n",
            "Requirement already satisfied: scikit-learn>=0.22 in c:\\python\\lib\\site-packages (from pmdarima) (1.0.2)\n",
            "Requirement already satisfied: joblib>=0.11 in c:\\python\\lib\\site-packages (from pmdarima) (1.1.0)\n",
            "Requirement already satisfied: urllib3 in c:\\python\\lib\\site-packages (from pmdarima) (1.26.8)\n",
            "Requirement already satisfied: numpy>=1.21.2 in c:\\python\\lib\\site-packages (from pmdarima) (1.22.1)\n",
            "Requirement already satisfied: Cython!=0.29.18,!=0.29.31,>=0.29 in c:\\python\\lib\\site-packages (from pmdarima) (0.29.32)\n",
            "Requirement already satisfied: setuptools!=50.0.0,>=38.6.0 in c:\\python\\lib\\site-packages (from pmdarima) (56.0.0)\n",
            "Requirement already satisfied: scipy>=1.3.2 in c:\\python\\lib\\site-packages (from pmdarima) (1.7.3)\n",
            "Requirement already satisfied: pandas>=0.19 in c:\\python\\lib\\site-packages (from pmdarima) (1.4.0)\n",
            "Requirement already satisfied: statsmodels>=0.13.2 in c:\\python\\lib\\site-packages (from pmdarima) (0.13.5)\n",
            "Requirement already satisfied: pytz>=2020.1 in c:\\python\\lib\\site-packages (from pandas>=0.19->pmdarima) (2021.3)\n",
            "Requirement already satisfied: python-dateutil>=2.8.1 in c:\\python\\lib\\site-packages (from pandas>=0.19->pmdarima) (2.8.2)\n",
            "Requirement already satisfied: threadpoolctl>=2.0.0 in c:\\python\\lib\\site-packages (from scikit-learn>=0.22->pmdarima) (3.0.0)\n",
            "Requirement already satisfied: packaging>=21.3 in c:\\python\\lib\\site-packages (from statsmodels>=0.13.2->pmdarima) (21.3)\n",
            "Requirement already satisfied: patsy>=0.5.2 in c:\\python\\lib\\site-packages (from statsmodels>=0.13.2->pmdarima) (0.5.3)\n",
            "Requirement already satisfied: pyparsing!=3.0.5,>=2.0.2 in c:\\python\\lib\\site-packages (from packaging>=21.3->statsmodels>=0.13.2->pmdarima) (3.0.8)\n",
            "Requirement already satisfied: six in c:\\python\\lib\\site-packages (from patsy>=0.5.2->statsmodels>=0.13.2->pmdarima) (1.16.0)\n"
          ]
        },
        {
          "name": "stderr",
          "output_type": "stream",
          "text": [
            "WARNING: You are using pip version 21.3.1; however, version 22.3.1 is available.\n",
            "You should consider upgrading via the 'c:\\python\\python.exe -m pip install --upgrade pip' command.\n"
          ]
        }
      ],
      "source": [
        "#!pip install seaborn\n",
        "!pip install openpyxl\n",
        "!pip install pmdarima"
      ]
    },
    {
      "cell_type": "code",
      "execution_count": 48,
      "metadata": {
        "id": "naOfrff2U2Xy"
      },
      "outputs": [],
      "source": [
        "import pandas as pd\n",
        "import numpy as np\n",
        "import random as rd\n",
        "import time\n",
        "import seaborn as sbs\n",
        "from sklearn.model_selection import RepeatedStratifiedKFold\n",
        "from sklearn.model_selection import train_test_split ,GridSearchCV\n",
        "import tensorflow as tf\n",
        "from tensorflow import keras\n",
        "from matplotlib import pyplot\n",
        "from pmdarima.arima import auto_arima\n"
      ]
    },
    {
      "cell_type": "code",
      "execution_count": 49,
      "metadata": {
        "colab": {
          "base_uri": "https://localhost:8080/"
        },
        "id": "u5iIpJyzkmkW",
        "outputId": "b450076e-6353-4892-a940-c7d09cc8eb2e"
      },
      "outputs": [],
      "source": [
        "#from google.colab import drive\n",
        "#drive.mount('/content/drive')\n",
        "arquivo = 'data/DS_Agua_2017_2022.csv'"
      ]
    },
    {
      "cell_type": "code",
      "execution_count": 50,
      "metadata": {
        "id": "JPemdWEukqf-"
      },
      "outputs": [],
      "source": [
        "dataset = pd.read_csv(arquivo, sep =';', encoding = 'latin1', decimal='.')"
      ]
    },
    {
      "cell_type": "code",
      "execution_count": 51,
      "metadata": {
        "colab": {
          "base_uri": "https://localhost:8080/"
        },
        "id": "AuOW4pP6kunV",
        "outputId": "eda40eda-02d5-4cd7-b7ee-6bb008b409b6"
      },
      "outputs": [
        {
          "name": "stdout",
          "output_type": "stream",
          "text": [
            "<class 'pandas.core.frame.DataFrame'>\n",
            "Int64Index: 45240 entries, 1 to 45240\n",
            "Data columns (total 7 columns):\n",
            " #   Column                  Non-Null Count  Dtype  \n",
            "---  ------                  --------------  -----  \n",
            " 0   DT_MEDICAO_HORA         45240 non-null  object \n",
            " 1   PRECIPITACAO            45240 non-null  float64\n",
            " 2   PRESSAO_ATMOSFERICA     45240 non-null  float64\n",
            " 3   TEMPERATURA_DO_AR_C     45240 non-null  float64\n",
            " 4   UMIDADE_RELATIVA_DO_AR  45240 non-null  float64\n",
            " 5   VELOCIDADE_VENTO        45240 non-null  float64\n",
            " 6   VL_MEDICAO              45240 non-null  float64\n",
            "dtypes: float64(6), object(1)\n",
            "memory usage: 2.8+ MB\n"
          ]
        }
      ],
      "source": [
        "dataset.info()"
      ]
    },
    {
      "cell_type": "code",
      "execution_count": 52,
      "metadata": {
        "colab": {
          "base_uri": "https://localhost:8080/"
        },
        "id": "6o1Ml8Hwk11N",
        "outputId": "0579fc40-d3de-4226-f308-b563ad07db61"
      },
      "outputs": [
        {
          "data": {
            "text/plain": [
              "DT_MEDICAO_HORA           0\n",
              "PRECIPITACAO              0\n",
              "PRESSAO_ATMOSFERICA       0\n",
              "TEMPERATURA_DO_AR_C       0\n",
              "UMIDADE_RELATIVA_DO_AR    0\n",
              "VELOCIDADE_VENTO          0\n",
              "VL_MEDICAO                0\n",
              "dtype: int64"
            ]
          },
          "execution_count": 52,
          "metadata": {},
          "output_type": "execute_result"
        }
      ],
      "source": [
        "#verifica se existe variáveis nulas \n",
        "dataset.isna().sum()"
      ]
    },
    {
      "cell_type": "code",
      "execution_count": 53,
      "metadata": {
        "colab": {
          "base_uri": "https://localhost:8080/",
          "height": 363
        },
        "id": "tWk39SDZk6q_",
        "outputId": "9a4227ec-74a2-458d-a8ba-ff563308af44"
      },
      "outputs": [
        {
          "data": {
            "text/html": [
              "<div>\n",
              "<style scoped>\n",
              "    .dataframe tbody tr th:only-of-type {\n",
              "        vertical-align: middle;\n",
              "    }\n",
              "\n",
              "    .dataframe tbody tr th {\n",
              "        vertical-align: top;\n",
              "    }\n",
              "\n",
              "    .dataframe thead th {\n",
              "        text-align: right;\n",
              "    }\n",
              "</style>\n",
              "<table border=\"1\" class=\"dataframe\">\n",
              "  <thead>\n",
              "    <tr style=\"text-align: right;\">\n",
              "      <th></th>\n",
              "      <th>DT_MEDICAO_HORA</th>\n",
              "      <th>PRECIPITACAO</th>\n",
              "      <th>PRESSAO_ATMOSFERICA</th>\n",
              "      <th>TEMPERATURA_DO_AR_C</th>\n",
              "      <th>UMIDADE_RELATIVA_DO_AR</th>\n",
              "      <th>VELOCIDADE_VENTO</th>\n",
              "      <th>VL_MEDICAO</th>\n",
              "    </tr>\n",
              "  </thead>\n",
              "  <tbody>\n",
              "    <tr>\n",
              "      <th>1</th>\n",
              "      <td>2017-01-01 00:00:00</td>\n",
              "      <td>0.0</td>\n",
              "      <td>1009.5</td>\n",
              "      <td>25.9</td>\n",
              "      <td>75.0</td>\n",
              "      <td>1.3</td>\n",
              "      <td>5016.845991</td>\n",
              "    </tr>\n",
              "    <tr>\n",
              "      <th>2</th>\n",
              "      <td>2017-01-01 01:00:00</td>\n",
              "      <td>0.0</td>\n",
              "      <td>1009.6</td>\n",
              "      <td>25.7</td>\n",
              "      <td>76.0</td>\n",
              "      <td>0.9</td>\n",
              "      <td>4998.296902</td>\n",
              "    </tr>\n",
              "    <tr>\n",
              "      <th>3</th>\n",
              "      <td>2017-01-01 02:00:00</td>\n",
              "      <td>0.0</td>\n",
              "      <td>1009.2</td>\n",
              "      <td>25.6</td>\n",
              "      <td>76.0</td>\n",
              "      <td>1.1</td>\n",
              "      <td>5013.330096</td>\n",
              "    </tr>\n",
              "    <tr>\n",
              "      <th>4</th>\n",
              "      <td>2017-01-01 03:00:00</td>\n",
              "      <td>0.0</td>\n",
              "      <td>1008.4</td>\n",
              "      <td>25.9</td>\n",
              "      <td>77.0</td>\n",
              "      <td>1.7</td>\n",
              "      <td>4972.739746</td>\n",
              "    </tr>\n",
              "    <tr>\n",
              "      <th>5</th>\n",
              "      <td>2017-01-01 04:00:00</td>\n",
              "      <td>0.0</td>\n",
              "      <td>1008.1</td>\n",
              "      <td>23.7</td>\n",
              "      <td>85.0</td>\n",
              "      <td>1.7</td>\n",
              "      <td>4921.942265</td>\n",
              "    </tr>\n",
              "    <tr>\n",
              "      <th>6</th>\n",
              "      <td>2017-01-01 05:00:00</td>\n",
              "      <td>0.2</td>\n",
              "      <td>1007.5</td>\n",
              "      <td>23.7</td>\n",
              "      <td>87.0</td>\n",
              "      <td>0.4</td>\n",
              "      <td>4838.136258</td>\n",
              "    </tr>\n",
              "    <tr>\n",
              "      <th>7</th>\n",
              "      <td>2017-01-01 06:00:00</td>\n",
              "      <td>0.0</td>\n",
              "      <td>1007.3</td>\n",
              "      <td>24.2</td>\n",
              "      <td>88.0</td>\n",
              "      <td>0.5</td>\n",
              "      <td>4833.215005</td>\n",
              "    </tr>\n",
              "    <tr>\n",
              "      <th>8</th>\n",
              "      <td>2017-01-01 07:00:00</td>\n",
              "      <td>0.0</td>\n",
              "      <td>1007.3</td>\n",
              "      <td>24.2</td>\n",
              "      <td>87.0</td>\n",
              "      <td>0.7</td>\n",
              "      <td>4795.247653</td>\n",
              "    </tr>\n",
              "    <tr>\n",
              "      <th>9</th>\n",
              "      <td>2017-01-01 08:00:00</td>\n",
              "      <td>0.0</td>\n",
              "      <td>1007.7</td>\n",
              "      <td>24.7</td>\n",
              "      <td>85.0</td>\n",
              "      <td>1.0</td>\n",
              "      <td>4763.098501</td>\n",
              "    </tr>\n",
              "    <tr>\n",
              "      <th>10</th>\n",
              "      <td>2017-01-01 09:00:00</td>\n",
              "      <td>0.0</td>\n",
              "      <td>1008.5</td>\n",
              "      <td>25.1</td>\n",
              "      <td>83.0</td>\n",
              "      <td>1.2</td>\n",
              "      <td>4715.598748</td>\n",
              "    </tr>\n",
              "  </tbody>\n",
              "</table>\n",
              "</div>"
            ],
            "text/plain": [
              "        DT_MEDICAO_HORA  PRECIPITACAO  PRESSAO_ATMOSFERICA  \\\n",
              "1   2017-01-01 00:00:00           0.0               1009.5   \n",
              "2   2017-01-01 01:00:00           0.0               1009.6   \n",
              "3   2017-01-01 02:00:00           0.0               1009.2   \n",
              "4   2017-01-01 03:00:00           0.0               1008.4   \n",
              "5   2017-01-01 04:00:00           0.0               1008.1   \n",
              "6   2017-01-01 05:00:00           0.2               1007.5   \n",
              "7   2017-01-01 06:00:00           0.0               1007.3   \n",
              "8   2017-01-01 07:00:00           0.0               1007.3   \n",
              "9   2017-01-01 08:00:00           0.0               1007.7   \n",
              "10  2017-01-01 09:00:00           0.0               1008.5   \n",
              "\n",
              "    TEMPERATURA_DO_AR_C  UMIDADE_RELATIVA_DO_AR  VELOCIDADE_VENTO   VL_MEDICAO  \n",
              "1                  25.9                    75.0               1.3  5016.845991  \n",
              "2                  25.7                    76.0               0.9  4998.296902  \n",
              "3                  25.6                    76.0               1.1  5013.330096  \n",
              "4                  25.9                    77.0               1.7  4972.739746  \n",
              "5                  23.7                    85.0               1.7  4921.942265  \n",
              "6                  23.7                    87.0               0.4  4838.136258  \n",
              "7                  24.2                    88.0               0.5  4833.215005  \n",
              "8                  24.2                    87.0               0.7  4795.247653  \n",
              "9                  24.7                    85.0               1.0  4763.098501  \n",
              "10                 25.1                    83.0               1.2  4715.598748  "
            ]
          },
          "execution_count": 53,
          "metadata": {},
          "output_type": "execute_result"
        }
      ],
      "source": [
        "dataset.head(10)"
      ]
    },
    {
      "cell_type": "code",
      "execution_count": 54,
      "metadata": {
        "colab": {
          "base_uri": "https://localhost:8080/",
          "height": 206
        },
        "id": "YuzrWCnt9XWK",
        "outputId": "39914751-f133-49a9-fc80-6eadb076af82"
      },
      "outputs": [
        {
          "data": {
            "text/html": [
              "<div>\n",
              "<style scoped>\n",
              "    .dataframe tbody tr th:only-of-type {\n",
              "        vertical-align: middle;\n",
              "    }\n",
              "\n",
              "    .dataframe tbody tr th {\n",
              "        vertical-align: top;\n",
              "    }\n",
              "\n",
              "    .dataframe thead th {\n",
              "        text-align: right;\n",
              "    }\n",
              "</style>\n",
              "<table border=\"1\" class=\"dataframe\">\n",
              "  <thead>\n",
              "    <tr style=\"text-align: right;\">\n",
              "      <th></th>\n",
              "      <th>DATA</th>\n",
              "      <th>VL_MEDICAO</th>\n",
              "      <th>vl-1</th>\n",
              "      <th>vl-2</th>\n",
              "      <th>tp-1</th>\n",
              "      <th>pr-1</th>\n",
              "      <th>vv-1</th>\n",
              "      <th>ur-1</th>\n",
              "      <th>ch-1</th>\n",
              "    </tr>\n",
              "  </thead>\n",
              "  <tbody>\n",
              "    <tr>\n",
              "      <th>3</th>\n",
              "      <td>2017-01-01 02:00:00</td>\n",
              "      <td>5013.330096</td>\n",
              "      <td>4998.296902</td>\n",
              "      <td>5016.845991</td>\n",
              "      <td>25.6</td>\n",
              "      <td>1009.2</td>\n",
              "      <td>1.1</td>\n",
              "      <td>76.0</td>\n",
              "      <td>0.0</td>\n",
              "    </tr>\n",
              "    <tr>\n",
              "      <th>4</th>\n",
              "      <td>2017-01-01 03:00:00</td>\n",
              "      <td>4972.739746</td>\n",
              "      <td>5013.330096</td>\n",
              "      <td>4998.296902</td>\n",
              "      <td>25.9</td>\n",
              "      <td>1008.4</td>\n",
              "      <td>1.7</td>\n",
              "      <td>77.0</td>\n",
              "      <td>0.0</td>\n",
              "    </tr>\n",
              "    <tr>\n",
              "      <th>5</th>\n",
              "      <td>2017-01-01 04:00:00</td>\n",
              "      <td>4921.942265</td>\n",
              "      <td>4972.739746</td>\n",
              "      <td>5013.330096</td>\n",
              "      <td>23.7</td>\n",
              "      <td>1008.1</td>\n",
              "      <td>1.7</td>\n",
              "      <td>85.0</td>\n",
              "      <td>0.0</td>\n",
              "    </tr>\n",
              "    <tr>\n",
              "      <th>6</th>\n",
              "      <td>2017-01-01 05:00:00</td>\n",
              "      <td>4838.136258</td>\n",
              "      <td>4921.942265</td>\n",
              "      <td>4972.739746</td>\n",
              "      <td>23.7</td>\n",
              "      <td>1007.5</td>\n",
              "      <td>0.4</td>\n",
              "      <td>87.0</td>\n",
              "      <td>0.2</td>\n",
              "    </tr>\n",
              "    <tr>\n",
              "      <th>7</th>\n",
              "      <td>2017-01-01 06:00:00</td>\n",
              "      <td>4833.215005</td>\n",
              "      <td>4838.136258</td>\n",
              "      <td>4921.942265</td>\n",
              "      <td>24.2</td>\n",
              "      <td>1007.3</td>\n",
              "      <td>0.5</td>\n",
              "      <td>88.0</td>\n",
              "      <td>0.0</td>\n",
              "    </tr>\n",
              "  </tbody>\n",
              "</table>\n",
              "</div>"
            ],
            "text/plain": [
              "                 DATA   VL_MEDICAO         vl-1         vl-2  tp-1    pr-1  \\\n",
              "3 2017-01-01 02:00:00  5013.330096  4998.296902  5016.845991  25.6  1009.2   \n",
              "4 2017-01-01 03:00:00  4972.739746  5013.330096  4998.296902  25.9  1008.4   \n",
              "5 2017-01-01 04:00:00  4921.942265  4972.739746  5013.330096  23.7  1008.1   \n",
              "6 2017-01-01 05:00:00  4838.136258  4921.942265  4972.739746  23.7  1007.5   \n",
              "7 2017-01-01 06:00:00  4833.215005  4838.136258  4921.942265  24.2  1007.3   \n",
              "\n",
              "   vv-1  ur-1  ch-1  \n",
              "3   1.1  76.0   0.0  \n",
              "4   1.7  77.0   0.0  \n",
              "5   1.7  85.0   0.0  \n",
              "6   0.4  87.0   0.2  \n",
              "7   0.5  88.0   0.0  "
            ]
          },
          "execution_count": 54,
          "metadata": {},
          "output_type": "execute_result"
        }
      ],
      "source": [
        "#tratando o dataframe\n",
        "df = pd.DataFrame()\n",
        "df['DATA']=pd.to_datetime(dataset['DT_MEDICAO_HORA'])\n",
        "df['VL_MEDICAO']=dataset['VL_MEDICAO']\n",
        "\n",
        "#transformação da série => janela deslizande com 1 passo de tempo\n",
        "n_time_steps=2\n",
        "for n_step in range(1,n_time_steps+1,1):\n",
        "   df['vl-'+str(n_step)]=dataset['VL_MEDICAO'].shift(n_step)  \n",
        "\n",
        "df['tp-1']=dataset['TEMPERATURA_DO_AR_C']\n",
        "df['pr-1']=dataset['PRESSAO_ATMOSFERICA']\n",
        "df['vv-1']=dataset['VELOCIDADE_VENTO']\n",
        "df['ur-1']=dataset['UMIDADE_RELATIVA_DO_AR']\n",
        "df['ch-1']=dataset['PRECIPITACAO']\n",
        "\n",
        "df.dropna(inplace=True)\n",
        "df.head(5)"
      ]
    },
    {
      "cell_type": "code",
      "execution_count": 55,
      "metadata": {},
      "outputs": [
        {
          "data": {
            "text/plain": [
              "array([<AxesSubplot:xlabel='DATA'>, <AxesSubplot:xlabel='DATA'>,\n",
              "       <AxesSubplot:xlabel='DATA'>, <AxesSubplot:xlabel='DATA'>,\n",
              "       <AxesSubplot:xlabel='DATA'>, <AxesSubplot:xlabel='DATA'>,\n",
              "       <AxesSubplot:xlabel='DATA'>, <AxesSubplot:xlabel='DATA'>],\n",
              "      dtype=object)"
            ]
          },
          "execution_count": 55,
          "metadata": {},
          "output_type": "execute_result"
        },
        {
          "data": {
            "image/png": "[encoded data removed]",
            "text/plain": [
              "<Figure size 432x288 with 8 Axes>"
            ]
          },
          "metadata": {
            "needs_background": "light"
          },
          "output_type": "display_data"
        }
      ],
      "source": [
        "# indexing timestamp\n",
        "ts_df=df.set_index('DATA')\n",
        "ts_df.plot(subplots=True)"
      ]
    },
    {
      "cell_type": "code",
      "execution_count": 56,
      "metadata": {},
      "outputs": [
        {
          "data": {
            "text/plain": [
              "array([<AxesSubplot:xlabel='DATA'>, <AxesSubplot:xlabel='DATA'>,\n",
              "       <AxesSubplot:xlabel='DATA'>, <AxesSubplot:xlabel='DATA'>,\n",
              "       <AxesSubplot:xlabel='DATA'>, <AxesSubplot:xlabel='DATA'>,\n",
              "       <AxesSubplot:xlabel='DATA'>, <AxesSubplot:xlabel='DATA'>],\n",
              "      dtype=object)"
            ]
          },
          "execution_count": 56,
          "metadata": {},
          "output_type": "execute_result"
        },
        {
          "data": {
            "image/png": "[encoded data removed]",
            "text/plain": [
              "<Figure size 432x288 with 8 Axes>"
            ]
          },
          "metadata": {
            "needs_background": "light"
          },
          "output_type": "display_data"
        }
      ],
      "source": [
        "# graph for month time series\n",
        "ts_df.resample('M').mean().plot(subplots=True)\n"
      ]
    },
    {
      "cell_type": "code",
      "execution_count": 57,
      "metadata": {},
      "outputs": [
        {
          "name": "stderr",
          "output_type": "stream",
          "text": [
            "c:\\Python\\lib\\site-packages\\pmdarima\\arima\\_validation.py:62: UserWarning: m (24) set for non-seasonal fit. Setting to 0\n",
            "  warnings.warn(\"m (%i) set for non-seasonal fit. Setting to 0\" % m)\n"
          ]
        },
        {
          "name": "stdout",
          "output_type": "stream",
          "text": [
            "Performing stepwise search to minimize aic\n",
            " ARIMA(0,0,0)(0,0,0)[0]             : AIC=650648.128, Time=80.29 sec\n",
            " ARIMA(1,0,0)(0,0,0)[0]             : AIC=650356.849, Time=18.81 sec\n",
            " ARIMA(0,0,1)(0,0,0)[0]             : AIC=649087.388, Time=47.52 sec\n",
            " ARIMA(1,0,1)(0,0,0)[0]             : AIC=647844.863, Time=72.33 sec\n",
            " ARIMA(2,0,1)(0,0,0)[0]             : AIC=647809.535, Time=62.95 sec\n",
            " ARIMA(2,0,0)(0,0,0)[0]             : AIC=649674.057, Time=20.64 sec\n",
            " ARIMA(3,0,1)(0,0,0)[0]             : AIC=647951.820, Time=81.00 sec\n",
            " ARIMA(2,0,2)(0,0,0)[0]             : AIC=647750.029, Time=36.62 sec\n",
            " ARIMA(1,0,2)(0,0,0)[0]             : AIC=647870.987, Time=64.71 sec\n",
            " ARIMA(3,0,2)(0,0,0)[0]             : AIC=647736.311, Time=62.31 sec\n",
            " ARIMA(4,0,2)(0,0,0)[0]             : AIC=647743.828, Time=89.63 sec\n",
            " ARIMA(3,0,3)(0,0,0)[0]             : AIC=647729.056, Time=80.63 sec\n",
            " ARIMA(2,0,3)(0,0,0)[0]             : AIC=647715.822, Time=267.24 sec\n",
            " ARIMA(1,0,3)(0,0,0)[0]             : AIC=647674.914, Time=332.63 sec\n",
            " ARIMA(0,0,3)(0,0,0)[0]             : AIC=648593.180, Time=298.14 sec\n",
            " ARIMA(1,0,4)(0,0,0)[0]             : AIC=647963.043, Time=304.81 sec\n",
            " ARIMA(0,0,2)(0,0,0)[0]             : AIC=649066.860, Time=272.37 sec\n",
            " ARIMA(0,0,4)(0,0,0)[0]             : AIC=648370.356, Time=191.55 sec\n",
            " ARIMA(2,0,4)(0,0,0)[0]             : AIC=647714.518, Time=293.83 sec\n",
            " ARIMA(1,0,3)(0,0,0)[0] intercept   : AIC=647674.594, Time=230.84 sec\n",
            " ARIMA(0,0,3)(0,0,0)[0] intercept   : AIC=648594.967, Time=242.11 sec\n",
            " ARIMA(1,0,2)(0,0,0)[0] intercept   : AIC=647788.138, Time=178.94 sec\n",
            " ARIMA(2,0,3)(0,0,0)[0] intercept   : AIC=647607.295, Time=332.20 sec\n"
          ]
        }
      ],
      "source": [
        "model = auto_arima(ts_df['VL_MEDICAO'], X = ts_df.drop(columns=['VL_MEDICAO']),\n",
        "                        m=24, seasonal=False, max_d = 2,\n",
        "                      start_p=0, start_q=0, max_p=4, max_q=4, \n",
        "                      test='adf', stepwise=True, trace=True)"
      ]
    },
    {
      "cell_type": "code",
      "execution_count": null,
      "metadata": {
        "colab": {
          "base_uri": "https://localhost:8080/",
          "height": 206
        },
        "id": "UpaP0Qj1N-Ix",
        "outputId": "2ac0f53c-9caa-4bfb-cdbf-2ab3118c2dbb"
      },
      "outputs": [
        {
          "data": {
            "text/html": [
              "\n",
              "  <div id=\"df-eec88487-d09f-440f-a9b6-5df684d1b32f\">\n",
              "    <div class=\"colab-df-container\">\n",
              "      <div>\n",
              "<style scoped>\n",
              "    .dataframe tbody tr th:only-of-type {\n",
              "        vertical-align: middle;\n",
              "    }\n",
              "\n",
              "    .dataframe tbody tr th {\n",
              "        vertical-align: top;\n",
              "    }\n",
              "\n",
              "    .dataframe thead th {\n",
              "        text-align: right;\n",
              "    }\n",
              "</style>\n",
              "<table border=\"1\" class=\"dataframe\">\n",
              "  <thead>\n",
              "    <tr style=\"text-align: right;\">\n",
              "      <th></th>\n",
              "      <th>DT_MEDICAO_HORA</th>\n",
              "      <th>PRECIPITACAO</th>\n",
              "      <th>PRESSAO_ATMOSFERICA</th>\n",
              "      <th>TEMPERATURA_DO_AR_C</th>\n",
              "      <th>UMIDADE_RELATIVA_DO_AR</th>\n",
              "      <th>VELOCIDADE_VENTO</th>\n",
              "      <th>VL_MEDICAO</th>\n",
              "    </tr>\n",
              "  </thead>\n",
              "  <tbody>\n",
              "    <tr>\n",
              "      <th>1</th>\n",
              "      <td>2017-01-01 00:00:00</td>\n",
              "      <td>0.0</td>\n",
              "      <td>1009.5</td>\n",
              "      <td>25.9</td>\n",
              "      <td>75.0</td>\n",
              "      <td>1.3</td>\n",
              "      <td>5016.845991</td>\n",
              "    </tr>\n",
              "    <tr>\n",
              "      <th>2</th>\n",
              "      <td>2017-01-01 01:00:00</td>\n",
              "      <td>0.0</td>\n",
              "      <td>1009.6</td>\n",
              "      <td>25.7</td>\n",
              "      <td>76.0</td>\n",
              "      <td>0.9</td>\n",
              "      <td>4998.296902</td>\n",
              "    </tr>\n",
              "    <tr>\n",
              "      <th>3</th>\n",
              "      <td>2017-01-01 02:00:00</td>\n",
              "      <td>0.0</td>\n",
              "      <td>1009.2</td>\n",
              "      <td>25.6</td>\n",
              "      <td>76.0</td>\n",
              "      <td>1.1</td>\n",
              "      <td>5013.330096</td>\n",
              "    </tr>\n",
              "    <tr>\n",
              "      <th>4</th>\n",
              "      <td>2017-01-01 03:00:00</td>\n",
              "      <td>0.0</td>\n",
              "      <td>1008.4</td>\n",
              "      <td>25.9</td>\n",
              "      <td>77.0</td>\n",
              "      <td>1.7</td>\n",
              "      <td>4972.739746</td>\n",
              "    </tr>\n",
              "    <tr>\n",
              "      <th>5</th>\n",
              "      <td>2017-01-01 04:00:00</td>\n",
              "      <td>0.0</td>\n",
              "      <td>1008.1</td>\n",
              "      <td>23.7</td>\n",
              "      <td>85.0</td>\n",
              "      <td>1.7</td>\n",
              "      <td>4921.942265</td>\n",
              "    </tr>\n",
              "  </tbody>\n",
              "</table>\n",
              "</div>\n",
              "      <button class=\"colab-df-convert\" onclick=\"convertToInteractive('df-eec88487-d09f-440f-a9b6-5df684d1b32f')\"\n",
              "              title=\"Convert this dataframe to an interactive table.\"\n",
              "              style=\"display:none;\">\n",
              "        \n",
              "  <svg xmlns=\"http://www.w3.org/2000/svg\" height=\"24px\"viewBox=\"0 0 24 24\"\n",
              "       width=\"24px\">\n",
              "    <path d=\"M0 0h24v24H0V0z\" fill=\"none\"/>\n",
              "    <path d=\"M18.56 5.44l.94 2.06.94-2.06 2.06-.94-2.06-.94-.94-2.06-.94 2.06-2.06.94zm-11 1L8.5 8.5l.94-2.06 2.06-.94-2.06-.94L8.5 2.5l-.94 2.06-2.06.94zm10 10l.94 2.06.94-2.06 2.06-.94-2.06-.94-.94-2.06-.94 2.06-2.06.94z\"/><path d=\"M17.41 7.96l-1.37-1.37c-.4-.4-.92-.59-1.43-.59-.52 0-1.04.2-1.43.59L10.3 9.45l-7.72 7.72c-.78.78-.78 2.05 0 2.83L4 21.41c.39.39.9.59 1.41.59.51 0 1.02-.2 1.41-.59l7.78-7.78 2.81-2.81c.8-.78.8-2.07 0-2.86zM5.41 20L4 18.59l7.72-7.72 1.47 1.35L5.41 20z\"/>\n",
              "  </svg>\n",
              "      </button>\n",
              "      \n",
              "  <style>\n",
              "    .colab-df-container {\n",
              "      display:flex;\n",
              "      flex-wrap:wrap;\n",
              "      gap: 12px;\n",
              "    }\n",
              "\n",
              "    .colab-df-convert {\n",
              "      background-color: #E8F0FE;\n",
              "      border: none;\n",
              "      border-radius: 50%;\n",
              "      cursor: pointer;\n",
              "      display: none;\n",
              "      fill: #1967D2;\n",
              "      height: 32px;\n",
              "      padding: 0 0 0 0;\n",
              "      width: 32px;\n",
              "    }\n",
              "\n",
              "    .colab-df-convert:hover {\n",
              "      background-color: #E2EBFA;\n",
              "      box-shadow: 0px 1px 2px rgba(60, 64, 67, 0.3), 0px 1px 3px 1px rgba(60, 64, 67, 0.15);\n",
              "      fill: #174EA6;\n",
              "    }\n",
              "\n",
              "    [theme=dark] .colab-df-convert {\n",
              "      background-color: #3B4455;\n",
              "      fill: #D2E3FC;\n",
              "    }\n",
              "\n",
              "    [theme=dark] .colab-df-convert:hover {\n",
              "      background-color: #434B5C;\n",
              "      box-shadow: 0px 1px 3px 1px rgba(0, 0, 0, 0.15);\n",
              "      filter: drop-shadow(0px 1px 2px rgba(0, 0, 0, 0.3));\n",
              "      fill: #FFFFFF;\n",
              "    }\n",
              "  </style>\n",
              "\n",
              "      <script>\n",
              "        const buttonEl =\n",
              "          document.querySelector('#df-eec88487-d09f-440f-a9b6-5df684d1b32f button.colab-df-convert');\n",
              "        buttonEl.style.display =\n",
              "          google.colab.kernel.accessAllowed ? 'block' : 'none';\n",
              "\n",
              "        async function convertToInteractive(key) {\n",
              "          const element = document.querySelector('#df-eec88487-d09f-440f-a9b6-5df684d1b32f');\n",
              "          const dataTable =\n",
              "            await google.colab.kernel.invokeFunction('convertToInteractive',\n",
              "                                                     [key], {});\n",
              "          if (!dataTable) return;\n",
              "\n",
              "          const docLinkHtml = 'Like what you see? Visit the ' +\n",
              "            '<a target=\"_blank\" href=https://colab.research.google.com/notebooks/data_table.ipynb>data table notebook</a>'\n",
              "            + ' to learn more about interactive tables.';\n",
              "          element.innerHTML = '';\n",
              "          dataTable['output_type'] = 'display_data';\n",
              "          await google.colab.output.renderOutput(dataTable, element);\n",
              "          const docLink = document.createElement('div');\n",
              "          docLink.innerHTML = docLinkHtml;\n",
              "          element.appendChild(docLink);\n",
              "        }\n",
              "      </script>\n",
              "    </div>\n",
              "  </div>\n",
              "  "
            ],
            "text/plain": [
              "       DT_MEDICAO_HORA  PRECIPITACAO  PRESSAO_ATMOSFERICA  \\\n",
              "1  2017-01-01 00:00:00           0.0               1009.5   \n",
              "2  2017-01-01 01:00:00           0.0               1009.6   \n",
              "3  2017-01-01 02:00:00           0.0               1009.2   \n",
              "4  2017-01-01 03:00:00           0.0               1008.4   \n",
              "5  2017-01-01 04:00:00           0.0               1008.1   \n",
              "\n",
              "   TEMPERATURA_DO_AR_C  UMIDADE_RELATIVA_DO_AR  VELOCIDADE_VENTO   VL_MEDICAO  \n",
              "1                 25.9                    75.0               1.3  5016.845991  \n",
              "2                 25.7                    76.0               0.9  4998.296902  \n",
              "3                 25.6                    76.0               1.1  5013.330096  \n",
              "4                 25.9                    77.0               1.7  4972.739746  \n",
              "5                 23.7                    85.0               1.7  4921.942265  "
            ]
          },
          "execution_count": 174,
          "metadata": {},
          "output_type": "execute_result"
        }
      ],
      "source": [
        "dataset.head(5)"
      ]
    },
    {
      "cell_type": "code",
      "execution_count": null,
      "metadata": {
        "id": "090pOykrQc-v"
      },
      "outputs": [],
      "source": [
        "  #Split dataset in treinam /  75% treinam  25% test\n",
        "  nlinhas = int(np.round(df.shape[0] *0.75)) # \n",
        "  \n",
        "  max_size_train_split = int(np.round(nlinhas / 5)) \n",
        "  max_size__test_split = int(np.round((df.shape[0] - nlinhas) / 5))\n",
        "  size_split = 5\n",
        "  X_train = df.iloc[0:nlinhas,1:6 + n_time_steps]\n",
        "  y_train = df.iloc[0:nlinhas,0].values\n",
        "\n",
        "  X_test = df.iloc[nlinhas:dataset.shape[0],1: 6 + n_time_steps] \n",
        "  y_test = df.iloc[nlinhas:dataset.shape[0],0].values\n"
      ]
    },
    {
      "cell_type": "code",
      "execution_count": null,
      "metadata": {},
      "outputs": [],
      "source": [
        "print(model.params)"
      ]
    },
    {
      "cell_type": "code",
      "execution_count": null,
      "metadata": {},
      "outputs": [
        {
          "data": {
            "text/plain": [
              "ARIMA(order=(4, 0, 1), scoring_args={}, suppress_warnings=True,\n",
              "      with_intercept=False)"
            ]
          },
          "execution_count": 38,
          "metadata": {},
          "output_type": "execute_result"
        }
      ],
      "source": [
        "model.fit(np.array(X_train))\n"
      ]
    },
    {
      "cell_type": "code",
      "execution_count": null,
      "metadata": {},
      "outputs": [],
      "source": [
        "predict=model.predict(n_periods=y_test.shape[0], X=X_test, alpha=0.01)"
      ]
    },
    {
      "cell_type": "code",
      "execution_count": null,
      "metadata": {},
      "outputs": [
        {
          "data": {
            "text/plain": [
              "<AxesSubplot:>"
            ]
          },
          "execution_count": 43,
          "metadata": {},
          "output_type": "execute_result"
        },
        {
          "data": {
            "image/png": "[encoded data removed]",
            "text/plain": [
              "<Figure size 432x288 with 1 Axes>"
            ]
          },
          "metadata": {
            "needs_background": "light"
          },
          "output_type": "display_data"
        }
      ],
      "source": [
        "df_predict = pd.DataFrame(predict[0])\n",
        "pd.concat([df['VL_MEDICAO'],df_predict],axis=1).plot()"
      ]
    },
    {
      "cell_type": "code",
      "execution_count": null,
      "metadata": {
        "id": "gXqVpK1-TSob"
      },
      "outputs": [],
      "source": [
        "  # Armazena a hora de início da execução do Treinamento\n",
        "  Hora_Inicio = time.time()"
      ]
    },
    {
      "cell_type": "code",
      "execution_count": null,
      "metadata": {
        "colab": {
          "base_uri": "https://localhost:8080/"
        },
        "id": "aeFzKHM5WM-H",
        "outputId": "69b5e266-9e89-433a-ed72-5ac590cfbb46"
      },
      "outputs": [
        {
          "name": "stdout",
          "output_type": "stream",
          "text": [
            "Fitting 5 folds for each of 72 candidates, totalling 360 fits\n",
            "{'activation': 'identity', 'alpha': 0.0001, 'hidden_layer_sizes': (6, 12, 1), 'max_iter': 100, 'solver': 'adam'}\n"
          ]
        }
      ],
      "source": [
        "from sklearn.model_selection import TimeSeriesSplit\n",
        "# Validados cruzado para séries temporais\n",
        "ts_cv = TimeSeriesSplit(\n",
        "      n_splits=size_split, # Number of divisions\n",
        "      max_train_size=max_size_train_split,    # maximum size of each set. of training\n",
        "      gap=2, # number of samples to exclude between each training and testing set\n",
        "      test_size=max_size__test_split, # maximum size of each set. of test.\n",
        ")\n",
        "param_grid = {\n",
        "    'hidden_layer_sizes': [(6,12,1),(6,12,24,1),(6,18,1)], # camadas da MLP\n",
        "    'max_iter': [50, 100, 150, 200], # máximo de iterações\n",
        "    'activation': [ 'relu','identity'], #função de ativação\n",
        "    'solver': ['adam'], #algorítmo para otimização do peso\n",
        "    'alpha': [0.0001, 0.001, 0.05],  # força do alfa de regularização  \n",
        "}\n",
        "\n",
        "from sklearn.neural_network import MLPRegressor\n",
        "modelo = MLPRegressor()\n",
        "\n",
        "grid = GridSearchCV(modelo, param_grid, n_jobs= -1,scoring='neg_mean_absolute_percentage_error', cv=ts_cv, verbose=1)\n",
        "grid.fit(np.array(X_train), np.array(y_train))\n",
        "\n",
        "print(grid.best_params_) "
      ]
    },
    {
      "cell_type": "code",
      "execution_count": null,
      "metadata": {
        "id": "y432NgI2Uwwf"
      },
      "outputs": [],
      "source": [
        "predict=grid.predict(np.array(X_test))\n",
        "predict\n",
        "\n",
        "# Armazena a hora fim da execução do Treinamento\n",
        "Hora_Fim = time.time()\n",
        "\n",
        "#Calcula o tempo de duração da execução do treinamento\n",
        "Duracao = Hora_Fim - Hora_Inicio"
      ]
    },
    {
      "cell_type": "markdown",
      "metadata": {
        "id": "MEevt86uejTw"
      },
      "source": [
        "\n"
      ]
    },
    {
      "cell_type": "code",
      "execution_count": null,
      "metadata": {
        "colab": {
          "base_uri": "https://localhost:8080/",
          "height": 442
        },
        "id": "8r4DwWnzqQkD",
        "outputId": "c1264c37-aca5-43ec-f855-32475f299fbb"
      },
      "outputs": [
        {
          "data": {
            "image/png": "[encoded data removed]",
            "text/plain": [
              "<Figure size 720x504 with 1 Axes>"
            ]
          },
          "metadata": {
            "needs_background": "light"
          },
          "output_type": "display_data"
        }
      ],
      "source": [
        "#O gráfico abaixo mostra os valores reais em preto e os valores prditos em azul\n",
        "npredicts=1000\n",
        "pyplot.figure(figsize=(10,7)) \n",
        "pyplot.scatter(np.arange(0,y_test.shape[0],1)[0:npredicts],np.array(y_test)[0:npredicts], color = 'black')\n",
        "pyplot.plot(np.arange(0,y_test.shape[0],1)[0:npredicts], np.array(predict)[0:npredicts], color = 'blue', linewidth=2)\n",
        "pyplot.xlabel('Tempo em horas.')\n",
        "pyplot.ylabel('consumo l/h')\n",
        "pyplot.show()"
      ]
    },
    {
      "cell_type": "code",
      "execution_count": null,
      "metadata": {
        "colab": {
          "base_uri": "https://localhost:8080/"
        },
        "id": "lrOIc2BMzHTq",
        "outputId": "52164f72-38b5-44a3-9a41-0dbc9debfd29"
      },
      "outputs": [
        {
          "data": {
            "text/plain": [
              "202040.2206683686"
            ]
          },
          "execution_count": 180,
          "metadata": {},
          "output_type": "execute_result"
        }
      ],
      "source": [
        "#Validação dos resultados\n",
        "\n",
        "from sklearn.metrics import r2_score\n",
        "from sklearn.metrics import mean_squared_error\n",
        "from sklearn.metrics import median_absolute_error\n",
        "\n",
        "#Erro médio quadrático  (diferença quadrática média entre os valores estimados e o valor verdadeiro) - MSE\n",
        "mean_squared_error(y_test,predict)\n",
        "\n"
      ]
    },
    {
      "cell_type": "code",
      "execution_count": null,
      "metadata": {
        "colab": {
          "base_uri": "https://localhost:8080/"
        },
        "id": "5FxqPfPqrF8e",
        "outputId": "eeb825a7-e3cc-4b02-e449-96405ffa9d8f"
      },
      "outputs": [
        {
          "data": {
            "text/plain": [
              "449.488843764079"
            ]
          },
          "execution_count": 181,
          "metadata": {},
          "output_type": "execute_result"
        }
      ],
      "source": [
        "#Raiz quadrada do Erro médio - RMSE\n",
        "np.sqrt(mean_squared_error(y_test, predict))"
      ]
    },
    {
      "cell_type": "code",
      "execution_count": null,
      "metadata": {
        "colab": {
          "base_uri": "https://localhost:8080/"
        },
        "id": "JYVQE60rRAO8",
        "outputId": "577fdcdd-1659-4b26-85b6-1fae7c0a2d5d"
      },
      "outputs": [
        {
          "data": {
            "text/plain": [
              "117.62879468038591"
            ]
          },
          "execution_count": 182,
          "metadata": {},
          "output_type": "execute_result"
        }
      ],
      "source": [
        "#Distância absoluta média ou Erro médio absoluto - MAE\n",
        "\n",
        "median_absolute_error(y_pred=predict, y_true = y_test)"
      ]
    },
    {
      "cell_type": "code",
      "execution_count": null,
      "metadata": {
        "colab": {
          "base_uri": "https://localhost:8080/"
        },
        "id": "FcPXjUHsbo6S",
        "outputId": "43648f80-05fa-4453-8823-65585df9bacc"
      },
      "outputs": [
        {
          "data": {
            "text/plain": [
              "3.002822488083508"
            ]
          },
          "execution_count": 183,
          "metadata": {},
          "output_type": "execute_result"
        }
      ],
      "source": [
        "#Calcular o MAPE (Erro médio percentual absoluto)\n",
        "MAPE = ((np.mean(np.abs(y_test -predict) / (y_test)))) * 100\n",
        "MAPE"
      ]
    }
  ],
  "metadata": {
    "colab": {
      "provenance": []
    },
    "kernelspec": {
      "display_name": "Python 3.9.5 64-bit",
      "language": "python",
      "name": "python3"
    },
    "language_info": {
      "codemirror_mode": {
        "name": "ipython",
        "version": 3
      },
      "file_extension": ".py",
      "mimetype": "text/x-python",
      "name": "python",
      "nbconvert_exporter": "python",
      "pygments_lexer": "ipython3",
      "version": "3.9.5"
    },
    "vscode": {
      "interpreter": {
        "hash": "52634da84371cba311ea128a5ea7cdc41ff074b781779e754b270ff9f8153cee"
      }
    }
  },
  "nbformat": 4,
  "nbformat_minor": 0
}
