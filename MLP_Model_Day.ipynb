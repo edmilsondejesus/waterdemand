{
  "cells": [
    {
      "cell_type": "code",
      "execution_count": 56,
      "metadata": {},
      "outputs": [],
      "source": [
        "#!pip install seaborn\n",
        "#!pip install openpyxl\n"
      ]
    },
    {
      "cell_type": "code",
      "execution_count": 57,
      "metadata": {
        "id": "naOfrff2U2Xy"
      },
      "outputs": [],
      "source": [
        "import pandas as pd\n",
        "import numpy as np\n",
        "import random as rd\n",
        "import time\n",
        "import csv\n",
        "import seaborn as sbs\n",
        "from sklearn.model_selection import RepeatedStratifiedKFold\n",
        "from sklearn.model_selection import train_test_split ,GridSearchCV\n",
        "import tensorflow as tf\n",
        "from tensorflow import keras\n",
        "from matplotlib import pyplot\n",
        "from sklearn.metrics import mean_squared_error\n",
        "from sklearn.metrics import median_absolute_error"
      ]
    },
    {
      "cell_type": "code",
      "execution_count": 58,
      "metadata": {
        "colab": {
          "base_uri": "https://localhost:8080/"
        },
        "id": "u5iIpJyzkmkW",
        "outputId": "00380b11-657f-4c91-cbc3-1194bcb79e40"
      },
      "outputs": [],
      "source": [
        "file_data = 'DS_Agua_2017_2022_por_ponto.csv'\n",
        "path_name='data/'\n",
        "path_name_results='results/'\n",
        "file_result = 'Result_MLP_Model_Day.csv'"
      ]
    },
    {
      "cell_type": "code",
      "execution_count": 59,
      "metadata": {
        "id": "JPemdWEukqf-"
      },
      "outputs": [],
      "source": [
        "dataset = pd.read_csv(f'{path_name}{file_data}', sep =';', encoding = 'latin1', decimal='.')\n"
      ]
    },
    {
      "cell_type": "code",
      "execution_count": 60,
      "metadata": {
        "colab": {
          "base_uri": "https://localhost:8080/"
        },
        "id": "AuOW4pP6kunV",
        "outputId": "de56ea6e-5f26-4114-860e-ab9db4622133"
      },
      "outputs": [
        {
          "data": {
            "text/html": [
              "<div>\n",
              "<style scoped>\n",
              "    .dataframe tbody tr th:only-of-type {\n",
              "        vertical-align: middle;\n",
              "    }\n",
              "\n",
              "    .dataframe tbody tr th {\n",
              "        vertical-align: top;\n",
              "    }\n",
              "\n",
              "    .dataframe thead th {\n",
              "        text-align: right;\n",
              "    }\n",
              "</style>\n",
              "<table border=\"1\" class=\"dataframe\">\n",
              "  <thead>\n",
              "    <tr style=\"text-align: right;\">\n",
              "      <th></th>\n",
              "      <th>DT_MEDICAO_HORA</th>\n",
              "      <th>PRECIPITACAO</th>\n",
              "      <th>PRESSAO_ATMOSFERICA</th>\n",
              "      <th>TEMPERATURA_DO_AR_C</th>\n",
              "      <th>UMIDADE_RELATIVA_DO_AR</th>\n",
              "      <th>VELOCIDADE_VENTO</th>\n",
              "      <th>SK_PONTO</th>\n",
              "      <th>VL_MEDICAO</th>\n",
              "    </tr>\n",
              "  </thead>\n",
              "  <tbody>\n",
              "    <tr>\n",
              "      <th>1</th>\n",
              "      <td>2017-01-01 00:00:00</td>\n",
              "      <td>0.0</td>\n",
              "      <td>1009.5</td>\n",
              "      <td>25.9</td>\n",
              "      <td>75.0</td>\n",
              "      <td>1.3</td>\n",
              "      <td>5</td>\n",
              "      <td>938.690000</td>\n",
              "    </tr>\n",
              "    <tr>\n",
              "      <th>2</th>\n",
              "      <td>2017-01-01 00:00:00</td>\n",
              "      <td>0.0</td>\n",
              "      <td>1009.5</td>\n",
              "      <td>25.9</td>\n",
              "      <td>75.0</td>\n",
              "      <td>1.3</td>\n",
              "      <td>6</td>\n",
              "      <td>297.107800</td>\n",
              "    </tr>\n",
              "    <tr>\n",
              "      <th>3</th>\n",
              "      <td>2017-01-01 00:00:00</td>\n",
              "      <td>0.0</td>\n",
              "      <td>1009.5</td>\n",
              "      <td>25.9</td>\n",
              "      <td>75.0</td>\n",
              "      <td>1.3</td>\n",
              "      <td>7</td>\n",
              "      <td>544.594400</td>\n",
              "    </tr>\n",
              "    <tr>\n",
              "      <th>4</th>\n",
              "      <td>2017-01-01 00:00:00</td>\n",
              "      <td>0.0</td>\n",
              "      <td>1009.5</td>\n",
              "      <td>25.9</td>\n",
              "      <td>75.0</td>\n",
              "      <td>1.3</td>\n",
              "      <td>11</td>\n",
              "      <td>816.790594</td>\n",
              "    </tr>\n",
              "    <tr>\n",
              "      <th>5</th>\n",
              "      <td>2017-01-01 00:00:00</td>\n",
              "      <td>0.0</td>\n",
              "      <td>1009.5</td>\n",
              "      <td>25.9</td>\n",
              "      <td>75.0</td>\n",
              "      <td>1.3</td>\n",
              "      <td>12</td>\n",
              "      <td>336.596097</td>\n",
              "    </tr>\n",
              "  </tbody>\n",
              "</table>\n",
              "</div>"
            ],
            "text/plain": [
              "       DT_MEDICAO_HORA  PRECIPITACAO  PRESSAO_ATMOSFERICA  \\\n",
              "1  2017-01-01 00:00:00           0.0               1009.5   \n",
              "2  2017-01-01 00:00:00           0.0               1009.5   \n",
              "3  2017-01-01 00:00:00           0.0               1009.5   \n",
              "4  2017-01-01 00:00:00           0.0               1009.5   \n",
              "5  2017-01-01 00:00:00           0.0               1009.5   \n",
              "\n",
              "   TEMPERATURA_DO_AR_C  UMIDADE_RELATIVA_DO_AR  VELOCIDADE_VENTO  SK_PONTO  \\\n",
              "1                 25.9                    75.0               1.3         5   \n",
              "2                 25.9                    75.0               1.3         6   \n",
              "3                 25.9                    75.0               1.3         7   \n",
              "4                 25.9                    75.0               1.3        11   \n",
              "5                 25.9                    75.0               1.3        12   \n",
              "\n",
              "   VL_MEDICAO  \n",
              "1  938.690000  \n",
              "2  297.107800  \n",
              "3  544.594400  \n",
              "4  816.790594  \n",
              "5  336.596097  "
            ]
          },
          "execution_count": 60,
          "metadata": {},
          "output_type": "execute_result"
        }
      ],
      "source": [
        "dataset.head()      "
      ]
    },
    {
      "cell_type": "code",
      "execution_count": 61,
      "metadata": {
        "colab": {
          "base_uri": "https://localhost:8080/"
        },
        "id": "6o1Ml8Hwk11N",
        "outputId": "ac509433-15e6-4ba8-9a7b-c7be83813f97"
      },
      "outputs": [
        {
          "data": {
            "text/plain": [
              "DT_MEDICAO_HORA           0\n",
              "PRECIPITACAO              0\n",
              "PRESSAO_ATMOSFERICA       0\n",
              "TEMPERATURA_DO_AR_C       0\n",
              "UMIDADE_RELATIVA_DO_AR    0\n",
              "VELOCIDADE_VENTO          0\n",
              "SK_PONTO                  0\n",
              "VL_MEDICAO                0\n",
              "dtype: int64"
            ]
          },
          "execution_count": 61,
          "metadata": {},
          "output_type": "execute_result"
        }
      ],
      "source": [
        "#verifica se existe variáveis nulas \n",
        "dataset.isna().sum()"
      ]
    },
    {
      "cell_type": "code",
      "execution_count": 62,
      "metadata": {},
      "outputs": [],
      "source": [
        "def salvar_resultado(sk_ponto, ds_best_param, MSE, RMSE, MAE, MAPE, Duration):\n",
        "  #Script to write training cycle results\n",
        "  data = [sk_ponto, ds_best_param, MSE, RMSE, MAE, MAPE, Duration]\n",
        "  fields = ['SK_PONTO','Best Params','MSE','RMSE','MAE','MAPE','Duration']\n",
        "  with open(f'{path_name_results}{file_result}', \"a\") as csv_file:\n",
        "    writer = csv.writer(csv_file,delimiter=';')\n",
        "    writer.writerow(data)  \n",
        "  print(fields)\n",
        "  print(data)\n",
        "    \n",
        "#Script to create the results file\n",
        "def criar_arquivo_resultado():\n",
        "  fields = ['SK_PONTO','Best Params','MSE','RMSE','MAE','MAPE','Duration']\n",
        "  with open(f'{path_name_results}{file_result}', \"w\") as csv_file:\n",
        "    writer = csv.writer(csv_file,delimiter=';')\n",
        "    writer.writerow(fields)    "
      ]
    },
    {
      "cell_type": "code",
      "execution_count": 63,
      "metadata": {},
      "outputs": [],
      "source": [
        "#crop date time to date \n",
        "dataset['DATA']=dataset['DT_MEDICAO_HORA'].str.split(' ').str[0]\n",
        "dataset.drop(['DT_MEDICAO_HORA'],axis=1, inplace=True)"
      ]
    },
    {
      "cell_type": "code",
      "execution_count": 64,
      "metadata": {},
      "outputs": [],
      "source": [
        "# Grouping data for Day\n",
        "# #cols = 'PRECIPITACAO':'sum','PRESSAO_ATMOSFERICA':'mean','TEMPERATURA_DO_AR_C':'mean','UMIDADE_RELATIVA_DO_AR':'mean','VELOCIDADE_VENTO':'mean','VL_MEDICAO':'sum'\n",
        "dataset = dataset.groupby(['SK_PONTO','DATA'], as_index=False).agg({'PRECIPITACAO':'sum','PRESSAO_ATMOSFERICA':'mean','TEMPERATURA_DO_AR_C':'mean','UMIDADE_RELATIVA_DO_AR':'mean','VELOCIDADE_VENTO':'mean','VL_MEDICAO':'sum'})\n",
        "#df_result.rename(columns=cols)"
      ]
    },
    {
      "cell_type": "code",
      "execution_count": 65,
      "metadata": {},
      "outputs": [],
      "source": [
        "def previsao_MLP(sk_ponto, dataset):\n",
        "  # dataframe tratament\n",
        "  df = pd.DataFrame()\n",
        "  df['VL_MEDICAO']=dataset['VL_MEDICAO']  \n",
        "\n",
        "  # time serire transform - shit 1 step time\n",
        "  seqtemp=1\n",
        "  df['vl-1']=dataset['VL_MEDICAO'].shift(seqtemp)\n",
        "  df['tp-1']=dataset['TEMPERATURA_DO_AR_C']\n",
        "  df['pr-1']=dataset['PRESSAO_ATMOSFERICA']\n",
        "  df['vv-1']=dataset['VELOCIDADE_VENTO']\n",
        "  df['ur-1']=dataset['UMIDADE_RELATIVA_DO_AR']\n",
        "  df['ch-1']=dataset['PRECIPITACAO']  \n",
        "\n",
        "  df.dropna(inplace=True)\n",
        "  \n",
        "  \n",
        "  \n",
        "  #Split dataset in treinam /  75% treinam  25% test\n",
        "  nlinhas = int(np.round(df.shape[0] *0.75)) # \n",
        "  \n",
        "  max_size_train_split = int(np.round(nlinhas / 5)) \n",
        "  max_size__test_split = int(np.round((df.shape[0] - nlinhas) / 5))\n",
        "  size_split = 5\n",
        "  X_train = df.iloc[0:nlinhas,1:7]\n",
        "  y_train = df.iloc[0:nlinhas,0].values\n",
        "\n",
        "  X_test = df.iloc[nlinhas:dataset.shape[0],1:7] \n",
        "  y_test = df.iloc[nlinhas:dataset.shape[0],0].values\n",
        "  \n",
        "  \n",
        "  # Stores the training execution start time\n",
        "  Hora_Inicio = time.time()\n",
        "  \n",
        "  from sklearn.model_selection import TimeSeriesSplit\n",
        "  # Cross-validated for time series\n",
        "  ts_cv = TimeSeriesSplit(\n",
        "      n_splits=size_split, # Number of divisions\n",
        "      max_train_size=max_size_train_split,    # maximum size of each set. of training\n",
        "      gap=2, # number of samples to exclude between each training and testing set\n",
        "      test_size=max_size__test_split, # maximum size of each set. of test.\n",
        "  )\n",
        "  param_grid = {\n",
        "      'hidden_layer_sizes': [(4,6,1),(2,6,1),(6,12,1),(6,18,1)], # MLP layers\n",
        "      'max_iter': [ 100, 150, 200], # maximum iterations\n",
        "      'activation': [ 'relu','identity'], # activation function\n",
        "      'solver': ['adam'], # weight optimization algorithm\n",
        "      'alpha': [0.0001, 0.001, 0.05],  # alpha strength of regularization\n",
        "  }\n",
        "  \n",
        "  from sklearn.neural_network import MLPRegressor\n",
        "  modelo = MLPRegressor(random_state=0)\n",
        "  \n",
        "  grid = GridSearchCV(modelo, param_grid, n_jobs= -1,scoring='neg_mean_absolute_percentage_error', cv=ts_cv, verbose=1)\n",
        "  grid.fit(np.array(X_train), np.array(y_train))\n",
        "  \n",
        "  resultado = str(grid.best_params_)\n",
        "  \n",
        "\n",
        "  predict=grid.predict(np.array(X_test))  \n",
        "\n",
        "  # Stores the training execution end time\n",
        "  Hora_Fim = time.time()  \n",
        "\n",
        "  #Calculate the duration of the training execution\n",
        "  Duracao = Hora_Fim - Hora_Inicio  \n",
        "\n",
        "  #Mean Squared Error (Mean Squared Difference Between Estimated Values and Actual Values) - MSE\n",
        "  MSE = mean_squared_error(y_test, predict)  \n",
        "\n",
        "  # Square Root of Mean Error - RMSE\n",
        "  RMSE = np.sqrt(mean_squared_error(y_test, predict))  \n",
        "\n",
        "  # Mean Absolute Distance or Mean Absolute Error - MAE\n",
        "  MAE= median_absolute_error(y_pred=predict, y_true = y_test)  \n",
        "\n",
        "  #Calculate the MAPE (Mean Absolute Percentage Error)\n",
        "  MAPE = ((np.mean(np.abs(y_test -predict) / (y_test)))) * 100   \n",
        "\n",
        "  salvar_resultado(sk_ponto, resultado, MSE, RMSE, MAE, MAPE, Duracao)"
      ]
    },
    {
      "cell_type": "code",
      "execution_count": 66,
      "metadata": {},
      "outputs": [
        {
          "name": "stdout",
          "output_type": "stream",
          "text": [
            "forecast for sk_ponto =  1\n",
            "Fitting 5 folds for each of 72 candidates, totalling 360 fits\n"
          ]
        },
        {
          "name": "stderr",
          "output_type": "stream",
          "text": [
            "c:\\Python\\lib\\site-packages\\sklearn\\neural_network\\_multilayer_perceptron.py:692: ConvergenceWarning: Stochastic Optimizer: Maximum iterations (200) reached and the optimization hasn't converged yet.\n",
            "  warnings.warn(\n"
          ]
        },
        {
          "name": "stdout",
          "output_type": "stream",
          "text": [
            "['SK_PONTO', 'Best Params', 'MSE', 'RMSE', 'MAE', 'MAPE', 'Duration']\n",
            "[1, \"{'activation': 'identity', 'alpha': 0.0001, 'hidden_layer_sizes': (6, 12, 1), 'max_iter': 200, 'solver': 'adam'}\", 4897656.338495648, 2213.0649196297086, 679.030729274391, 18.724169271767874, 22.522935152053833]\n",
            "forecast for sk_ponto =  4\n",
            "Fitting 5 folds for each of 72 candidates, totalling 360 fits\n"
          ]
        },
        {
          "name": "stderr",
          "output_type": "stream",
          "text": [
            "c:\\Python\\lib\\site-packages\\sklearn\\neural_network\\_multilayer_perceptron.py:692: ConvergenceWarning: Stochastic Optimizer: Maximum iterations (200) reached and the optimization hasn't converged yet.\n",
            "  warnings.warn(\n"
          ]
        },
        {
          "name": "stdout",
          "output_type": "stream",
          "text": [
            "['SK_PONTO', 'Best Params', 'MSE', 'RMSE', 'MAE', 'MAPE', 'Duration']\n",
            "[4, \"{'activation': 'identity', 'alpha': 0.05, 'hidden_layer_sizes': (2, 6, 1), 'max_iter': 200, 'solver': 'adam'}\", 2957203.840207362, 1719.652243974741, 359.5431522957151, 9.167545467052877, 25.230820655822754]\n",
            "forecast for sk_ponto =  5\n",
            "Fitting 5 folds for each of 72 candidates, totalling 360 fits\n"
          ]
        },
        {
          "name": "stderr",
          "output_type": "stream",
          "text": [
            "c:\\Python\\lib\\site-packages\\sklearn\\neural_network\\_multilayer_perceptron.py:692: ConvergenceWarning: Stochastic Optimizer: Maximum iterations (150) reached and the optimization hasn't converged yet.\n",
            "  warnings.warn(\n"
          ]
        },
        {
          "name": "stdout",
          "output_type": "stream",
          "text": [
            "['SK_PONTO', 'Best Params', 'MSE', 'RMSE', 'MAE', 'MAPE', 'Duration']\n",
            "[5, \"{'activation': 'identity', 'alpha': 0.0001, 'hidden_layer_sizes': (4, 6, 1), 'max_iter': 150, 'solver': 'adam'}\", 4646822.677568973, 2155.6490153939653, 770.3326044684527, 9.640894058350213, 26.010205268859863]\n",
            "forecast for sk_ponto =  6\n",
            "Fitting 5 folds for each of 72 candidates, totalling 360 fits\n",
            "['SK_PONTO', 'Best Params', 'MSE', 'RMSE', 'MAE', 'MAPE', 'Duration']\n",
            "[6, \"{'activation': 'identity', 'alpha': 0.05, 'hidden_layer_sizes': (6, 12, 1), 'max_iter': 100, 'solver': 'adam'}\", 327180.72407731105, 571.9971364240481, 204.5513760232766, 6.020905281578261, 26.879770278930664]\n",
            "forecast for sk_ponto =  7\n",
            "Fitting 5 folds for each of 72 candidates, totalling 360 fits\n"
          ]
        },
        {
          "name": "stderr",
          "output_type": "stream",
          "text": [
            "c:\\Python\\lib\\site-packages\\sklearn\\neural_network\\_multilayer_perceptron.py:692: ConvergenceWarning: Stochastic Optimizer: Maximum iterations (150) reached and the optimization hasn't converged yet.\n",
            "  warnings.warn(\n"
          ]
        },
        {
          "name": "stdout",
          "output_type": "stream",
          "text": [
            "['SK_PONTO', 'Best Params', 'MSE', 'RMSE', 'MAE', 'MAPE', 'Duration']\n",
            "[7, \"{'activation': 'identity', 'alpha': 0.0001, 'hidden_layer_sizes': (6, 12, 1), 'max_iter': 150, 'solver': 'adam'}\", 6144314.952226244, 2478.7728722547863, 1264.591174295414, 17.018839214189462, 33.80396008491516]\n",
            "forecast for sk_ponto =  8\n",
            "Fitting 5 folds for each of 72 candidates, totalling 360 fits\n"
          ]
        },
        {
          "name": "stderr",
          "output_type": "stream",
          "text": [
            "c:\\Python\\lib\\site-packages\\sklearn\\neural_network\\_multilayer_perceptron.py:692: ConvergenceWarning: Stochastic Optimizer: Maximum iterations (150) reached and the optimization hasn't converged yet.\n",
            "  warnings.warn(\n"
          ]
        },
        {
          "name": "stdout",
          "output_type": "stream",
          "text": [
            "['SK_PONTO', 'Best Params', 'MSE', 'RMSE', 'MAE', 'MAPE', 'Duration']\n",
            "[8, \"{'activation': 'identity', 'alpha': 0.0001, 'hidden_layer_sizes': (2, 6, 1), 'max_iter': 150, 'solver': 'adam'}\", 65586.73343832105, 256.09906957722643, 48.91062142014607, 2.9974694472389434, 30.939766883850098]\n",
            "forecast for sk_ponto =  9\n",
            "Fitting 5 folds for each of 72 candidates, totalling 360 fits\n"
          ]
        },
        {
          "name": "stderr",
          "output_type": "stream",
          "text": [
            "c:\\Python\\lib\\site-packages\\sklearn\\neural_network\\_multilayer_perceptron.py:692: ConvergenceWarning: Stochastic Optimizer: Maximum iterations (150) reached and the optimization hasn't converged yet.\n",
            "  warnings.warn(\n"
          ]
        },
        {
          "name": "stdout",
          "output_type": "stream",
          "text": [
            "['SK_PONTO', 'Best Params', 'MSE', 'RMSE', 'MAE', 'MAPE', 'Duration']\n",
            "[9, \"{'activation': 'identity', 'alpha': 0.05, 'hidden_layer_sizes': (6, 18, 1), 'max_iter': 150, 'solver': 'adam'}\", 855745.9607123354, 925.0653818581341, 136.4443080124638, 4.698277077441014, 20.555655241012573]\n",
            "forecast for sk_ponto =  11\n",
            "Fitting 5 folds for each of 72 candidates, totalling 360 fits\n"
          ]
        },
        {
          "name": "stderr",
          "output_type": "stream",
          "text": [
            "c:\\Python\\lib\\site-packages\\sklearn\\neural_network\\_multilayer_perceptron.py:692: ConvergenceWarning: Stochastic Optimizer: Maximum iterations (100) reached and the optimization hasn't converged yet.\n",
            "  warnings.warn(\n"
          ]
        },
        {
          "name": "stdout",
          "output_type": "stream",
          "text": [
            "['SK_PONTO', 'Best Params', 'MSE', 'RMSE', 'MAE', 'MAPE', 'Duration']\n",
            "[11, \"{'activation': 'identity', 'alpha': 0.0001, 'hidden_layer_sizes': (6, 12, 1), 'max_iter': 100, 'solver': 'adam'}\", 1808905.7476666127, 1344.9556675469316, 404.2145775078534, 4.33884415860266, 34.684731006622314]\n",
            "forecast for sk_ponto =  12\n",
            "Fitting 5 folds for each of 72 candidates, totalling 360 fits\n"
          ]
        },
        {
          "name": "stderr",
          "output_type": "stream",
          "text": [
            "c:\\Python\\lib\\site-packages\\sklearn\\neural_network\\_multilayer_perceptron.py:692: ConvergenceWarning: Stochastic Optimizer: Maximum iterations (150) reached and the optimization hasn't converged yet.\n",
            "  warnings.warn(\n"
          ]
        },
        {
          "name": "stdout",
          "output_type": "stream",
          "text": [
            "['SK_PONTO', 'Best Params', 'MSE', 'RMSE', 'MAE', 'MAPE', 'Duration']\n",
            "[12, \"{'activation': 'identity', 'alpha': 0.0001, 'hidden_layer_sizes': (2, 6, 1), 'max_iter': 150, 'solver': 'adam'}\", 664203.6736511225, 814.9869162453606, 236.02164618970846, 6.4838160267414136, 35.395771503448486]\n",
            "forecast for sk_ponto =  13\n",
            "Fitting 5 folds for each of 72 candidates, totalling 360 fits\n",
            "['SK_PONTO', 'Best Params', 'MSE', 'RMSE', 'MAE', 'MAPE', 'Duration']\n",
            "[13, \"{'activation': 'identity', 'alpha': 0.0001, 'hidden_layer_sizes': (4, 6, 1), 'max_iter': 150, 'solver': 'adam'}\", 111480720.3006183, 10558.443081279469, 2843.4736437686006, 25.921984545506856, 34.010984659194946]\n"
          ]
        }
      ],
      "source": [
        "#selects the identification points of each reservoir\n",
        "df_unique_pontos = dataset['SK_PONTO'].unique()\n",
        "\n",
        "#create file to results\n",
        "criar_arquivo_resultado()\n",
        "\n",
        "for sk in np.array(df_unique_pontos):\n",
        "    print('forecast for sk_ponto = ',sk)\n",
        "    df_ponto = dataset[dataset['SK_PONTO']==sk]\n",
        "    df_ponto = df_ponto.drop('SK_PONTO',axis=1)\n",
        "    grid = previsao_MLP(sk, df_ponto)"
      ]
    },
    {
      "cell_type": "markdown",
      "metadata": {
        "id": "MEevt86uejTw"
      },
      "source": [
        "\n"
      ]
    }
  ],
  "metadata": {
    "colab": {
      "provenance": []
    },
    "kernelspec": {
      "display_name": "Python 3.9.5 64-bit",
      "language": "python",
      "name": "python3"
    },
    "language_info": {
      "codemirror_mode": {
        "name": "ipython",
        "version": 3
      },
      "file_extension": ".py",
      "mimetype": "text/x-python",
      "name": "python",
      "nbconvert_exporter": "python",
      "pygments_lexer": "ipython3",
      "version": "3.9.5"
    },
    "vscode": {
      "interpreter": {
        "hash": "52634da84371cba311ea128a5ea7cdc41ff074b781779e754b270ff9f8153cee"
      }
    }
  },
  "nbformat": 4,
  "nbformat_minor": 0
}
