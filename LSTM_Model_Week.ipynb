{
  "cells": [
    {
      "cell_type": "code",
      "execution_count": 1,
      "metadata": {},
      "outputs": [],
      "source": [
        "#!pip install seaborn\n",
        "#!pip install openpyxl\n"
      ]
    },
    {
      "cell_type": "code",
      "execution_count": 2,
      "metadata": {
        "id": "naOfrff2U2Xy"
      },
      "outputs": [],
      "source": [
        "import pandas as pd\n",
        "import numpy as np\n",
        "import random as rd\n",
        "import time\n",
        "import csv\n",
        "import seaborn as sbs\n",
        "from sklearn.model_selection import RepeatedStratifiedKFold\n",
        "from sklearn.model_selection import train_test_split ,GridSearchCV\n",
        "from sklearn.model_selection import TimeSeriesSplit\n",
        "from tensorflow import keras\n",
        "from tensorflow.keras import layers\n",
        "from tensorflow import data\n",
        "import tensorflow as tf\n",
        "from matplotlib import pyplot\n",
        "from sklearn.metrics import mean_squared_error\n",
        "from sklearn.metrics import median_absolute_error"
      ]
    },
    {
      "cell_type": "code",
      "execution_count": 3,
      "metadata": {
        "colab": {
          "base_uri": "https://localhost:8080/"
        },
        "id": "u5iIpJyzkmkW",
        "outputId": "00380b11-657f-4c91-cbc3-1194bcb79e40"
      },
      "outputs": [],
      "source": [
        "#\n",
        "# #from google.colab import drive\n",
        "#drive.mount('/content/drive')\n",
        "file_data = 'DS_Agua_2017_2022_por_ponto.csv'\n",
        "path_name='data/'\n",
        "path_name_results='results/'\n",
        "file_result = 'Result_LSTM_Model_Week.csv'"
      ]
    },
    {
      "cell_type": "code",
      "execution_count": 4,
      "metadata": {
        "id": "JPemdWEukqf-"
      },
      "outputs": [],
      "source": [
        "dataset = pd.read_csv(f'{path_name}{file_data}', sep =';', encoding = 'latin1', decimal='.')\n"
      ]
    },
    {
      "cell_type": "code",
      "execution_count": 5,
      "metadata": {
        "colab": {
          "base_uri": "https://localhost:8080/"
        },
        "id": "AuOW4pP6kunV",
        "outputId": "de56ea6e-5f26-4114-860e-ab9db4622133"
      },
      "outputs": [
        {
          "name": "stdout",
          "output_type": "stream",
          "text": [
            "<class 'pandas.core.frame.DataFrame'>\n",
            "Int64Index: 368849 entries, 1 to 368849\n",
            "Data columns (total 8 columns):\n",
            " #   Column                  Non-Null Count   Dtype  \n",
            "---  ------                  --------------   -----  \n",
            " 0   DT_MEDICAO_HORA         368849 non-null  object \n",
            " 1   PRECIPITACAO            368849 non-null  float64\n",
            " 2   PRESSAO_ATMOSFERICA     368849 non-null  float64\n",
            " 3   TEMPERATURA_DO_AR_C     368849 non-null  float64\n",
            " 4   UMIDADE_RELATIVA_DO_AR  368849 non-null  float64\n",
            " 5   VELOCIDADE_VENTO        368849 non-null  float64\n",
            " 6   SK_PONTO                368849 non-null  int64  \n",
            " 7   VL_MEDICAO              368849 non-null  float64\n",
            "dtypes: float64(6), int64(1), object(1)\n",
            "memory usage: 25.3+ MB\n"
          ]
        }
      ],
      "source": [
        "dataset.info()"
      ]
    },
    {
      "cell_type": "code",
      "execution_count": 6,
      "metadata": {
        "colab": {
          "base_uri": "https://localhost:8080/"
        },
        "id": "6o1Ml8Hwk11N",
        "outputId": "ac509433-15e6-4ba8-9a7b-c7be83813f97"
      },
      "outputs": [
        {
          "data": {
            "text/plain": [
              "DT_MEDICAO_HORA           0\n",
              "PRECIPITACAO              0\n",
              "PRESSAO_ATMOSFERICA       0\n",
              "TEMPERATURA_DO_AR_C       0\n",
              "UMIDADE_RELATIVA_DO_AR    0\n",
              "VELOCIDADE_VENTO          0\n",
              "SK_PONTO                  0\n",
              "VL_MEDICAO                0\n",
              "dtype: int64"
            ]
          },
          "execution_count": 6,
          "metadata": {},
          "output_type": "execute_result"
        }
      ],
      "source": [
        "#verifica se existe variáveis nulas \n",
        "dataset.isna().sum()"
      ]
    },
    {
      "cell_type": "code",
      "execution_count": 7,
      "metadata": {},
      "outputs": [],
      "source": [
        "def salvar_resultado(sk_ponto, ds_best_param, n_time_steps, MSE, RMSE, MAE, MAPE, Duration):\n",
        "  #Script to write training cycle results\n",
        "  data = [sk_ponto, ds_best_param, n_time_steps, MSE, RMSE, MAE, MAPE, Duration]\n",
        "  fields = ['SK_PONTO','Best Params','N_Past_Vl','MSE','RMSE','MAE','MAPE','Duration']\n",
        "  with open(f'{path_name_results}{file_result}', \"a\",newline='') as csv_file:\n",
        "    writer = csv.writer(csv_file,delimiter=';')\n",
        "    writer.writerow(data)  \n",
        "  print(fields)\n",
        "  print(data)\n",
        "    \n",
        "#Script to create the results file\n",
        "def criar_arquivo_resultado():\n",
        "  fields = ['SK_PONTO','Best Params','N_Past_Vl','MSE','RMSE','MAE','MAPE','Duration']\n",
        "  with open(f'{path_name_results}{file_result}', \"w\",newline='') as csv_file:\n",
        "    writer = csv.writer(csv_file,delimiter=';')\n",
        "    writer.writerow(fields)    "
      ]
    },
    {
      "cell_type": "code",
      "execution_count": 8,
      "metadata": {},
      "outputs": [],
      "source": [
        "#crop date time to date \n",
        "dataset['DATA']=dataset['DT_MEDICAO_HORA'].str.split(' ').str[0]\n",
        "dataset.drop(['DT_MEDICAO_HORA'],axis=1, inplace=True)\n",
        "\n",
        "# Grouping data for Week\n",
        "\n",
        "dataset['DATA'] = pd.to_datetime(dataset['DATA']) - pd.to_timedelta(7, unit='d')\n",
        "\n",
        "dataset = dataset.groupby(['SK_PONTO',pd.Grouper(key='DATA', freq='W')], as_index=False).agg({'PRECIPITACAO':'sum','PRESSAO_ATMOSFERICA':'mean','TEMPERATURA_DO_AR_C':'mean','UMIDADE_RELATIVA_DO_AR':'mean','VELOCIDADE_VENTO':'mean','VL_MEDICAO':'sum'})\n",
        "# cols = 'PRECIPITACAO':'sum','PRESSAO_ATMOSFERICA':'mean','TEMPERATURA_DO_AR_C':'mean','UMIDADE_RELATIVA_DO_AR':'mean','VELOCIDADE_VENTO':'mean','VL_MEDICAO':'sum'\n",
        "#dataset = dataset.groupby(['SK_PONTO','DATA'], as_index=False).agg({'PRECIPITACAO':'sum','PRESSAO_ATMOSFERICA':'mean','TEMPERATURA_DO_AR_C':'mean','UMIDADE_RELATIVA_DO_AR':'mean','VELOCIDADE_VENTO':'mean','VL_MEDICAO':'sum'})\n",
        "#df_result.rename(columns=cols)"
      ]
    },
    {
      "cell_type": "code",
      "execution_count": null,
      "metadata": {},
      "outputs": [],
      "source": [
        "def previsao_LSTM(sk_ponto, dataset, n_time_steps):\n",
        "  # dataframe tratament\n",
        "  df = pd.DataFrame()\n",
        "  df['VL_MEDICAO']=dataset['VL_MEDICAO']  \n",
        "\n",
        "  # time serire transform - shit 1 step time\n",
        "\n",
        "  for n_step in range(1,n_time_steps+1,1):\n",
        "    df['vl-'+str(n_step)]=dataset['VL_MEDICAO'].shift(n_step)  \n",
        "    \n",
        "  df['tp-1']=dataset['TEMPERATURA_DO_AR_C']\n",
        "  df['pr-1']=dataset['PRESSAO_ATMOSFERICA']\n",
        "  df['vv-1']=dataset['VELOCIDADE_VENTO']\n",
        "  df['ur-1']=dataset['UMIDADE_RELATIVA_DO_AR']\n",
        "  df['ch-1']=dataset['PRECIPITACAO']  \n",
        "\n",
        "  df.dropna(inplace=True)\n",
        "  \n",
        "  \n",
        "  \n",
        "  #Split dataset in treinam /  75% treinam  25% test\n",
        "  nlinhas = int(np.round(df.shape[0] *0.75)) # \n",
        "  print('nlinhas=',nlinhas)\n",
        "  #max_size_train_split = int(np.round(nlinhas / 5)) \n",
        "  #max_size__test_split = int(np.round((df.shape[0] - nlinhas) / 5))\n",
        "  #size_split = 5\n",
        "  \n",
        "  X_train = df.iloc[0:nlinhas,1: 6 + n_time_steps]\n",
        "  y_train = df.iloc[0:nlinhas,0].values\n",
        "\n",
        "  X_test = df.iloc[nlinhas:dataset.shape[0],1: 6 + n_time_steps] \n",
        "  y_test = df.iloc[nlinhas:dataset.shape[0],0].values\n",
        "  \n",
        "  \n",
        "  # Stores the training execution start time\n",
        "  Hora_Inicio = time.time()\n",
        "  \n",
        "  \n",
        "  train_feature = np.array(X_train).reshape((X_train.shape[0], 1, X_train.shape[1])) # dados de entrada de treinamento.\n",
        "  train_label = np.array(y_train).reshape((y_train.shape[0], 1, 1)) # dado de saída esperados no treinamento.  \n",
        "  print('train_feature=',train_feature.shape)\n",
        "  N_Nos_Layer1=100  #32 #Número de neurônios do layer 1   # 64\n",
        "  N_Nos_Layer2=96   #64 # Número de neurônios do layer 2  # 128\n",
        "  N_Nos_Layer3=90   #72 # Númer ode neurônios do layer 3 \n",
        "\n",
        "  # Armazena a hora de início da execução do Treinamento\n",
        "  Hora_Inicio = time.time()\n",
        "  # Resultados para o batch size encontrados, para 100 epocas, de acordo com a variação do batch size = desta forma o batch size ideal selecionado foi o 4096, considerando que a partir desse ponto o ganho é reduzido drasticamente.\n",
        "  # 128 = 99s   1024 = 20s   2048 = 13s  4096 = 10s 8192 = 9.53s\n",
        "  batch_size = 4096\n",
        "  if(batch_size > nlinhas):\n",
        "    batch_size = nlinhas\n",
        "  train_data = data.Dataset.from_tensor_slices((train_feature, train_label))\n",
        "  train_data = train_data.repeat().batch(batch_size, drop_remainder=True)\n",
        "  EPOCAS = 200  \n",
        "\n",
        "  model = keras.Sequential()\n",
        "  model.add(layers.LSTM(N_Nos_Layer1, batch_input_shape=(batch_size, train_feature.shape[1], train_feature.shape[2]),  return_sequences=True, activation='relu'))  \n",
        "  model.add(layers.LSTM(N_Nos_Layer2, batch_input_shape=(N_Nos_Layer1, train_feature.shape[1], train_feature.shape[2]), return_sequences=True, activation='relu'))  \n",
        "  model.add(layers.Dense(N_Nos_Layer3, activation=\"relu\"))\n",
        "  model.add(layers.Dense(1))\n",
        "\n",
        "  model.compile(loss='mean_absolute_percentage_error', optimizer='adam', metrics=['mape'],run_eagerly=True)  \n",
        "\n",
        "  #model.summary()  \n",
        "  resultado=' LSTM('+ str(N_Nos_Layer1) +','+str(N_Nos_Layer2)+','+str(N_Nos_Layer3)+')'\n",
        "\n",
        "  #history = model.fit(train_feature, train_label, epochs=EPOCAS,shuffle=True,batch_size=batch_size, verbose=2)\n",
        "  steps_per_epoch = len(train_feature) // batch_size \n",
        "  print('steps_per_epoch=',steps_per_epoch)\n",
        "  history = model.fit(train_data, epochs=EPOCAS, steps_per_epoch = steps_per_epoch) \n",
        "  \n",
        "  val_feature = np.array(X_test).reshape((X_test.shape[0], 1, X_test.shape[1]))\n",
        "  val_label = np.array(y_test).reshape((y_test.shape[0], 1, 1))\n",
        "  \n",
        "  if(batch_size > X_test.shape[0] ):\n",
        "    batch_size = X_test.shape[0]\n",
        "  test_data = data.Dataset.from_tensor_slices((val_feature, val_label))\n",
        "  test_data = test_data.repeat().batch(batch_size, drop_remainder=True)\n",
        "  \n",
        "  predict = model.predict(test_data, steps=1)\n",
        "  #predict = model.predict(train_data, steps=1)\n",
        "  \n",
        "  if(val_label.shape[0] < predict.shape[0]):\n",
        "    predict=predict[0:val_label.shape[0]]\n",
        "  else:\n",
        "    val_label=val_label[0:predict.shape[0]]\n",
        "  \n",
        "  if(batch_size > predict.shape[0]):\n",
        "    batch_size = predict.shape[0]\n",
        "    \n",
        "  predict = np.array(predict).reshape(batch_size,1)\n",
        "  y_test = np.array(val_label).reshape(batch_size,1)\n",
        "\n",
        "  # Stores the training execution end time\n",
        "  Hora_Fim = time.time()  \n",
        "\n",
        "  #Calculate the duration of the training execution\n",
        "  Duracao = Hora_Fim - Hora_Inicio  \n",
        "\n",
        "  #Mean Squared Error (Mean Squared Difference Between Estimated Values and Actual Values) - MSE\n",
        "  MSE = mean_squared_error(y_test, predict)  \n",
        "\n",
        "  # Square Root of Mean Error - RMSE\n",
        "  RMSE = np.sqrt(mean_squared_error(y_test, predict))  \n",
        "\n",
        "  # Mean Absolute Distance or Mean Absolute Error - MAE\n",
        "  MAE= median_absolute_error(y_pred=predict, y_true = y_test)  \n",
        "\n",
        "  #Calculate the MAPE (Mean Absolute Percentage Error)\n",
        "  MAPE = ((np.mean(np.abs(y_test -predict) / (y_test)))) * 100   \n",
        "  \n",
        "  print('sk_ponto=',sk_ponto, 'MAPE=',MAPE)\n",
        "  \n",
        "  salvar_resultado(sk_ponto, resultado, n_time_steps, MSE, RMSE, MAE, MAPE, Duracao)"
      ]
    },
    {
      "cell_type": "code",
      "execution_count": null,
      "metadata": {},
      "outputs": [],
      "source": [
        "#selects the identification points of each reservoir\n",
        "df_unique_pontos = dataset['SK_PONTO'].unique()\n",
        "\n",
        "#create file to results\n",
        "criar_arquivo_resultado()\n",
        "\n",
        "for sk in np.array(df_unique_pontos):\n",
        "    print('forecast for sk_ponto = ',sk)\n",
        "    df_ponto = dataset[dataset['SK_PONTO']==sk]\n",
        "    df_ponto = df_ponto.drop('SK_PONTO',axis=1)\n",
        "    for n_time_steps in range(1,7): #predict with 1 to 6 past values of medition\n",
        "        grid = previsao_LSTM(sk, df_ponto, n_time_steps)"
      ]
    },
    {
      "cell_type": "markdown",
      "metadata": {
        "id": "MEevt86uejTw"
      },
      "source": [
        "\n"
      ]
    }
  ],
  "metadata": {
    "colab": {
      "provenance": []
    },
    "kernelspec": {
      "display_name": "Python 3.9.5 64-bit",
      "language": "python",
      "name": "python3"
    },
    "language_info": {
      "codemirror_mode": {
        "name": "ipython",
        "version": 3
      },
      "file_extension": ".py",
      "mimetype": "text/x-python",
      "name": "python",
      "nbconvert_exporter": "python",
      "pygments_lexer": "ipython3",
      "version": "3.9.5 (tags/v3.9.5:0a7dcbd, May  3 2021, 17:27:52) [MSC v.1928 64 bit (AMD64)]"
    },
    "vscode": {
      "interpreter": {
        "hash": "52634da84371cba311ea128a5ea7cdc41ff074b781779e754b270ff9f8153cee"
      }
    }
  },
  "nbformat": 4,
  "nbformat_minor": 0
}
