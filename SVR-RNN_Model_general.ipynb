{
  "cells": [
    {
      "cell_type": "code",
      "execution_count": 30,
      "metadata": {
        "id": "naOfrff2U2Xy"
      },
      "outputs": [],
      "source": [
        "import pandas as pd\n",
        "import numpy as np\n",
        "import random as rd\n",
        "import seaborn as sbs\n",
        "from sklearn.model_selection import cross_val_score\n",
        "from sklearn.model_selection import train_test_split, GridSearchCV\n",
        "from sklearn.svm import SVR\n",
        "from sklearn.neural_network import MLPRegressor\n",
        "from matplotlib import pyplot"
      ]
    },
    {
      "cell_type": "code",
      "execution_count": 31,
      "metadata": {
        "colab": {
          "base_uri": "https://localhost:8080/"
        },
        "id": "u5iIpJyzkmkW",
        "outputId": "c800fcbb-3ce5-4fcb-90f0-3331e8d67abb"
      },
      "outputs": [],
      "source": [
        "#from google.colab import drive\n",
        "\n",
        "#drive.mount('/content/drive')\n",
        "#arquivo = '/content/drive/MyDrive/Colab Notebooks/MAT33 IA/DS_Agua_2017_2022.csv'"
      ]
    },
    {
      "cell_type": "code",
      "execution_count": 32,
      "metadata": {},
      "outputs": [],
      "source": [
        "file_data = 'DS_Agua_2017_2022.csv'\n",
        "path_name='data/'\n",
        "arquivo = f'{path_name}{file_data}'"
      ]
    },
    {
      "cell_type": "code",
      "execution_count": 33,
      "metadata": {
        "id": "JPemdWEukqf-"
      },
      "outputs": [],
      "source": [
        "dataset = pd.read_csv(arquivo, sep =';', encoding = 'latin1', decimal='.')"
      ]
    },
    {
      "cell_type": "code",
      "execution_count": 34,
      "metadata": {
        "colab": {
          "base_uri": "https://localhost:8080/"
        },
        "id": "AuOW4pP6kunV",
        "outputId": "b320cbcd-cb8c-4c5c-ca5d-2d45ea985ca9"
      },
      "outputs": [
        {
          "name": "stdout",
          "output_type": "stream",
          "text": [
            "<class 'pandas.core.frame.DataFrame'>\n",
            "Int64Index: 45240 entries, 1 to 45240\n",
            "Data columns (total 7 columns):\n",
            " #   Column                  Non-Null Count  Dtype  \n",
            "---  ------                  --------------  -----  \n",
            " 0   DT_MEDICAO_HORA         45240 non-null  object \n",
            " 1   PRECIPITACAO            45240 non-null  float64\n",
            " 2   PRESSAO_ATMOSFERICA     45240 non-null  float64\n",
            " 3   TEMPERATURA_DO_AR_C     45240 non-null  float64\n",
            " 4   UMIDADE_RELATIVA_DO_AR  45240 non-null  float64\n",
            " 5   VELOCIDADE_VENTO        45240 non-null  float64\n",
            " 6   VL_MEDICAO              45240 non-null  float64\n",
            "dtypes: float64(6), object(1)\n",
            "memory usage: 2.8+ MB\n"
          ]
        }
      ],
      "source": [
        "dataset.info()"
      ]
    },
    {
      "cell_type": "code",
      "execution_count": 35,
      "metadata": {
        "colab": {
          "base_uri": "https://localhost:8080/"
        },
        "id": "6o1Ml8Hwk11N",
        "outputId": "be1844c7-5af6-48d6-9212-9143305c451a"
      },
      "outputs": [
        {
          "data": {
            "text/plain": [
              "DT_MEDICAO_HORA           0\n",
              "PRECIPITACAO              0\n",
              "PRESSAO_ATMOSFERICA       0\n",
              "TEMPERATURA_DO_AR_C       0\n",
              "UMIDADE_RELATIVA_DO_AR    0\n",
              "VELOCIDADE_VENTO          0\n",
              "VL_MEDICAO                0\n",
              "dtype: int64"
            ]
          },
          "execution_count": 35,
          "metadata": {},
          "output_type": "execute_result"
        }
      ],
      "source": [
        "#verifica se existe variáveis nulas \n",
        "dataset.isna().sum()"
      ]
    },
    {
      "cell_type": "code",
      "execution_count": 36,
      "metadata": {
        "colab": {
          "base_uri": "https://localhost:8080/",
          "height": 363
        },
        "id": "tWk39SDZk6q_",
        "outputId": "221b1b78-0ac9-44fa-a8cd-f8e66b48f198"
      },
      "outputs": [
        {
          "data": {
            "text/html": [
              "<div>\n",
              "<style scoped>\n",
              "    .dataframe tbody tr th:only-of-type {\n",
              "        vertical-align: middle;\n",
              "    }\n",
              "\n",
              "    .dataframe tbody tr th {\n",
              "        vertical-align: top;\n",
              "    }\n",
              "\n",
              "    .dataframe thead th {\n",
              "        text-align: right;\n",
              "    }\n",
              "</style>\n",
              "<table border=\"1\" class=\"dataframe\">\n",
              "  <thead>\n",
              "    <tr style=\"text-align: right;\">\n",
              "      <th></th>\n",
              "      <th>DT_MEDICAO_HORA</th>\n",
              "      <th>PRECIPITACAO</th>\n",
              "      <th>PRESSAO_ATMOSFERICA</th>\n",
              "      <th>TEMPERATURA_DO_AR_C</th>\n",
              "      <th>UMIDADE_RELATIVA_DO_AR</th>\n",
              "      <th>VELOCIDADE_VENTO</th>\n",
              "      <th>VL_MEDICAO</th>\n",
              "    </tr>\n",
              "  </thead>\n",
              "  <tbody>\n",
              "    <tr>\n",
              "      <th>1</th>\n",
              "      <td>2017-01-01 00:00:00</td>\n",
              "      <td>0.0</td>\n",
              "      <td>1009.5</td>\n",
              "      <td>25.9</td>\n",
              "      <td>75.0</td>\n",
              "      <td>1.3</td>\n",
              "      <td>5016.845991</td>\n",
              "    </tr>\n",
              "    <tr>\n",
              "      <th>2</th>\n",
              "      <td>2017-01-01 01:00:00</td>\n",
              "      <td>0.0</td>\n",
              "      <td>1009.6</td>\n",
              "      <td>25.7</td>\n",
              "      <td>76.0</td>\n",
              "      <td>0.9</td>\n",
              "      <td>4998.296902</td>\n",
              "    </tr>\n",
              "    <tr>\n",
              "      <th>3</th>\n",
              "      <td>2017-01-01 02:00:00</td>\n",
              "      <td>0.0</td>\n",
              "      <td>1009.2</td>\n",
              "      <td>25.6</td>\n",
              "      <td>76.0</td>\n",
              "      <td>1.1</td>\n",
              "      <td>5013.330096</td>\n",
              "    </tr>\n",
              "    <tr>\n",
              "      <th>4</th>\n",
              "      <td>2017-01-01 03:00:00</td>\n",
              "      <td>0.0</td>\n",
              "      <td>1008.4</td>\n",
              "      <td>25.9</td>\n",
              "      <td>77.0</td>\n",
              "      <td>1.7</td>\n",
              "      <td>4972.739746</td>\n",
              "    </tr>\n",
              "    <tr>\n",
              "      <th>5</th>\n",
              "      <td>2017-01-01 04:00:00</td>\n",
              "      <td>0.0</td>\n",
              "      <td>1008.1</td>\n",
              "      <td>23.7</td>\n",
              "      <td>85.0</td>\n",
              "      <td>1.7</td>\n",
              "      <td>4921.942265</td>\n",
              "    </tr>\n",
              "    <tr>\n",
              "      <th>6</th>\n",
              "      <td>2017-01-01 05:00:00</td>\n",
              "      <td>0.2</td>\n",
              "      <td>1007.5</td>\n",
              "      <td>23.7</td>\n",
              "      <td>87.0</td>\n",
              "      <td>0.4</td>\n",
              "      <td>4838.136258</td>\n",
              "    </tr>\n",
              "    <tr>\n",
              "      <th>7</th>\n",
              "      <td>2017-01-01 06:00:00</td>\n",
              "      <td>0.0</td>\n",
              "      <td>1007.3</td>\n",
              "      <td>24.2</td>\n",
              "      <td>88.0</td>\n",
              "      <td>0.5</td>\n",
              "      <td>4833.215005</td>\n",
              "    </tr>\n",
              "    <tr>\n",
              "      <th>8</th>\n",
              "      <td>2017-01-01 07:00:00</td>\n",
              "      <td>0.0</td>\n",
              "      <td>1007.3</td>\n",
              "      <td>24.2</td>\n",
              "      <td>87.0</td>\n",
              "      <td>0.7</td>\n",
              "      <td>4795.247653</td>\n",
              "    </tr>\n",
              "    <tr>\n",
              "      <th>9</th>\n",
              "      <td>2017-01-01 08:00:00</td>\n",
              "      <td>0.0</td>\n",
              "      <td>1007.7</td>\n",
              "      <td>24.7</td>\n",
              "      <td>85.0</td>\n",
              "      <td>1.0</td>\n",
              "      <td>4763.098501</td>\n",
              "    </tr>\n",
              "    <tr>\n",
              "      <th>10</th>\n",
              "      <td>2017-01-01 09:00:00</td>\n",
              "      <td>0.0</td>\n",
              "      <td>1008.5</td>\n",
              "      <td>25.1</td>\n",
              "      <td>83.0</td>\n",
              "      <td>1.2</td>\n",
              "      <td>4715.598748</td>\n",
              "    </tr>\n",
              "  </tbody>\n",
              "</table>\n",
              "</div>"
            ],
            "text/plain": [
              "        DT_MEDICAO_HORA  PRECIPITACAO  PRESSAO_ATMOSFERICA  \\\n",
              "1   2017-01-01 00:00:00           0.0               1009.5   \n",
              "2   2017-01-01 01:00:00           0.0               1009.6   \n",
              "3   2017-01-01 02:00:00           0.0               1009.2   \n",
              "4   2017-01-01 03:00:00           0.0               1008.4   \n",
              "5   2017-01-01 04:00:00           0.0               1008.1   \n",
              "6   2017-01-01 05:00:00           0.2               1007.5   \n",
              "7   2017-01-01 06:00:00           0.0               1007.3   \n",
              "8   2017-01-01 07:00:00           0.0               1007.3   \n",
              "9   2017-01-01 08:00:00           0.0               1007.7   \n",
              "10  2017-01-01 09:00:00           0.0               1008.5   \n",
              "\n",
              "    TEMPERATURA_DO_AR_C  UMIDADE_RELATIVA_DO_AR  VELOCIDADE_VENTO   VL_MEDICAO  \n",
              "1                  25.9                    75.0               1.3  5016.845991  \n",
              "2                  25.7                    76.0               0.9  4998.296902  \n",
              "3                  25.6                    76.0               1.1  5013.330096  \n",
              "4                  25.9                    77.0               1.7  4972.739746  \n",
              "5                  23.7                    85.0               1.7  4921.942265  \n",
              "6                  23.7                    87.0               0.4  4838.136258  \n",
              "7                  24.2                    88.0               0.5  4833.215005  \n",
              "8                  24.2                    87.0               0.7  4795.247653  \n",
              "9                  24.7                    85.0               1.0  4763.098501  \n",
              "10                 25.1                    83.0               1.2  4715.598748  "
            ]
          },
          "execution_count": 36,
          "metadata": {},
          "output_type": "execute_result"
        }
      ],
      "source": [
        "dataset.head(10)"
      ]
    },
    {
      "cell_type": "code",
      "execution_count": 37,
      "metadata": {
        "colab": {
          "base_uri": "https://localhost:8080/",
          "height": 520
        },
        "id": "fiXB9plPTyJD",
        "outputId": "a0b80135-0cf1-41c3-e7e1-f9d88a4d3d58"
      },
      "outputs": [
        {
          "data": {
            "text/html": [
              "<div>\n",
              "<style scoped>\n",
              "    .dataframe tbody tr th:only-of-type {\n",
              "        vertical-align: middle;\n",
              "    }\n",
              "\n",
              "    .dataframe tbody tr th {\n",
              "        vertical-align: top;\n",
              "    }\n",
              "\n",
              "    .dataframe thead th {\n",
              "        text-align: right;\n",
              "    }\n",
              "</style>\n",
              "<table border=\"1\" class=\"dataframe\">\n",
              "  <thead>\n",
              "    <tr style=\"text-align: right;\">\n",
              "      <th></th>\n",
              "      <th>VL_MEDICAO</th>\n",
              "      <th>vl-1</th>\n",
              "      <th>vl-2</th>\n",
              "      <th>vl-3</th>\n",
              "      <th>tp-n</th>\n",
              "      <th>pr-n</th>\n",
              "      <th>vv-n</th>\n",
              "      <th>ur-n</th>\n",
              "      <th>ch-n</th>\n",
              "    </tr>\n",
              "  </thead>\n",
              "  <tbody>\n",
              "    <tr>\n",
              "      <th>4</th>\n",
              "      <td>4972.739746</td>\n",
              "      <td>5013.330096</td>\n",
              "      <td>4998.296902</td>\n",
              "      <td>5016.845991</td>\n",
              "      <td>25.9</td>\n",
              "      <td>1008.4</td>\n",
              "      <td>1.7</td>\n",
              "      <td>77.0</td>\n",
              "      <td>0.0</td>\n",
              "    </tr>\n",
              "    <tr>\n",
              "      <th>5</th>\n",
              "      <td>4921.942265</td>\n",
              "      <td>4972.739746</td>\n",
              "      <td>5013.330096</td>\n",
              "      <td>4998.296902</td>\n",
              "      <td>23.7</td>\n",
              "      <td>1008.1</td>\n",
              "      <td>1.7</td>\n",
              "      <td>85.0</td>\n",
              "      <td>0.0</td>\n",
              "    </tr>\n",
              "    <tr>\n",
              "      <th>6</th>\n",
              "      <td>4838.136258</td>\n",
              "      <td>4921.942265</td>\n",
              "      <td>4972.739746</td>\n",
              "      <td>5013.330096</td>\n",
              "      <td>23.7</td>\n",
              "      <td>1007.5</td>\n",
              "      <td>0.4</td>\n",
              "      <td>87.0</td>\n",
              "      <td>0.2</td>\n",
              "    </tr>\n",
              "    <tr>\n",
              "      <th>7</th>\n",
              "      <td>4833.215005</td>\n",
              "      <td>4838.136258</td>\n",
              "      <td>4921.942265</td>\n",
              "      <td>4972.739746</td>\n",
              "      <td>24.2</td>\n",
              "      <td>1007.3</td>\n",
              "      <td>0.5</td>\n",
              "      <td>88.0</td>\n",
              "      <td>0.0</td>\n",
              "    </tr>\n",
              "    <tr>\n",
              "      <th>8</th>\n",
              "      <td>4795.247653</td>\n",
              "      <td>4833.215005</td>\n",
              "      <td>4838.136258</td>\n",
              "      <td>4921.942265</td>\n",
              "      <td>24.2</td>\n",
              "      <td>1007.3</td>\n",
              "      <td>0.7</td>\n",
              "      <td>87.0</td>\n",
              "      <td>0.0</td>\n",
              "    </tr>\n",
              "    <tr>\n",
              "      <th>9</th>\n",
              "      <td>4763.098501</td>\n",
              "      <td>4795.247653</td>\n",
              "      <td>4833.215005</td>\n",
              "      <td>4838.136258</td>\n",
              "      <td>24.7</td>\n",
              "      <td>1007.7</td>\n",
              "      <td>1.0</td>\n",
              "      <td>85.0</td>\n",
              "      <td>0.0</td>\n",
              "    </tr>\n",
              "    <tr>\n",
              "      <th>10</th>\n",
              "      <td>4715.598748</td>\n",
              "      <td>4763.098501</td>\n",
              "      <td>4795.247653</td>\n",
              "      <td>4833.215005</td>\n",
              "      <td>25.1</td>\n",
              "      <td>1008.5</td>\n",
              "      <td>1.2</td>\n",
              "      <td>83.0</td>\n",
              "      <td>0.0</td>\n",
              "    </tr>\n",
              "    <tr>\n",
              "      <th>11</th>\n",
              "      <td>4712.059896</td>\n",
              "      <td>4715.598748</td>\n",
              "      <td>4763.098501</td>\n",
              "      <td>4795.247653</td>\n",
              "      <td>26.2</td>\n",
              "      <td>1009.0</td>\n",
              "      <td>1.5</td>\n",
              "      <td>77.0</td>\n",
              "      <td>0.0</td>\n",
              "    </tr>\n",
              "    <tr>\n",
              "      <th>12</th>\n",
              "      <td>4657.193811</td>\n",
              "      <td>4712.059896</td>\n",
              "      <td>4715.598748</td>\n",
              "      <td>4763.098501</td>\n",
              "      <td>28.4</td>\n",
              "      <td>1009.5</td>\n",
              "      <td>1.6</td>\n",
              "      <td>67.0</td>\n",
              "      <td>0.0</td>\n",
              "    </tr>\n",
              "    <tr>\n",
              "      <th>13</th>\n",
              "      <td>4683.363206</td>\n",
              "      <td>4657.193811</td>\n",
              "      <td>4712.059896</td>\n",
              "      <td>4715.598748</td>\n",
              "      <td>28.7</td>\n",
              "      <td>1010.0</td>\n",
              "      <td>1.6</td>\n",
              "      <td>68.0</td>\n",
              "      <td>0.0</td>\n",
              "    </tr>\n",
              "    <tr>\n",
              "      <th>14</th>\n",
              "      <td>4699.865601</td>\n",
              "      <td>4683.363206</td>\n",
              "      <td>4657.193811</td>\n",
              "      <td>4712.059896</td>\n",
              "      <td>31.6</td>\n",
              "      <td>1010.2</td>\n",
              "      <td>1.5</td>\n",
              "      <td>57.0</td>\n",
              "      <td>0.0</td>\n",
              "    </tr>\n",
              "    <tr>\n",
              "      <th>15</th>\n",
              "      <td>4716.826297</td>\n",
              "      <td>4699.865601</td>\n",
              "      <td>4683.363206</td>\n",
              "      <td>4657.193811</td>\n",
              "      <td>31.2</td>\n",
              "      <td>1009.9</td>\n",
              "      <td>1.7</td>\n",
              "      <td>56.0</td>\n",
              "      <td>0.0</td>\n",
              "    </tr>\n",
              "    <tr>\n",
              "      <th>16</th>\n",
              "      <td>4715.140992</td>\n",
              "      <td>4716.826297</td>\n",
              "      <td>4699.865601</td>\n",
              "      <td>4683.363206</td>\n",
              "      <td>30.7</td>\n",
              "      <td>1009.5</td>\n",
              "      <td>1.4</td>\n",
              "      <td>56.0</td>\n",
              "      <td>0.0</td>\n",
              "    </tr>\n",
              "    <tr>\n",
              "      <th>17</th>\n",
              "      <td>4758.435488</td>\n",
              "      <td>4715.140992</td>\n",
              "      <td>4716.826297</td>\n",
              "      <td>4699.865601</td>\n",
              "      <td>31.8</td>\n",
              "      <td>1008.7</td>\n",
              "      <td>1.6</td>\n",
              "      <td>56.0</td>\n",
              "      <td>0.0</td>\n",
              "    </tr>\n",
              "    <tr>\n",
              "      <th>18</th>\n",
              "      <td>4721.544583</td>\n",
              "      <td>4758.435488</td>\n",
              "      <td>4715.140992</td>\n",
              "      <td>4716.826297</td>\n",
              "      <td>31.1</td>\n",
              "      <td>1008.0</td>\n",
              "      <td>1.8</td>\n",
              "      <td>58.0</td>\n",
              "      <td>0.0</td>\n",
              "    </tr>\n",
              "  </tbody>\n",
              "</table>\n",
              "</div>"
            ],
            "text/plain": [
              "     VL_MEDICAO         vl-1         vl-2         vl-3  tp-n    pr-n  vv-n  \\\n",
              "4   4972.739746  5013.330096  4998.296902  5016.845991  25.9  1008.4   1.7   \n",
              "5   4921.942265  4972.739746  5013.330096  4998.296902  23.7  1008.1   1.7   \n",
              "6   4838.136258  4921.942265  4972.739746  5013.330096  23.7  1007.5   0.4   \n",
              "7   4833.215005  4838.136258  4921.942265  4972.739746  24.2  1007.3   0.5   \n",
              "8   4795.247653  4833.215005  4838.136258  4921.942265  24.2  1007.3   0.7   \n",
              "9   4763.098501  4795.247653  4833.215005  4838.136258  24.7  1007.7   1.0   \n",
              "10  4715.598748  4763.098501  4795.247653  4833.215005  25.1  1008.5   1.2   \n",
              "11  4712.059896  4715.598748  4763.098501  4795.247653  26.2  1009.0   1.5   \n",
              "12  4657.193811  4712.059896  4715.598748  4763.098501  28.4  1009.5   1.6   \n",
              "13  4683.363206  4657.193811  4712.059896  4715.598748  28.7  1010.0   1.6   \n",
              "14  4699.865601  4683.363206  4657.193811  4712.059896  31.6  1010.2   1.5   \n",
              "15  4716.826297  4699.865601  4683.363206  4657.193811  31.2  1009.9   1.7   \n",
              "16  4715.140992  4716.826297  4699.865601  4683.363206  30.7  1009.5   1.4   \n",
              "17  4758.435488  4715.140992  4716.826297  4699.865601  31.8  1008.7   1.6   \n",
              "18  4721.544583  4758.435488  4715.140992  4716.826297  31.1  1008.0   1.8   \n",
              "\n",
              "    ur-n  ch-n  \n",
              "4   77.0   0.0  \n",
              "5   85.0   0.0  \n",
              "6   87.0   0.2  \n",
              "7   88.0   0.0  \n",
              "8   87.0   0.0  \n",
              "9   85.0   0.0  \n",
              "10  83.0   0.0  \n",
              "11  77.0   0.0  \n",
              "12  67.0   0.0  \n",
              "13  68.0   0.0  \n",
              "14  57.0   0.0  \n",
              "15  56.0   0.0  \n",
              "16  56.0   0.0  \n",
              "17  56.0   0.0  \n",
              "18  58.0   0.0  "
            ]
          },
          "execution_count": 37,
          "metadata": {},
          "output_type": "execute_result"
        }
      ],
      "source": [
        "#tratando o dataframe\n",
        "n_time_steps=3\n",
        "df = pd.DataFrame()\n",
        "df['VL_MEDICAO']=dataset['VL_MEDICAO']\n",
        "\n",
        "#transformação da série => janela deslizande com 1 passo de tempo\n",
        "for n_step in range(1,n_time_steps+1,1):\n",
        " df['vl-'+str(n_step)]=dataset['VL_MEDICAO'].shift(n_step)  \n",
        " \n",
        "df['tp-n']=dataset['TEMPERATURA_DO_AR_C']\n",
        "df['pr-n']=dataset['PRESSAO_ATMOSFERICA']\n",
        "df['vv-n']=dataset['VELOCIDADE_VENTO']\n",
        "df['ur-n']=dataset['UMIDADE_RELATIVA_DO_AR']\n",
        "df['ch-n']=dataset['PRECIPITACAO']\n",
        "\n",
        "df.dropna(inplace=True)\n",
        "df.head(15)"
      ]
    },
    {
      "cell_type": "code",
      "execution_count": 38,
      "metadata": {
        "id": "fOpVuId2pjmu"
      },
      "outputs": [],
      "source": [
        "#Cria os vetores de X e y para terinamento e teste\n",
        "vl_medicoes = df.iloc[:,0].values\n",
        "\n",
        "X = df.iloc[0:dataset.shape[0],1:6 + n_time_steps]\n",
        "\n",
        "#Definindo os datasets de treinamento e teste\n",
        "#X_train, X_test, y_train, y_test = train_test_split(X, vl_medicoes, test_size=0.1, random_state= 1)\n"
      ]
    },
    {
      "cell_type": "code",
      "execution_count": 39,
      "metadata": {
        "id": "oLr57xmBAq0_"
      },
      "outputs": [],
      "source": [
        "\n",
        "#Do total de 45239 linhas, foram separadas 75% para treinamento e 25% para teste\n",
        "nlinhas = int(np.round(X.shape[0] * 0.75)) # \n",
        "\n",
        "#nlinhas = 33929 # 75% do dataset\n",
        "X_train = df.iloc[0:nlinhas,1: 6 + n_time_steps]\n",
        "X_test = df.iloc[nlinhas:X.shape[0],1: 6 + n_time_steps]\n",
        "\n",
        "y_train = df.iloc[0:nlinhas,0].values\n",
        "y_test = df.iloc[nlinhas:X.shape[0],0].values\n"
      ]
    },
    {
      "cell_type": "code",
      "execution_count": 40,
      "metadata": {
        "colab": {
          "base_uri": "https://localhost:8080/"
        },
        "id": "IYAJ5BpMzkVU",
        "outputId": "654c5698-afa5-442d-86a2-71814d7117ee"
      },
      "outputs": [
        {
          "name": "stdout",
          "output_type": "stream",
          "text": [
            "Fitting 5 folds for each of 27 candidates, totalling 135 fits\n"
          ]
        }
      ],
      "source": [
        "from sklearn.model_selection import TimeSeriesSplit\n",
        "# Validador cruzado para séries temporais para 5 conjuntos de dados\n",
        "ts_cv = TimeSeriesSplit(\n",
        "    n_splits=5, # Número de divisões \n",
        "    max_train_size=6785,    # tamanho máximo de cada conj. de treinamento\n",
        "    gap=2, # número de amostras a serem excluídas entre cada conjunto de treinamento e teste\n",
        "    test_size=2261, # tamanho máximo de cada conj. de teste.\n",
        ")\n",
        "C = [ 1000, 10000,100000] # Parâmetro de regularização\n",
        "gamma = [0.0000001, 0.000001, 0.00000001] # Coeficiente da função kernel  \n",
        "epsilon = [0.001, 0.0001, 0.00001]\n",
        "hyper_params = [{'kernel': ['rbf'],'C': C, 'gamma':gamma, 'epsilon':epsilon}]  \n",
        "\n",
        "modelo = SVR()\n",
        "grid = GridSearchCV(modelo,param_grid=hyper_params,verbose=20,n_jobs=-4,cv=ts_cv)\n",
        "                   #scoring='neg_mean_absolute_percentage_error')\n",
        "grid.fit(X_train, y_train)"
      ]
    },
    {
      "cell_type": "code",
      "execution_count": null,
      "metadata": {
        "colab": {
          "base_uri": "https://localhost:8080/"
        },
        "id": "s2uGKHy-7J3Q",
        "outputId": "d8493fc8-7f41-4107-93fd-85060336e83f"
      },
      "outputs": [
        {
          "name": "stdout",
          "output_type": "stream",
          "text": [
            "{'C': 100000, 'epsilon': 1e-05, 'gamma': 1e-08, 'kernel': 'rbf'}\n"
          ]
        }
      ],
      "source": [
        "print(grid.best_params_) "
      ]
    },
    {
      "cell_type": "code",
      "execution_count": null,
      "metadata": {
        "colab": {
          "base_uri": "https://localhost:8080/"
        },
        "id": "GAX-Pi3Y6z_v",
        "outputId": "cde8b3c2-0d5a-4661-e6f4-9b824e186288"
      },
      "outputs": [
        {
          "name": "stdout",
          "output_type": "stream",
          "text": [
            "Melhor score: 0.6232780393815031\n",
            "Melhor Kernel: rbf\n",
            "Melhor Gamma: 1e-08\n",
            "Melhor C: 100000\n"
          ]
        }
      ],
      "source": [
        "print('Melhor score:', grid.best_score_)\n",
        "print('Melhor Kernel:',grid.best_estimator_.kernel)\n",
        "print('Melhor Gamma:',grid.best_estimator_.gamma)\n",
        "print('Melhor C:',grid.best_estimator_.C) "
      ]
    },
    {
      "cell_type": "code",
      "execution_count": null,
      "metadata": {
        "id": "TdgIaeqv9G4P"
      },
      "outputs": [
        {
          "data": {
            "text/plain": [
              "array([8507.56992738, 8566.02041217, 8338.49363284, ..., 8663.00325362,\n",
              "       9073.78089987, 9046.1888716 ])"
            ]
          },
          "execution_count": 14,
          "metadata": {},
          "output_type": "execute_result"
        }
      ],
      "source": [
        "predict=grid.predict(X_test)\n",
        "predict"
      ]
    },
    {
      "cell_type": "code",
      "execution_count": null,
      "metadata": {
        "id": "sTQllcxAXyNU"
      },
      "outputs": [],
      "source": [
        "#Estimate Et for treinam and test\n",
        "# For treinam data\n",
        "Lt_train = grid.predict(X_train)\n",
        "Yt_train = y_train\n",
        "Et_train = Yt_train - Lt_train\n",
        "\n",
        "# For test data\n",
        "Lt_test = predict\n",
        "Yt_test = y_test\n",
        "Et_test = Yt_test - Lt_test"
      ]
    },
    {
      "cell_type": "code",
      "execution_count": null,
      "metadata": {},
      "outputs": [
        {
          "data": {
            "text/plain": [
              "3.319429893123213"
            ]
          },
          "execution_count": 16,
          "metadata": {},
          "output_type": "execute_result"
        }
      ],
      "source": [
        "# MAPE statistics for test data\n",
        "((np.mean(np.abs(Yt_test - Lt_test) / (Yt_test)))) * 100"
      ]
    },
    {
      "cell_type": "code",
      "execution_count": null,
      "metadata": {},
      "outputs": [
        {
          "data": {
            "text/plain": [
              "2.4860142953804063"
            ]
          },
          "execution_count": 17,
          "metadata": {},
          "output_type": "execute_result"
        }
      ],
      "source": [
        "# MAPE statistics for treinam data\n",
        "((np.mean(np.abs(Yt_train - Lt_train) / (Yt_train)))) * 100"
      ]
    },
    {
      "cell_type": "code",
      "execution_count": null,
      "metadata": {},
      "outputs": [],
      "source": [
        "#create  dataframe of Et value\n",
        "df_Et = pd.DataFrame(Et_train, columns=['VL_Et'])\n",
        "\n",
        "for n_step in range(1,n_time_steps+1,1):\n",
        "    df_Et['vl-'+str(n_step)]=df_Et['VL_Et'].shift(n_step)  \n",
        "\n",
        "#drop rows with null values\n",
        "df_Et.dropna(inplace=True)\n",
        "\n",
        "Nt_train = df_Et['VL_Et']\n",
        "\n",
        "df_Et.drop(['VL_Et'],axis=1, inplace=True)\n",
        "\n",
        "X_train = df_Et\n",
        "y_train = Nt_train"
      ]
    },
    {
      "cell_type": "code",
      "execution_count": null,
      "metadata": {
        "id": "98J1xo_7qkgF"
      },
      "outputs": [
        {
          "name": "stdout",
          "output_type": "stream",
          "text": [
            "Fitting 5 folds for each of 24 candidates, totalling 120 fits\n"
          ]
        }
      ],
      "source": [
        "from tensorflow import keras\n",
        "from tensorflow.keras import layers\n",
        "from tensorflow import data\n",
        "\n",
        "# MLP model for hybrid prediction for non linear component Et_train \n",
        "\n",
        "#Split dataset in treinam /  75% treinam  25% test\n",
        "nlinhas = int(np.round(X_train.shape[0] * 0.75)) # \n",
        "  \n",
        "max_size_train_split = int(np.round(nlinhas / 5)) \n",
        "max_size__test_split = int(np.round((X_train.shape[0] - nlinhas) / 5))\n",
        "size_split = 5\n",
        "  \n",
        "# Cross-validated for time series\n",
        "ts_cv_mlp = TimeSeriesSplit(\n",
        "      n_splits=size_split, # Number of divisions\n",
        "      max_train_size=max_size_train_split,    # maximum size of each set. of training\n",
        "      gap=2, # number of samples to exclude between each training and testing set\n",
        "      test_size=max_size__test_split, # maximum size of each set. of test.\n",
        ")\n",
        "\n",
        "param_grid = {\n",
        "     'hidden_layer_sizes': [(4,6,1),(2,6,1),(6,12,1),(6,18,1)], # MLP layers\n",
        "     'max_iter': [ 500], # maximum iterations\n",
        "     'activation': [ 'relu','identity'], # activation function\n",
        "     'solver': ['adam'], # weight optimization algorithm\n",
        "     'alpha': [0.0001, 0.001, 0.01],  # alpha strength of regularization\n",
        "}\n",
        "  \n",
        "#modelo = MLPRegressor(random_state=0)\n",
        "model = Sequential()\n",
        "model.add(SimpleRNN(hidden_units, input_shape=input_shape, \n",
        "                        activation=activation[0]))\n",
        "model.add(Dense(units=dense_units, activation=activation[1]))\n",
        "    model.compile(loss='mean_squared_error', optimizer='adam')\n",
        "    return model\n",
        "\n",
        "grid_mlp = GridSearchCV(modelo, param_grid, n_jobs= -1,scoring='neg_mean_absolute_percentage_error', cv=ts_cv_mlp, verbose=1)\n",
        "grid_mlp.fit(np.array(X_train), np.array(y_train))\n",
        "\n",
        "resultado = str(grid.best_params_)"
      ]
    },
    {
      "cell_type": "code",
      "execution_count": null,
      "metadata": {},
      "outputs": [
        {
          "name": "stderr",
          "output_type": "stream",
          "text": [
            "c:\\Python\\lib\\site-packages\\sklearn\\base.py:443: UserWarning: X has feature names, but MLPRegressor was fitted without feature names\n",
            "  warnings.warn(\n"
          ]
        },
        {
          "data": {
            "text/plain": [
              "176.17760618927858"
            ]
          },
          "execution_count": 20,
          "metadata": {},
          "output_type": "execute_result"
        }
      ],
      "source": [
        "#MAPE to Et predicted on MLP Model\n",
        "predict=grid_mlp.predict(X_train)  \n",
        "((np.mean(np.abs(y_train - predict) / (y_train)))) * 100"
      ]
    },
    {
      "cell_type": "code",
      "execution_count": null,
      "metadata": {},
      "outputs": [
        {
          "data": {
            "text/plain": [
              "2.4931560386218705"
            ]
          },
          "execution_count": 21,
          "metadata": {},
          "output_type": "execute_result"
        }
      ],
      "source": [
        "# Recomposition of Nt + Lt form train data\n",
        "Lt_train2 = Lt_train[n_time_steps:len(Lt_train)]\n",
        "Yt_train2 = Yt_train[n_time_steps:len(Yt_train)]\n",
        "Yt_train_predicted = predict + Lt_train2\n",
        "((np.mean(np.abs(Yt_train2 - Yt_train_predicted) / (Yt_train2)))) * 100"
      ]
    },
    {
      "cell_type": "code",
      "execution_count": null,
      "metadata": {},
      "outputs": [],
      "source": [
        "y_test = Yt_train2\n",
        "predict = Yt_train_predicted"
      ]
    },
    {
      "cell_type": "code",
      "execution_count": null,
      "metadata": {
        "id": "1fSF564GWKfk"
      },
      "outputs": [
        {
          "data": {
            "image/png": "[encoded data removed]",
            "text/plain": [
              "<Figure size 720x504 with 1 Axes>"
            ]
          },
          "metadata": {
            "needs_background": "light"
          },
          "output_type": "display_data"
        }
      ],
      "source": [
        "#O gráfico abaixo mostra os valores reais em preto e os valores prditos em azul\n",
        "npredicts=1000\n",
        "pyplot.figure(figsize=(10,7)) \n",
        "pyplot.scatter(np.arange(0,y_test.shape[0],1)[0:npredicts],np.array(y_test)[0:npredicts], color = 'black')\n",
        "pyplot.plot(np.arange(0,predict.shape[0],1)[0:npredicts], np.array(predict)[0:npredicts], color = 'blue', linewidth=2)\n",
        "pyplot.xlabel('n seq.')\n",
        "pyplot.ylabel('consumo l/h')\n",
        "pyplot.show()"
      ]
    },
    {
      "cell_type": "code",
      "execution_count": null,
      "metadata": {},
      "outputs": [
        {
          "name": "stdout",
          "output_type": "stream",
          "text": [
            "MAPE 3.3811686878982563  MAPE_Nt_test 126.7515475432811\n"
          ]
        },
        {
          "name": "stderr",
          "output_type": "stream",
          "text": [
            "c:\\Python\\lib\\site-packages\\sklearn\\base.py:443: UserWarning: X has feature names, but MLPRegressor was fitted without feature names\n",
            "  warnings.warn(\n"
          ]
        }
      ],
      "source": [
        "# For test data\n",
        "#Lt_test = predict\n",
        "#Yt_test = y_test\n",
        "#Et_test = Yt_test - Lt_test\n",
        "\n",
        "\n",
        "#create  dataframe of Et value\n",
        "df_Et = pd.DataFrame(Et_test, columns=['VL_Et'])\n",
        "\n",
        "for n_step in range(1,n_time_steps+1,1):\n",
        "    df_Et['vl-'+str(n_step)]=df_Et['VL_Et'].shift(n_step)  \n",
        "\n",
        "#drop rows with null values\n",
        "df_Et.dropna(inplace=True)\n",
        "\n",
        "Nt_test = df_Et['VL_Et']\n",
        "\n",
        "df_Et.drop(['VL_Et'],axis=1, inplace=True)\n",
        "\n",
        "X_test = df_Et\n",
        "y_test = Nt_test\n",
        "\n",
        "#MAPE to Et predicted on MLP Model\n",
        "predict=grid_mlp.predict(X_test)  \n",
        "MAPE_Nt_test = ((np.mean(np.abs(y_test - predict) / (y_test)))) * 100\n",
        "\n",
        "# Recomposition of Nt + Lt form test data\n",
        "Lt_test2 = Lt_test[n_time_steps:len(Lt_test)]\n",
        "Yt_test2 = Yt_test[n_time_steps:len(Yt_test)]\n",
        "Yt_test_predicted = predict + Lt_test2\n",
        "MAPE = ((np.mean(np.abs(Yt_test2 - Yt_test_predicted) / (Yt_test2)))) * 100\n",
        "print('MAPE',MAPE, ' MAPE_Nt_test',MAPE_Nt_test)"
      ]
    },
    {
      "cell_type": "code",
      "execution_count": null,
      "metadata": {},
      "outputs": [],
      "source": [
        "y_test = Yt_test2\n",
        "predict = Yt_test_predicted"
      ]
    },
    {
      "cell_type": "code",
      "execution_count": null,
      "metadata": {
        "id": "lrOIc2BMzHTq"
      },
      "outputs": [
        {
          "data": {
            "text/plain": [
              "269834.3326230365"
            ]
          },
          "execution_count": 26,
          "metadata": {},
          "output_type": "execute_result"
        }
      ],
      "source": [
        "#Validação dos resultados\n",
        "\n",
        "from sklearn.metrics import r2_score\n",
        "from sklearn.metrics import mean_squared_error\n",
        "from sklearn.metrics import median_absolute_error\n",
        "\n",
        "#Erro médio quadrático  (diferença quadrática média entre os valores estimados e valores reais) - MSE\n",
        "mean_squared_error(y_test, predict)\n"
      ]
    },
    {
      "cell_type": "code",
      "execution_count": null,
      "metadata": {
        "colab": {
          "base_uri": "https://localhost:8080/"
        },
        "id": "1avF4QT7q2lq",
        "outputId": "6da73db3-e9d7-4f96-d6bd-2c7cb0cc66ed"
      },
      "outputs": [
        {
          "data": {
            "text/plain": [
              "519.4558043019988"
            ]
          },
          "execution_count": 27,
          "metadata": {},
          "output_type": "execute_result"
        }
      ],
      "source": [
        "#Raiz quadrada do Erro médio - RMSE\n",
        "np.sqrt(mean_squared_error(y_test, predict))\n"
      ]
    },
    {
      "cell_type": "code",
      "execution_count": null,
      "metadata": {
        "id": "JYVQE60rRAO8"
      },
      "outputs": [
        {
          "data": {
            "text/plain": [
              "128.65000777800196"
            ]
          },
          "execution_count": 28,
          "metadata": {},
          "output_type": "execute_result"
        }
      ],
      "source": [
        "#Distância absoluta média ou Erro médio absoluto - MAE\n",
        "median_absolute_error(y_pred=predict, y_true = y_test)\n"
      ]
    },
    {
      "cell_type": "code",
      "execution_count": null,
      "metadata": {
        "colab": {
          "base_uri": "https://localhost:8080/"
        },
        "id": "cRyP4OCeYdgK",
        "outputId": "2843078d-653b-42f4-a492-d5f5bd95580f"
      },
      "outputs": [
        {
          "data": {
            "text/plain": [
              "3.3811686878982563"
            ]
          },
          "execution_count": 29,
          "metadata": {},
          "output_type": "execute_result"
        }
      ],
      "source": [
        "#Calcular o MAPE (Erro médio percentual absoluto)\n",
        "MAPE = ((np.mean(np.abs(y_test -predict) / (y_test)))) * 100\n",
        "MAPE"
      ]
    }
  ],
  "metadata": {
    "colab": {
      "provenance": []
    },
    "kernelspec": {
      "display_name": "Python 3",
      "language": "python",
      "name": "python3"
    },
    "language_info": {
      "codemirror_mode": {
        "name": "ipython",
        "version": 3
      },
      "file_extension": ".py",
      "mimetype": "text/x-python",
      "name": "python",
      "nbconvert_exporter": "python",
      "pygments_lexer": "ipython3",
      "version": "3.9.5 (tags/v3.9.5:0a7dcbd, May  3 2021, 17:27:52) [MSC v.1928 64 bit (AMD64)]"
    },
    "vscode": {
      "interpreter": {
        "hash": "52634da84371cba311ea128a5ea7cdc41ff074b781779e754b270ff9f8153cee"
      }
    }
  },
  "nbformat": 4,
  "nbformat_minor": 0
}
